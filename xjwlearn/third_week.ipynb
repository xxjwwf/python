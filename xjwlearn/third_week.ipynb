{
 "cells": [
  {
   "cell_type": "code",
   "execution_count": 8,
   "metadata": {},
   "outputs": [],
   "source": [
    "b4=bytes(range(65,68))"
   ]
  },
  {
   "cell_type": "code",
   "execution_count": 9,
   "metadata": {},
   "outputs": [
    {
     "data": {
      "text/plain": [
       "b'ABC'"
      ]
     },
     "execution_count": 9,
     "metadata": {},
     "output_type": "execute_result"
    }
   ],
   "source": [
    "b4"
   ]
  },
  {
   "cell_type": "markdown",
   "metadata": {},
   "source": []
  },
  {
   "cell_type": "code",
   "execution_count": 11,
   "metadata": {},
   "outputs": [],
   "source": [
    "# ASCII码，这部分需要背，大小写字母\n",
    "#     16进制：\n",
    "#         31，表示1\n",
    "#         41，表示A\n",
    "#         61，表示a\n",
    "#     10进制：\n",
    "#         49表示1\n",
    "#         65表示A\n",
    "#         97表示a"
   ]
  },
  {
   "cell_type": "code",
   "execution_count": 22,
   "metadata": {
    "scrolled": false
   },
   "outputs": [
    {
     "name": "stdout",
     "output_type": "stream",
     "text": [
      "b'\\xe5\\x95\\x8a'\n",
      "b'\\xb0\\xa1'\n",
      "b'ABC'\n"
     ]
    }
   ],
   "source": [
    "print('啊'.encode('utf-8')) ##汉字为双字节编码\n",
    "print('啊'.encode('gbk'))\n",
    "print('ABC'.encode('gbk'))"
   ]
  },
  {
   "cell_type": "code",
   "execution_count": 13,
   "metadata": {},
   "outputs": [],
   "source": [
    "bytes?"
   ]
  },
  {
   "cell_type": "code",
   "execution_count": 36,
   "metadata": {},
   "outputs": [],
   "source": [
    "# utf-8\n",
    "# unicode\n",
    "# 使用编码来提取日志？\n"
   ]
  },
  {
   "cell_type": "code",
   "execution_count": 38,
   "metadata": {},
   "outputs": [
    {
     "data": {
      "text/plain": [
       "b'abc'"
      ]
     },
     "execution_count": 38,
     "metadata": {},
     "output_type": "execute_result"
    }
   ],
   "source": [
    "bytes(5)\n",
    "b'abc'"
   ]
  },
  {
   "cell_type": "code",
   "execution_count": 35,
   "metadata": {},
   "outputs": [
    {
     "name": "stdout",
     "output_type": "stream",
     "text": [
      "140711570206992\n",
      "140711570206992\n"
     ]
    }
   ],
   "source": [
    "l3=[[1]] \n",
    "l4 = l3[:]   #切片的本质就是浅拷贝\n",
    "print(id(l3[0][0]))\n",
    "print(id(l4[0][0]))"
   ]
  },
  {
   "cell_type": "code",
   "execution_count": 37,
   "metadata": {},
   "outputs": [
    {
     "name": "stdout",
     "output_type": "stream",
     "text": [
      "<class 'tuple'>\n",
      "<class 'tuple'>\n"
     ]
    }
   ],
   "source": [
    "t1 = 1, 2\n",
    "print(type(t1)) # 什么类型\n",
    "t2 = (1, 2)\n",
    "print(type(t2))"
   ]
  },
  {
   "cell_type": "code",
   "execution_count": 41,
   "metadata": {},
   "outputs": [],
   "source": [
    "_,a,_,b,*_,c,_ =range(10)"
   ]
  },
  {
   "cell_type": "code",
   "execution_count": 42,
   "metadata": {},
   "outputs": [
    {
     "data": {
      "text/plain": [
       "(1, 3, 8)"
      ]
     },
     "execution_count": 42,
     "metadata": {},
     "output_type": "execute_result"
    }
   ],
   "source": [
    "a,b,c"
   ]
  },
  {
   "cell_type": "code",
   "execution_count": 57,
   "metadata": {},
   "outputs": [
    {
     "data": {
      "text/plain": [
       "{'a': 1, 'b': 1, 'x': 1, 'd': 1}"
      ]
     },
     "execution_count": 57,
     "metadata": {},
     "output_type": "execute_result"
    }
   ],
   "source": [
    "d4=dict.fromkeys('abxd',1)\n",
    "d4"
   ]
  },
  {
   "cell_type": "code",
   "execution_count": 46,
   "metadata": {},
   "outputs": [],
   "source": [
    "d6 = dict([('a', 100), ['b', 200], (1, 'abc')], b=300, c=400)"
   ]
  },
  {
   "cell_type": "code",
   "execution_count": 73,
   "metadata": {},
   "outputs": [],
   "source": [
    "d1=dict({'a':100},)       ##为啥"
   ]
  },
  {
   "cell_type": "code",
   "execution_count": 72,
   "metadata": {},
   "outputs": [
    {
     "data": {
      "text/plain": [
       "{'a': 100}"
      ]
     },
     "execution_count": 72,
     "metadata": {},
     "output_type": "execute_result"
    }
   ],
   "source": [
    "dict((['a',100],))  #为啥"
   ]
  },
  {
   "cell_type": "code",
   "execution_count": 75,
   "metadata": {},
   "outputs": [],
   "source": [
    "set?"
   ]
  },
  {
   "cell_type": "code",
   "execution_count": 81,
   "metadata": {},
   "outputs": [
    {
     "data": {
      "text/plain": [
       "{}"
      ]
     },
     "execution_count": 81,
     "metadata": {},
     "output_type": "execute_result"
    }
   ],
   "source": [
    "## 使用for循环对字典进行循环时，如果字典的长度发生了变化，会报错\n",
    "d1={\n",
    "    a:123,\n",
    "    b:234,\n",
    "    c:'a'\n",
    "}\n",
    "# for k in d1.keys():\n",
    "#     if not isinstance(k,str):\n",
    "#         d1.pop(k)\n",
    "while len(d1):\n",
    "     d1.popitem()\n",
    "d1\n",
    "\n",
    "\n",
    "\n",
    "#如果删除某个符合条件的key-value\n",
    "keys=[] #使用临时列表来存储符合条件的key\n",
    "for k,v in d1.items():\n",
    "    if v>100:\n",
    "        keys.append(k)\n",
    "\n",
    "for k in keys:  ##遍历列表\n",
    "    d1.pop(k)\n",
    "        "
   ]
  },
  {
   "cell_type": "code",
   "execution_count": 94,
   "metadata": {},
   "outputs": [],
   "source": [
    "\n",
    "# %%timeit\n",
    "L1=list(range(10))         #列表解析式，效率很高\n",
    "L2=list([x*2 for x in L1])"
   ]
  },
  {
   "cell_type": "code",
   "execution_count": 95,
   "metadata": {},
   "outputs": [
    {
     "data": {
      "text/plain": [
       "[0, 2, 4, 6, 8, 10, 12, 14, 16, 18]"
      ]
     },
     "execution_count": 95,
     "metadata": {},
     "output_type": "execute_result"
    }
   ],
   "source": [
    "L2"
   ]
  },
  {
   "cell_type": "code",
   "execution_count": 98,
   "metadata": {},
   "outputs": [
    {
     "data": {
      "text/plain": [
       "[0, 2, 4, 6, 8, 10]"
      ]
     },
     "execution_count": 98,
     "metadata": {},
     "output_type": "execute_result"
    }
   ],
   "source": [
    "L1=list(range(11))\n",
    "[x for x in L1 if x%2 == 0]"
   ]
  },
  {
   "cell_type": "code",
   "execution_count": 102,
   "metadata": {},
   "outputs": [
    {
     "data": {
      "text/plain": [
       "[('a', 1), ('b', 200)]"
      ]
     },
     "execution_count": 102,
     "metadata": {},
     "output_type": "execute_result"
    }
   ],
   "source": [
    "d1={'a':1,'b':200,1:300}\n",
    "[item for item in  d1.items() if isinstance(item[0],str)]"
   ]
  },
  {
   "cell_type": "code",
   "execution_count": 104,
   "metadata": {},
   "outputs": [
    {
     "data": {
      "text/plain": [
       "[(1, 300)]"
      ]
     },
     "execution_count": 104,
     "metadata": {},
     "output_type": "execute_result"
    }
   ],
   "source": [
    "d1={'a':1,'b':200,1:300}\n",
    "[item for item in  d1.items() if item[1] > 200]"
   ]
  },
  {
   "cell_type": "code",
   "execution_count": 106,
   "metadata": {},
   "outputs": [
    {
     "data": {
      "text/plain": [
       "[(4, 1), (4, 2), (5, 1), (5, 2), (6, 1), (6, 2)]"
      ]
     },
     "execution_count": 106,
     "metadata": {},
     "output_type": "execute_result"
    }
   ],
   "source": [
    "[(i,j) for i in range(10) for j in range(10) if  3<i<7 if  1<=j<3]"
   ]
  },
  {
   "cell_type": "code",
   "execution_count": 107,
   "metadata": {},
   "outputs": [
    {
     "data": {
      "text/plain": [
       "{'0': 3, '1': 3, '2': 3}"
      ]
     },
     "execution_count": 107,
     "metadata": {},
     "output_type": "execute_result"
    }
   ],
   "source": [
    "{str(x):y for x in range(3) for y in range(4)} # 输出多少个元素？"
   ]
  },
  {
   "cell_type": "code",
   "execution_count": null,
   "metadata": {},
   "outputs": [],
   "source": []
  },
  {
   "cell_type": "code",
   "execution_count": 14,
   "metadata": {},
   "outputs": [
    {
     "name": "stdout",
     "output_type": "stream",
     "text": [
      "[5, 13, 25, 18, 7, 15, 25, 15]\n"
     ]
    }
   ],
   "source": [
    "# lst = [1,4,9,16,2,5,10,15]\n",
    "# lst_new=[]\n",
    "# for i in range(len(lst)):\n",
    "#     if i < len(lst)-1:\n",
    "#         lst_new+=[lst[i]+lst[i+1]]\n",
    "#     else:\n",
    "#         lst_new+=[lst[i]]\n",
    "# print(lst_new)\n",
    "\n",
    "\n",
    "\n",
    "lst = [1,4,9,16,2,5,10,15]\n",
    "lst_new=[]\n",
    "for i in range(len(lst)):\n",
    "    if i < len(lst)-1:\n",
    "        lst_new.append(lst[i]+lst[i+1])\n",
    "    else:\n",
    "        lst_new.append(lst[i])\n",
    "print(lst_new)"
   ]
  },
  {
   "cell_type": "code",
   "execution_count": 62,
   "metadata": {},
   "outputs": [
    {
     "name": "stdout",
     "output_type": "stream",
     "text": [
      "4 2\n",
      "5 2\n",
      "7 2\n",
      "8 2\n",
      "9 2\n",
      "13 1\n",
      "15 3\n",
      "17 3\n",
      "18 1\n",
      "21 2\n",
      "(17, 3) (4, 2) (5, 2)\n"
     ]
    }
   ],
   "source": [
    "#计算每个元素的重复次数，计算重复次数之和是否等于20\n",
    "#把列表元素赋值给集合，然后根据集合来计算元素重复次数\n",
    "#使用字典来统计？\n",
    "#注意update的用法，使用列表的方式好像是覆盖式添加的\n",
    "import random\n",
    "lst=[]            #元素列表\n",
    "dict_top={}       #元素重复次数的列表\n",
    "top=[]           #排名\n",
    "for i in range(20):\n",
    "    lst+=[random.randint(1,21)]\n",
    "set_new=set(lst)          #将元素赋值给集合，然后根据集合求重复次数\n",
    "for j in set_new:\n",
    "    print(j,lst.count(j))\n",
    "    dict_top[j]=lst.count(j)\n",
    "top=list(sorted(dict_top.items(),key=lambda d:d[1],reverse=True))  ##根据字典的value排序\n",
    "print(top[1],top[2],top[3])\n",
    "    \n",
    "   \n",
    "    "
   ]
  },
  {
   "cell_type": "code",
   "execution_count": 37,
   "metadata": {},
   "outputs": [
    {
     "name": "stdout",
     "output_type": "stream",
     "text": [
      "000001.exryafhpzs\n",
      "000002.dtpjrczhqx\n",
      "000003.declsxphzw\n",
      "000004.zkivyjlwos\n",
      "000005.dqtjnxcefg\n",
      "000006.mnkjxibdqf\n",
      "000007.rkiayuhwcs\n",
      "000008.dsbuotycjf\n",
      "000009.sjibfetlcp\n",
      "000010.ykpzslvtrx\n",
      "000011.oarxjhzpkf\n",
      "000012.xmbcqarenz\n",
      "000013.rlqpsdbhtx\n",
      "000014.jrmdvnxgls\n",
      "000015.iukwbogzny\n",
      "000016.bnqfyphais\n",
      "000017.puazhgowkm\n",
      "000018.qujeywvfsk\n",
      "000019.eftvuxkjcq\n",
      "000020.rlhosyvwjx\n",
      "000021.lvazhomjnr\n",
      "000022.aifexulnhq\n",
      "000023.wnpfbdcuys\n",
      "000024.tlansqzike\n",
      "000025.yaujxrwsen\n",
      "000026.lahuftczds\n",
      "000027.lkfbqnczwi\n",
      "000028.seqlngdhuk\n",
      "000029.xodriakqfn\n",
      "000030.lmcjzhvdis\n",
      "000031.bwjepcgntm\n",
      "000032.sdqalxnkcg\n",
      "000033.cykzguqfls\n",
      "000034.numfvhrgke\n",
      "000035.dhlziwcgjo\n",
      "000036.giycavhmez\n",
      "000037.ajdmltkngs\n",
      "000038.vhiunmkobf\n",
      "000039.wkmblvsjdt\n",
      "000040.flswchbtxu\n",
      "000041.omqrnbuviy\n",
      "000042.efxhylukri\n",
      "000043.uadgvzsjex\n",
      "000044.hdrpuebkiz\n",
      "000045.poctuhwbsn\n",
      "000046.mqkhducjsp\n",
      "000047.hefvxybkrg\n",
      "000048.rjgbfpvaqd\n",
      "000049.bskdzxeloh\n",
      "000050.iwdhgzqlev\n",
      "000051.vbcajforln\n",
      "000052.psdkflmrto\n",
      "000053.rclijwtdva\n",
      "000054.ocrshgpdnt\n",
      "000055.uqnrsvlcgk\n",
      "000056.rjinylwqhg\n",
      "000057.qefjyulczs\n",
      "000058.nitfxhzcgs\n",
      "000059.acqdlvyrgo\n",
      "000060.jzvxuetcwp\n",
      "000061.mexdypqkbn\n",
      "000062.qbgnrxzcyo\n",
      "000063.jogdxnskwq\n",
      "000064.swyrkoutjc\n",
      "000065.kcgfwboqta\n",
      "000066.fmwodyglcj\n",
      "000067.szmgqfyvun\n",
      "000068.jyuxmscpen\n",
      "000069.pmfjrdeywh\n",
      "000070.nuiecobasv\n",
      "000071.uacxmqgpzd\n",
      "000072.ebcikjyhln\n",
      "000073.nzytrahuqg\n",
      "000074.fvqhdniepj\n",
      "000075.jkfpzmqxgw\n",
      "000076.zrxlniekhg\n",
      "000077.ikdnbtehyc\n",
      "000078.tvraqicoyx\n",
      "000079.mntqboiapg\n",
      "000080.lmugfosxdn\n",
      "000081.qblzycdrxw\n",
      "000082.nyoakdmspl\n",
      "000083.xtngwifkcq\n",
      "000084.ewuysatpgr\n",
      "000085.istuaghfqc\n",
      "000086.swklnmabdp\n",
      "000087.ngdsouvmjl\n",
      "000088.eimcadhfbt\n",
      "000089.znjmkucwfp\n",
      "000090.jgyikftsxc\n",
      "000091.tkoiydhxuq\n",
      "000092.phenbyqsvf\n",
      "000093.uaikwbygld\n",
      "000094.penbgxtcqu\n",
      "000095.fdxtpunwoq\n",
      "000096.ruchqmbjdo\n",
      "000097.emsjtbdlua\n",
      "000098.fedsjqgxnm\n",
      "000099.szkmpdxauj\n",
      "000100.jouamdhpng\n"
     ]
    }
   ],
   "source": [
    "import random\n",
    "for i in range(1,101):\n",
    "    string1='%06d' % i\n",
    "    string2=''.join(random.sample(['z','y','x','w','v','u','t','s','r','q','p','o','n','m','l','k','j','i','h','g','f','e','d','c','b','a'], 10))\n",
    "    print(string1,string2,sep='.')"
   ]
  },
  {
   "cell_type": "code",
   "execution_count": 20,
   "metadata": {},
   "outputs": [
    {
     "data": {
      "text/plain": [
       "'0000010'"
      ]
     },
     "execution_count": 20,
     "metadata": {},
     "output_type": "execute_result"
    }
   ],
   "source": [
    "'%07d' % 10"
   ]
  },
  {
   "cell_type": "code",
   "execution_count": 44,
   "metadata": {},
   "outputs": [
    {
     "data": {
      "text/plain": [
       "'fe'"
      ]
     },
     "execution_count": 44,
     "metadata": {},
     "output_type": "execute_result"
    }
   ],
   "source": [
    "x=''.join(random.choices(['z','y','x','w','v','u','t','s','r','q','p','o','n','m','l','k','j','i','h','g','f','e','d','c','b','a'],k=2))\n",
    "x"
   ]
  },
  {
   "cell_type": "code",
   "execution_count": null,
   "metadata": {},
   "outputs": [],
   "source": []
  },
  {
   "cell_type": "code",
   "execution_count": null,
   "metadata": {},
   "outputs": [],
   "source": []
  }
 ],
 "metadata": {
  "kernelspec": {
   "display_name": "Python 3",
   "language": "python",
   "name": "python3"
  },
  "language_info": {
   "codemirror_mode": {
    "name": "ipython",
    "version": 3
   },
   "file_extension": ".py",
   "mimetype": "text/x-python",
   "name": "python",
   "nbconvert_exporter": "python",
   "pygments_lexer": "ipython3",
   "version": "3.7.5"
  }
 },
 "nbformat": 4,
 "nbformat_minor": 2
}
