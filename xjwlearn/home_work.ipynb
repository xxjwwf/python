{
 "cells": [
  {
   "cell_type": "code",
   "execution_count": 24,
   "metadata": {},
   "outputs": [
    {
     "name": "stdout",
     "output_type": "stream",
     "text": [
      "[('re', 2), ('sm', 2), ('ba', 2), ('pk', 2), ('ns', 2), ('wo', 2), ('fc', 2), ('rh', 2), ('uc', 2), ('xa', 1), ('xp', 1), ('gh', 1), ('ck', 1), ('qc', 1), ('pt', 1), ('tl', 1), ('ir', 1), ('vw', 1), ('ow', 1), ('mo', 1), ('zy', 1), ('po', 1), ('xi', 1), ('iy', 1), ('tv', 1), ('vj', 1), ('wj', 1), ('vs', 1), ('ou', 1), ('bd', 1), ('sk', 1), ('pf', 1), ('kd', 1), ('vk', 1), ('ua', 1), ('ia', 1), ('rn', 1), ('cu', 1), ('ps', 1), ('ti', 1), ('kz', 1), ('zj', 1), ('dl', 1), ('pm', 1), ('ft', 1), ('jo', 1), ('sn', 1), ('tg', 1), ('gc', 1), ('ve', 1), ('hy', 1), ('py', 1), ('bo', 1), ('yj', 1), ('dv', 1), ('xh', 1), ('vo', 1), ('tk', 1), ('do', 1), ('lk', 1), ('gp', 1), ('uk', 1), ('qf', 1), ('kg', 1), ('eu', 1), ('rj', 1), ('at', 1), ('nu', 1), ('um', 1), ('ea', 1), ('sh', 1), ('nj', 1), ('af', 1), ('yt', 1), ('rm', 1), ('mr', 1), ('ax', 1), ('dc', 1), ('lr', 1), ('te', 1), ('ip', 1), ('bv', 1), ('dj', 1), ('zq', 1), ('ma', 1), ('jp', 1), ('pq', 1), ('kc', 1), ('ey', 1), ('bl', 1), ('dm', 1)]\n"
     ]
    }
   ],
   "source": [
    "import random\n",
    "L1=[]\n",
    "sort_dict={}\n",
    "for i in range(100):\n",
    "    str1=''.join(random.sample(['a', 'b', 'c', 'd', 'e', 'f', 'g', 'h', 'i', 'j', 'k', 'l', 'm', 'n', 'o', 'p', 'q', 'r', 's', 't', 'u', 'v', 'w', 'x', 'y', 'z'],2))\n",
    "    L1.append(str1)\n",
    "for j in L1:              ##统计列表中的数据并导入至字典，重复的数据value加1\n",
    "    if j in sort_dict:\n",
    "        sort_dict[j]+=1\n",
    "    else:\n",
    "        sort_dict[j]=1\n",
    "L2 = sorted(sort_dict.items(),key=lambda sort_dict:sort_dict[1],reverse=True)\n",
    "print(L2)\n",
    "\n",
    "####################将相同的元素分别放入不同的集合，然后使用集合的交集运算这样就可以直接得出重复次数最大的字符串(这样比较耗资源，弃用)\n",
    "####################建立新列表，列表中的元素都是子列表，有相同的元素就添加至列表，最后求列表的长度\n"
   ]
  },
  {
   "cell_type": "code",
   "execution_count": 16,
   "metadata": {},
   "outputs": [
    {
     "data": {
      "text/plain": [
       "{'aaa': 2}"
      ]
     },
     "execution_count": 16,
     "metadata": {},
     "output_type": "execute_result"
    }
   ],
   "source": [
    "d1={'aaa':1}\n",
    "d1['aaa']=2\n",
    "d1"
   ]
  },
  {
   "cell_type": "code",
   "execution_count": 187,
   "metadata": {},
   "outputs": [
    {
     "name": "stdout",
     "output_type": "stream",
     "text": [
      "[('fi', 3), ('lt', 2), ('cd', 2), ('lf', 2), ('vy', 2), ('aw', 2), ('pe', 2), ('qa', 2), ('qn', 1), ('xe', 1), ('wm', 1), ('pb', 1), ('yh', 1), ('gp', 1), ('gd', 1), ('ic', 1), ('dg', 1), ('uz', 1), ('dn', 1), ('dw', 1), ('oj', 1), ('gb', 1), ('rh', 1), ('cm', 1), ('ti', 1), ('cp', 1), ('et', 1), ('ca', 1), ('ue', 1), ('hs', 1), ('hw', 1), ('nj', 1), ('za', 1), ('fx', 1), ('fm', 1), ('zp', 1), ('bn', 1), ('cj', 1), ('wi', 1), ('jo', 1), ('vo', 1), ('lp', 1), ('mx', 1), ('rw', 1), ('ia', 1), ('by', 1), ('yl', 1), ('jp', 1), ('ok', 1), ('th', 1), ('fj', 1), ('in', 1), ('ps', 1), ('bq', 1), ('hj', 1), ('vm', 1), ('xb', 1), ('iq', 1), ('sy', 1), ('zc', 1), ('nq', 1), ('kw', 1), ('om', 1), ('od', 1), ('wj', 1), ('le', 1), ('fp', 1), ('pr', 1), ('ar', 1), ('pg', 1), ('dc', 1), ('sp', 1), ('sq', 1), ('zw', 1), ('gz', 1), ('ta', 1), ('af', 1), ('qh', 1), ('os', 1), ('vx', 1), ('kn', 1), ('mu', 1), ('cl', 1), ('sd', 1), ('az', 1), ('pj', 1), ('lv', 1), ('wn', 1), ('uf', 1), ('rc', 1), ('nd', 1)]\n"
     ]
    }
   ],
   "source": [
    "sort_dict={}\n",
    "for i in range(100):\n",
    "    str1=''.join(random.sample('abcdefghijklmnopqrstuvwxyz',2))\n",
    "    if str1 not in sort_dict:\n",
    "        sort_dict[str1]=1\n",
    "    else:\n",
    "        sort_dict[str1]+=1\n",
    "L2 = sorted(sort_dict.items(),key=lambda sort_dict:sort_dict[1],reverse=True)\n",
    "print(L2)       \n",
    "# sort_dict=dict.fromkeys(L1,1)  #不重复导入数据\n",
    "# sort_dict2={j:sort_dict[j]+2 for j in L1 if j in sort_dict }  ##生成式右边先执行，因此所有的元素都会加1\n",
    "# sort_dict={j:1 for j in L1 if j not in sort_dict}\n",
    "# print(sort_dict)\n",
    "# L2 = sorted(sort_dict.items(),key=lambda sort_dict:sort_dict[1],reverse=True)\n",
    "# print(len(L2))"
   ]
  },
  {
   "cell_type": "code",
   "execution_count": 186,
   "metadata": {},
   "outputs": [
    {
     "name": "stdout",
     "output_type": "stream",
     "text": [
      "['000001.hjpogmvcub', '000002.fjkvruebpg', '000003.vaxcyjnbhm', '000004.ulgoqmvwzx', '000005.thevzdamxg', '000006.nvgfuwitoy', '000007.dizkqawglt', '000008.xamtspygqk', '000009.izfjnaotkm', '000010.khajlmdyxv', '000011.vnijakzpre', '000012.jybguhkiex', '000013.elurjykifn', '000014.lzstbpigfj', '000015.gwexblnijv', '000016.dszkxulntp', '000017.srmfadyneb', '000018.ogfxpwqvjt', '000019.cnzhfdywmt', '000020.cyrdbiwuvz', '000021.miswczaype', '000022.vzwjimupda', '000023.kexmapigtv', '000024.fpjiyxhnal', '000025.zkdmnbqwsa', '000026.knqidfpves', '000027.rdgwbosxlm', '000028.btapcruelk', '000029.ufzqycwxhp', '000030.umiyhxrecd', '000031.tnipvgwdkb', '000032.elbwdaxgph', '000033.xcfadlegmo', '000034.qcyjgbzphe', '000035.gqkvbotyjw', '000036.eaxdzrfhgt', '000037.mzqbidpkfu', '000038.ocedlhyqva', '000039.iwcuyfotkh', '000040.sqorikfvxh', '000041.mptrfhgklo', '000042.ozglcwbevu', '000043.ubpdjzickx', '000044.nxdmhqivcb', '000045.yqczlwxshb', '000046.xfnbyordel', '000047.mevogritdz', '000048.ekgyjoxiaf', '000049.qnmfaidwuj', '000050.pqoucvjwkn', '000051.hfgkicxdbs', '000052.nyjdbvepfl', '000053.zqinxjgpob', '000054.bjzxcghltn', '000055.chmepjqlrb', '000056.qtndrkyzgv', '000057.brykfhgqid', '000058.pghcitbdkz', '000059.eilvtjcwzf', '000060.izvkscltxw', '000061.ifqugtamex', '000062.omtjnhepzk', '000063.uzsjvpwbmt', '000064.tuvcwxezry', '000065.ouqgkmhpyc', '000066.lfoqcsrxnh', '000067.flrcidxumw', '000068.dunfslizje', '000069.fxhcmldkzr', '000070.cniylhraxm', '000071.lsfapcugho', '000072.lvatiwmhqg', '000073.flvbdzkqai', '000074.qafjrpxdtc', '000075.odbuarpjxe', '000076.veropmahzg', '000077.begfhxwvru', '000078.vpkbstlyqr', '000079.swzijhqvce', '000080.yvtujrmlbe', '000081.wipcleoajh', '000082.pwrnebasqc', '000083.enbkufcdyq', '000084.skebmqjnch', '000085.tqnhpxdrmf', '000086.nhclqjiurg', '000087.dbuhsqjxef', '000088.vlutifearo', '000089.zraetqhxfw', '000090.nqrsmwekgx', '000091.hztemwsrqi', '000092.faqjgyexdh', '000093.pofjwhgcqs', '000094.xabfotrkiw', '000095.tnyhsxvwed', '000096.bxveuokdat', '000097.ahwxjgvuzm', '000098.zvcujpqriw', '000099.itcrzwpojy', '000100.hcyopsflge']\n"
     ]
    }
   ],
   "source": [
    "L1=[]\n",
    "for i in range(1,101):\n",
    "    str1='%.06d' % i\n",
    "    str2=''.join(random.sample('abcdefghijklmnopqrstuvwxyz',10))\n",
    "    L1.append('{}.{}'.format(str1,str2))\n",
    "print(L1)"
   ]
  },
  {
   "cell_type": "code",
   "execution_count": 191,
   "metadata": {},
   "outputs": [
    {
     "name": "stdout",
     "output_type": "stream",
     "text": [
      "[(2, 3), (8, 3), (10, 2), (18, 2), (3, 2), (15, 1), (4, 1), (17, 1), (13, 1), (21, 1), (9, 1), (6, 1), (20, 1)]\n"
     ]
    }
   ],
   "source": [
    "D1={}\n",
    "for i in range(20):\n",
    "    n1=random.randint(1,21)\n",
    "    if n1 in D1:\n",
    "        D1[n1]+=1\n",
    "    else:\n",
    "        D1[n1]=1\n",
    "L1=sorted(D1.items(),key=lambda D1:D1[1],reverse=True)\n",
    "print(L1)"
   ]
  },
  {
   "cell_type": "code",
   "execution_count": 117,
   "metadata": {},
   "outputs": [
    {
     "name": "stdout",
     "output_type": "stream",
     "text": [
      "{'x': 2, 'y': 2, 'z': 2}\n"
     ]
    }
   ],
   "source": [
    "# sort_dict={}\n",
    "L1=['x','y','z','x']\n",
    "sort_dict={a:1 if a not in sort_dict else sort_dict[a]+1 for a in L1 }\n",
    "print(sort_dict)"
   ]
  },
  {
   "cell_type": "code",
   "execution_count": 163,
   "metadata": {},
   "outputs": [
    {
     "data": {
      "text/plain": [
       "{3}"
      ]
     },
     "execution_count": 163,
     "metadata": {},
     "output_type": "execute_result"
    }
   ],
   "source": [
    "{i+2 for i in [1,1,1,1,1,1]}"
   ]
  },
  {
   "cell_type": "code",
   "execution_count": 185,
   "metadata": {},
   "outputs": [
    {
     "name": "stdout",
     "output_type": "stream",
     "text": [
      "ro\n"
     ]
    }
   ],
   "source": [
    "# for i in range(100):\n",
    "#     str1=''.join(random.sample(['a', 'b', 'c', 'd', 'e', 'f', 'g', 'h', 'i', 'j', 'k', 'l', 'm', 'n', 'o', 'p', 'q', 'r', 's', 't', 'u', 'v', 'w', 'x', 'y', 'z'],2))\n",
    "#     {sort_dict[str1]=1 for str1 in }    \n",
    "str1=''.join(random.sample('abcdefghijklmnopqrstuvwxyz',2))   \n",
    "print(str1)"
   ]
  },
  {
   "cell_type": "code",
   "execution_count": 193,
   "metadata": {},
   "outputs": [
    {
     "name": "stdout",
     "output_type": "stream",
     "text": [
      "<class 'int'>\n"
     ]
    }
   ],
   "source": [
    "a=1\n",
    "print(type(a))"
   ]
  },
  {
   "cell_type": "code",
   "execution_count": 204,
   "metadata": {},
   "outputs": [
    {
     "name": "stdout",
     "output_type": "stream",
     "text": [
      "(1, 2, 3, 1, 2, 3)\n"
     ]
    }
   ],
   "source": [
    "t6=(1,2,3,1,2,3,)\n",
    "print(t6)"
   ]
  },
  {
   "cell_type": "code",
   "execution_count": null,
   "metadata": {},
   "outputs": [],
   "source": []
  }
 ],
 "metadata": {
  "kernelspec": {
   "display_name": "Python 3",
   "language": "python",
   "name": "python3"
  },
  "language_info": {
   "codemirror_mode": {
    "name": "ipython",
    "version": 3
   },
   "file_extension": ".py",
   "mimetype": "text/x-python",
   "name": "python",
   "nbconvert_exporter": "python",
   "pygments_lexer": "ipython3",
   "version": "3.6.9"
  }
 },
 "nbformat": 4,
 "nbformat_minor": 2
}
