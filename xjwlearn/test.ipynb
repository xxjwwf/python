{
 "cells": [
  {
   "cell_type": "code",
   "execution_count": 1,
   "metadata": {},
   "outputs": [
    {
     "data": {
      "text/plain": [
       "3.3333333333333335"
      ]
     },
     "execution_count": 1,
     "metadata": {},
     "output_type": "execute_result"
    }
   ],
   "source": [
    "10/3"
   ]
  },
  {
   "cell_type": "code",
   "execution_count": 2,
   "metadata": {},
   "outputs": [
    {
     "data": {
      "text/plain": [
       "3.0"
      ]
     },
     "execution_count": 2,
     "metadata": {},
     "output_type": "execute_result"
    }
   ],
   "source": [
    "3/1"
   ]
  },
  {
   "cell_type": "code",
   "execution_count": 5,
   "metadata": {},
   "outputs": [
    {
     "data": {
      "text/plain": [
       "'ab'"
      ]
     },
     "execution_count": 5,
     "metadata": {},
     "output_type": "execute_result"
    }
   ],
   "source": [
    "'a'+'b'"
   ]
  },
  {
   "cell_type": "code",
   "execution_count": 6,
   "metadata": {},
   "outputs": [
    {
     "data": {
      "text/plain": [
       "3"
      ]
     },
     "execution_count": 6,
     "metadata": {},
     "output_type": "execute_result"
    }
   ],
   "source": [
    "1+2"
   ]
  },
  {
   "cell_type": "code",
   "execution_count": 7,
   "metadata": {},
   "outputs": [
    {
     "data": {
      "text/plain": [
       "9"
      ]
     },
     "execution_count": 7,
     "metadata": {},
     "output_type": "execute_result"
    }
   ],
   "source": [
    "3*3"
   ]
  },
  {
   "cell_type": "code",
   "execution_count": 264,
   "metadata": {},
   "outputs": [
    {
     "data": {
      "text/plain": [
       "'abcabcabc'"
      ]
     },
     "execution_count": 264,
     "metadata": {},
     "output_type": "execute_result"
    }
   ],
   "source": [
    "'abc'*3"
   ]
  },
  {
   "cell_type": "markdown",
   "metadata": {},
   "source": []
  },
  {
   "cell_type": "code",
   "execution_count": 9,
   "metadata": {
    "scrolled": true
   },
   "outputs": [
    {
     "data": {
      "text/plain": [
       "2"
      ]
     },
     "execution_count": 9,
     "metadata": {},
     "output_type": "execute_result"
    }
   ],
   "source": [
    "3-1"
   ]
  },
  {
   "cell_type": "code",
   "execution_count": 11,
   "metadata": {},
   "outputs": [
    {
     "data": {
      "text/plain": [
       "0.20000000000000007"
      ]
     },
     "execution_count": 11,
     "metadata": {},
     "output_type": "execute_result"
    }
   ],
   "source": [
    "1.1-0.9"
   ]
  },
  {
   "cell_type": "code",
   "execution_count": 12,
   "metadata": {},
   "outputs": [
    {
     "data": {
      "text/plain": [
       "4"
      ]
     },
     "execution_count": 12,
     "metadata": {},
     "output_type": "execute_result"
    }
   ],
   "source": [
    "9//2"
   ]
  },
  {
   "cell_type": "code",
   "execution_count": 13,
   "metadata": {},
   "outputs": [
    {
     "data": {
      "text/plain": [
       "-2"
      ]
     },
     "execution_count": 13,
     "metadata": {},
     "output_type": "execute_result"
    }
   ],
   "source": [
    "-3//2"
   ]
  },
  {
   "cell_type": "code",
   "execution_count": 14,
   "metadata": {},
   "outputs": [
    {
     "data": {
      "text/plain": [
       "5.0"
      ]
     },
     "execution_count": 14,
     "metadata": {},
     "output_type": "execute_result"
    }
   ],
   "source": [
    "20//4.0"
   ]
  },
  {
   "cell_type": "code",
   "execution_count": 16,
   "metadata": {},
   "outputs": [
    {
     "data": {
      "text/plain": [
       "59049"
      ]
     },
     "execution_count": 16,
     "metadata": {},
     "output_type": "execute_result"
    }
   ],
   "source": [
    "pow(3,10)"
   ]
  },
  {
   "cell_type": "code",
   "execution_count": 17,
   "metadata": {},
   "outputs": [
    {
     "data": {
      "text/plain": [
       "3.0"
      ]
     },
     "execution_count": 17,
     "metadata": {},
     "output_type": "execute_result"
    }
   ],
   "source": [
    "abs(-3.0)"
   ]
  },
  {
   "cell_type": "code",
   "execution_count": 18,
   "metadata": {},
   "outputs": [
    {
     "data": {
      "text/plain": [
       "2"
      ]
     },
     "execution_count": 18,
     "metadata": {},
     "output_type": "execute_result"
    }
   ],
   "source": [
    "round(1.777)"
   ]
  },
  {
   "cell_type": "code",
   "execution_count": 19,
   "metadata": {},
   "outputs": [
    {
     "data": {
      "text/plain": [
       "3"
      ]
     },
     "execution_count": 19,
     "metadata": {},
     "output_type": "execute_result"
    }
   ],
   "source": [
    "int(3.999)"
   ]
  },
  {
   "cell_type": "code",
   "execution_count": 21,
   "metadata": {},
   "outputs": [
    {
     "data": {
      "text/plain": [
       "1.0"
      ]
     },
     "execution_count": 21,
     "metadata": {},
     "output_type": "execute_result"
    }
   ],
   "source": [
    "float(1)"
   ]
  },
  {
   "cell_type": "code",
   "execution_count": 33,
   "metadata": {},
   "outputs": [
    {
     "name": "stdout",
     "output_type": "stream",
     "text": [
      "1\n",
      "2\n"
     ]
    },
    {
     "data": {
      "text/plain": [
       "(None, None)"
      ]
     },
     "execution_count": 33,
     "metadata": {},
     "output_type": "execute_result"
    }
   ],
   "source": [
    "print(1),print(2)"
   ]
  },
  {
   "cell_type": "code",
   "execution_count": 2,
   "metadata": {},
   "outputs": [
    {
     "name": "stdout",
     "output_type": "stream",
     "text": [
      "7\n",
      "14\n",
      "21\n",
      "28\n",
      "4\n"
     ]
    }
   ],
   "source": [
    "count = 0\n",
    "for i in range(7, 1000, 7):\n",
    "    print(i)\n",
    "    count += 1\n",
    "    if count >= 4:\n",
    "        print(count)\n",
    "        break"
   ]
  },
  {
   "cell_type": "code",
   "execution_count": 4,
   "metadata": {},
   "outputs": [
    {
     "name": "stdout",
     "output_type": "stream",
     "text": [
      "0\n",
      "1\n",
      "2\n",
      "3\n",
      "4\n",
      "5\n",
      "6\n",
      "7\n",
      "8\n",
      "9\n",
      "10\n"
     ]
    }
   ],
   "source": [
    "for i in range(20):\n",
    "    print(i)\n",
    "    if i>=10:\n",
    "        break"
   ]
  },
  {
   "cell_type": "code",
   "execution_count": 7,
   "metadata": {},
   "outputs": [
    {
     "name": "stdout",
     "output_type": "stream",
     "text": [
      "0\n"
     ]
    }
   ],
   "source": [
    "for i in range(10):\n",
    "    print(i)\n",
    "    break"
   ]
  },
  {
   "cell_type": "code",
   "execution_count": 8,
   "metadata": {},
   "outputs": [
    {
     "name": "stdout",
     "output_type": "stream",
     "text": [
      "goodbye, world!\n"
     ]
    }
   ],
   "source": [
    "print('goodbye, world', end='!\\n')"
   ]
  },
  {
   "cell_type": "code",
   "execution_count": 11,
   "metadata": {},
   "outputs": [
    {
     "name": "stdout",
     "output_type": "stream",
     "text": [
      "sys.version_info(major=3, minor=6, micro=9, releaselevel='final', serial=0)\n"
     ]
    }
   ],
   "source": [
    "import sys\n",
    "print(sys.version_info)"
   ]
  },
  {
   "cell_type": "code",
   "execution_count": 12,
   "metadata": {},
   "outputs": [
    {
     "name": "stdout",
     "output_type": "stream",
     "text": [
      "The Zen of Python, by Tim Peters\n",
      "\n",
      "Beautiful is better than ugly.\n",
      "Explicit is better than implicit.\n",
      "Simple is better than complex.\n",
      "Complex is better than complicated.\n",
      "Flat is better than nested.\n",
      "Sparse is better than dense.\n",
      "Readability counts.\n",
      "Special cases aren't special enough to break the rules.\n",
      "Although practicality beats purity.\n",
      "Errors should never pass silently.\n",
      "Unless explicitly silenced.\n",
      "In the face of ambiguity, refuse the temptation to guess.\n",
      "There should be one-- and preferably only one --obvious way to do it.\n",
      "Although that way may not be obvious at first unless you're Dutch.\n",
      "Now is better than never.\n",
      "Although never is often better than *right* now.\n",
      "If the implementation is hard to explain, it's a bad idea.\n",
      "If the implementation is easy to explain, it may be a good idea.\n",
      "Namespaces are one honking great idea -- let's do more of those!\n"
     ]
    }
   ],
   "source": [
    "import this"
   ]
  },
  {
   "cell_type": "code",
   "execution_count": 15,
   "metadata": {},
   "outputs": [
    {
     "name": "stdout",
     "output_type": "stream",
     "text": [
      "<class 'str'>\n"
     ]
    }
   ],
   "source": [
    "a='100'\n",
    "print(type(a))\n"
   ]
  },
  {
   "cell_type": "code",
   "execution_count": 17,
   "metadata": {},
   "outputs": [
    {
     "name": "stdout",
     "output_type": "stream",
     "text": [
      "a= 100\n",
      "b= 200\n",
      "100 + 200 = 300\n"
     ]
    }
   ],
   "source": [
    "a=int(input('a= '))\n",
    "b=int(input('b= '))\n",
    "print('%d + %d = %d' % (a,b,a+b))"
   ]
  },
  {
   "cell_type": "code",
   "execution_count": 18,
   "metadata": {},
   "outputs": [
    {
     "name": "stdout",
     "output_type": "stream",
     "text": [
      "195\n"
     ]
    }
   ],
   "source": [
    "a = 10\n",
    "b = 3\n",
    "a += b # 相当于：a = a + b\n",
    "a *= a + 2 # 相当于：a = a * (a + 2)\n",
    "print(a) # 想想这里会输出什么"
   ]
  },
  {
   "cell_type": "code",
   "execution_count": 21,
   "metadata": {},
   "outputs": [
    {
     "name": "stdout",
     "output_type": "stream",
     "text": [
      "flag0 = True\n",
      "flag1 = True\n",
      "flag2 = False\n",
      "flag3 = False\n",
      "flag4 = True\n",
      "flag5 = False\n",
      "True\n",
      "False\n"
     ]
    }
   ],
   "source": [
    "flag0 = 1 == 1\n",
    "flag1 = 3 > 2\n",
    "flag2 = 2 < 1\n",
    "flag3 = flag1 and flag2\n",
    "flag4 = flag1 or flag2\n",
    "flag5 = not (1 != 2)\n",
    "print('flag0 =', flag0) # flag0 = True\n",
    "print('flag1 =', flag1) # flag1 = True\n",
    "print('flag2 =', flag2) # flag2 = False\n",
    "print('flag3 =', flag3) # flag3 = False\n",
    "print('flag4 =', flag4) # flag4 = True\n",
    "print('flag5 =', flag5) # flag5 = False\n",
    "print(flag1 is True) # True\n",
    "print(flag2 is not False) # False"
   ]
  },
  {
   "cell_type": "code",
   "execution_count": 22,
   "metadata": {},
   "outputs": [
    {
     "data": {
      "text/plain": [
       "4.0"
      ]
     },
     "execution_count": 22,
     "metadata": {},
     "output_type": "execute_result"
    }
   ],
   "source": [
    "32/8"
   ]
  },
  {
   "cell_type": "code",
   "execution_count": null,
   "metadata": {},
   "outputs": [],
   "source": []
  },
  {
   "cell_type": "code",
   "execution_count": 46,
   "metadata": {},
   "outputs": [
    {
     "name": "stdout",
     "output_type": "stream",
     "text": [
      "请输入华氏温度：100\n",
      "摄氏温度为：37.77778\n"
     ]
    }
   ],
   "source": [
    "F=float(input('请输入华氏温度：'))\n",
    "f=(F - 32) / 1.8\n",
    "print('摄氏温度为：%.5f' % (f))"
   ]
  },
  {
   "cell_type": "code",
   "execution_count": 41,
   "metadata": {},
   "outputs": [
    {
     "data": {
      "text/plain": [
       "55.55555555555556"
      ]
     },
     "execution_count": 41,
     "metadata": {},
     "output_type": "execute_result"
    }
   ],
   "source": [
    "100/1.8"
   ]
  },
  {
   "cell_type": "code",
   "execution_count": 43,
   "metadata": {},
   "outputs": [
    {
     "name": "stdout",
     "output_type": "stream",
     "text": [
      ">>>10\n",
      "<class 'str'>\n"
     ]
    }
   ],
   "source": [
    "a=input('>>>')\n",
    "print(type(a))"
   ]
  },
  {
   "cell_type": "code",
   "execution_count": 44,
   "metadata": {},
   "outputs": [
    {
     "data": {
      "text/plain": [
       "25.555555555555554"
      ]
     },
     "execution_count": 44,
     "metadata": {},
     "output_type": "execute_result"
    }
   ],
   "source": [
    "46/1.8"
   ]
  },
  {
   "cell_type": "code",
   "execution_count": 53,
   "metadata": {},
   "outputs": [
    {
     "name": "stdout",
     "output_type": "stream",
     "text": [
      "<class 'str'>\n",
      "1010\n"
     ]
    }
   ],
   "source": [
    "a=10\n",
    "b=\"{}{}\".format(a,a)\n",
    "print(type(b))\n",
    "print(b)"
   ]
  },
  {
   "cell_type": "code",
   "execution_count": 57,
   "metadata": {},
   "outputs": [
    {
     "name": "stdout",
     "output_type": "stream",
     "text": [
      "请输入圆的半径：1000\n",
      "圆的面积为：3141592.654\n",
      "圆的周长为：6283.185\n"
     ]
    }
   ],
   "source": [
    "import math\n",
    "r=float(input('请输入圆的半径：'))\n",
    "S=math.pi*r**2\n",
    "L=2*math.pi*r\n",
    "print('圆的面积为：%.3f' % S)\n",
    "print('圆的周长为：%.3f' % L)"
   ]
  },
  {
   "cell_type": "code",
   "execution_count": 64,
   "metadata": {},
   "outputs": [
    {
     "name": "stdout",
     "output_type": "stream",
     "text": [
      "请输入年份：1.1\n",
      "1 is not a special Year\n"
     ]
    }
   ],
   "source": [
    "year=float(input('请输入年份：'))\n",
    "if (year % 4 == 0 and year % 100 != 0) or year % 400 == 0:\n",
    "    print('%d is a special Year' %  year)\n",
    "else:\n",
    "    print('%d is not a special Year' % year)"
   ]
  },
  {
   "cell_type": "code",
   "execution_count": 68,
   "metadata": {},
   "outputs": [
    {
     "data": {
      "text/plain": [
       "0.30000000000000004"
      ]
     },
     "execution_count": 68,
     "metadata": {},
     "output_type": "execute_result"
    }
   ],
   "source": [
    "sum([0.2, 0.1])"
   ]
  },
  {
   "cell_type": "code",
   "execution_count": 70,
   "metadata": {},
   "outputs": [
    {
     "data": {
      "text/plain": [
       "'olleh'"
      ]
     },
     "execution_count": 70,
     "metadata": {},
     "output_type": "execute_result"
    }
   ],
   "source": [
    "''.join(reversed('hello'))"
   ]
  },
  {
   "cell_type": "code",
   "execution_count": 79,
   "metadata": {
    "scrolled": true
   },
   "outputs": [
    {
     "name": "stdout",
     "output_type": "stream",
     "text": [
      "123\n"
     ]
    }
   ],
   "source": [
    "nums = {'0': 0, '1': 1, '2': 2, '3': 3, '4': 4, '5': 5, '6': 6, '7': 7, '8': 8, '9': 9}\n",
    "total = 0\n",
    "for ch in '123':\n",
    "    total *= 10\n",
    "    total += nums[ch]\n",
    "print(total)\n"
   ]
  },
  {
   "cell_type": "code",
   "execution_count": 83,
   "metadata": {},
   "outputs": [
    {
     "data": {
      "text/plain": [
       "39916800"
      ]
     },
     "execution_count": 83,
     "metadata": {},
     "output_type": "execute_result"
    }
   ],
   "source": [
    "    from functools import reduce\n",
    "\n",
    "    (lambda num: reduce(int.__mul__, range(2, num + 1), 1))(11)\n"
   ]
  },
  {
   "cell_type": "code",
   "execution_count": 86,
   "metadata": {},
   "outputs": [
    {
     "data": {
      "text/plain": [
       "'\\n*\\n**\\n***\\n****\\n*****\\n******\\n\\n     *\\n    **\\n   ***\\n  ****\\n *****\\n******\\n\\n    *\\n   ***\\n  *****\\n *******\\n*********\\n\\n'"
      ]
     },
     "execution_count": 86,
     "metadata": {},
     "output_type": "execute_result"
    }
   ],
   "source": [
    "# 1.计算三角形周长，面积\n",
    "# 2.计算素数(0,100)\n",
    "# 3.计算水仙花数（自幂数）以及完美数（自身之外的因子之和）\n",
    "# 4.计算百鸡百钱\n",
    "# 5.打印\n",
    "\"\"\"\n",
    "*\n",
    "**\n",
    "***\n",
    "****\n",
    "*****\n",
    "******\n",
    "\n",
    "     *\n",
    "    **\n",
    "   ***\n",
    "  ****\n",
    " *****\n",
    "******\n",
    "\n",
    "    *\n",
    "   ***\n",
    "  *****\n",
    " *******\n",
    "*********\n",
    "\n",
    "\"\"\"\n",
    "# 6.猜数字\n",
    "# 7.计算两个数字的最大公约数和最小公倍数\n",
    "# 8.正整数的反转"
   ]
  },
  {
   "cell_type": "code",
   "execution_count": 94,
   "metadata": {},
   "outputs": [
    {
     "name": "stdout",
     "output_type": "stream",
     "text": [
      "a=3\n",
      "b=4\n",
      "c=5\n",
      "三角形的周长为：12\n",
      "三角形的面积为：6\n"
     ]
    }
   ],
   "source": [
    "a=int(input('a='))\n",
    "b=int(input('b='))\n",
    "c=int(input('c='))\n",
    "if a+b>c and a+c>b and b+c>a:\n",
    "    L=a+b+c\n",
    "    p=(a+b+c)*0.5\n",
    "    area=(p*(p-a)*(p-b)*(p-c))**0.5\n",
    "    print('三角形的周长为：%d' %(L))\n",
    "    print('三角形的面积为：%d' %(area))\n",
    "else:\n",
    "    print('a,b,c不能构成三角形！')"
   ]
  },
  {
   "cell_type": "code",
   "execution_count": 142,
   "metadata": {},
   "outputs": [
    {
     "name": "stdout",
     "output_type": "stream",
     "text": [
      "num=22\n",
      "22 is not a 素数;2 is one of it's factor\n"
     ]
    }
   ],
   "source": [
    "num=int(input('num='))\n",
    "if num <= 1:\n",
    "    print('wrong number')\n",
    "else:\n",
    "    for i in range(2,num):\n",
    "        if num % i == 0 and num > 2:\n",
    "            print('%d is not a 素数' % num,end=';')\n",
    "            print(\"%d is one of it's factor\" % i)\n",
    "            break\n",
    "    else:\n",
    "        print('%d is a 素数' % num)"
   ]
  },
  {
   "cell_type": "markdown",
   "metadata": {},
   "source": []
  },
  {
   "cell_type": "code",
   "execution_count": 152,
   "metadata": {},
   "outputs": [
    {
     "name": "stdout",
     "output_type": "stream",
     "text": [
      "请输入一个正整数: 141\n",
      "141不是素数\n"
     ]
    }
   ],
   "source": [
    "from math import sqrt\n",
    "\n",
    "num = int(input('请输入一个正整数: '))\n",
    "end = int(sqrt(num))\n",
    "is_prime = True\n",
    "for x in range(2, end + 1):\n",
    "    if num % x == 0:\n",
    "        is_prime = False\n",
    "        break\n",
    "if is_prime and num > 1:\n",
    "    print('%d是素数' % num)\n",
    "else:\n",
    "    print('%d不是素数' % num)"
   ]
  },
  {
   "cell_type": "code",
   "execution_count": 169,
   "metadata": {},
   "outputs": [
    {
     "name": "stdout",
     "output_type": "stream",
     "text": [
      "输入一个三位数：372\n",
      "372 不是水仙花数\n"
     ]
    }
   ],
   "source": [
    "# for num in range(100, 1000):\n",
    "#     low = num % 10\n",
    "#     mid = num // 10 % 10\n",
    "#     high = num // 100\n",
    "#     if num == low ** 3 + mid ** 3 + high ** 3:\n",
    "#         print(num)\n",
    "\n",
    "#计算水仙花数\n",
    "num=int(input('输入一个三位数：'))\n",
    "tail=num % 10\n",
    "mid=(num//10)%10\n",
    "head=(num//10)//10\n",
    "if tail**3 + mid**3 + head**3 == num:\n",
    "    print('%d 是水仙花数' % num)\n",
    "else:\n",
    "    print('%d 不是水仙花数' % num)"
   ]
  },
  {
   "cell_type": "code",
   "execution_count": 214,
   "metadata": {},
   "outputs": [
    {
     "name": "stdout",
     "output_type": "stream",
     "text": [
      "6 是完美数\n",
      "28 是完美数\n",
      "496 是完美数\n",
      "8128 是完美数\n"
     ]
    }
   ],
   "source": [
    "#计算完美数\n",
    "for num in range(1,10000):\n",
    "    sum=0\n",
    "    for i in range(1,num):\n",
    "        if num % i != 0:\n",
    "            continue\n",
    "        else:\n",
    "            sum=sum+i\n",
    "    if sum==num:\n",
    "        print('%d 是完美数' % num)\n",
    "    "
   ]
  },
  {
   "cell_type": "code",
   "execution_count": null,
   "metadata": {},
   "outputs": [],
   "source": [
    "#计算四位数的自幂数\n",
    "for num in range(10000,100000):\n",
    "    first=num//10000\n",
    "    second=(num//1000)%10\n",
    "    third=(num//100)%10\n",
    "    forth=(num//10)%10\n",
    "    fifth=num%10\n",
    "    if first**5 + second**5 + third**5 + forth**5 + fifth**5 == num:\n",
    "        print('%d 是一个五角星数' % num)"
   ]
  },
  {
   "cell_type": "code",
   "execution_count": 215,
   "metadata": {},
   "outputs": [
    {
     "data": {
      "text/plain": [
       "134"
      ]
     },
     "execution_count": 215,
     "metadata": {},
     "output_type": "execute_result"
    }
   ],
   "source": [
    "21345%1000"
   ]
  },
  {
   "cell_type": "code",
   "execution_count": 223,
   "metadata": {},
   "outputs": [
    {
     "data": {
      "text/plain": [
       "1000"
      ]
     },
     "execution_count": 223,
     "metadata": {},
     "output_type": "execute_result"
    }
   ],
   "source": [
    "pow(10,3)"
   ]
  },
  {
   "cell_type": "code",
   "execution_count": null,
   "metadata": {},
   "outputs": [],
   "source": [
    "def isNarNumber(num, n):\n",
    "    '''用于判断一个数是否位一个自幂数'''\n",
    "    strNum = str(num)\n",
    "    sum = 0\n",
    "    for i in strNum:\n",
    "        sum = sum + pow(int(i), n)\n",
    "    return True if sum == num else False\n",
    "\n",
    "def printNarNumber(n):\n",
    "    '''用于n位数的自幂数'''\n",
    "    total = 0\n",
    "    for i in range(pow(10, n-1), pow(10, n)):\n",
    "        if isNarNumber(i, n):\n",
    "            print(\"%d 是自幂数。\" %i)\n",
    "            total += 1\n",
    "    print(\"%d 位的自幂数有 %d 个。\" %(n, total))        \n",
    "\n",
    "n = int(input(\"请输入自幂数的位数：\"))\n",
    "\n",
    "printNarNumber(n)\n"
   ]
  },
  {
   "cell_type": "code",
   "execution_count": 234,
   "metadata": {},
   "outputs": [
    {
     "name": "stdout",
     "output_type": "stream",
     "text": [
      "请输入数字的位数：5\n",
      "54748 是个自幂数\n",
      "92727 是个自幂数\n",
      "93084 是个自幂数\n",
      "自幂数总共有3个\n"
     ]
    }
   ],
   "source": [
    "def getnumber(num,n):\n",
    "    sum=0\n",
    "    strnum=str(num)\n",
    "    for i in strnum:\n",
    "        sum=sum + pow(int(i),n)\n",
    "    return(True if sum == num else False)\n",
    "\n",
    "def caculate(n):\n",
    "    total=0\n",
    "    for i in range(pow(10,n-1),pow(10,n)):\n",
    "        if getnumber(i,n):\n",
    "            total+=1\n",
    "            print('%d 是个自幂数' % i)\n",
    "    print('自幂数总共有%d个' % total)\n",
    "    \n",
    "n=int(input('请输入数字的位数：'))\n",
    "caculate(n)"
   ]
  },
  {
   "cell_type": "code",
   "execution_count": 245,
   "metadata": {},
   "outputs": [
    {
     "name": "stdout",
     "output_type": "stream",
     "text": [
      "三种鸡分别为公鸡：0只;母鸡：25只;小鸡：75只\n",
      "三种鸡分别为公鸡：4只;母鸡：18只;小鸡：78只\n",
      "三种鸡分别为公鸡：8只;母鸡：11只;小鸡：81只\n",
      "三种鸡分别为公鸡：12只;母鸡：4只;小鸡：84只\n"
     ]
    }
   ],
   "source": [
    "#计算百鸡百钱\n",
    "for i in range(20):\n",
    "    for j in range(33):\n",
    "        k=100-i-j\n",
    "        if 5*i+3*j+k*(1/3) ==100:\n",
    "            print('三种鸡分别为公鸡：%d只;母鸡：%d只;小鸡：%d只' % (i,j,k))"
   ]
  },
  {
   "cell_type": "code",
   "execution_count": 246,
   "metadata": {},
   "outputs": [],
   "source": [
    "#CRAPS又称花旗骰，是美国拉斯维加斯非常受欢迎的一种的桌上赌博游戏。\n",
    "#该游戏使用两粒骰子，玩家通过摇两粒骰子获得点数进行游戏。\n",
    "#简单的规则是：玩家第一次摇骰子如果摇出了7点或11点，玩家胜；\n",
    "#玩家第一次如果摇出2点、3点或12点，庄家胜；\n",
    "#其他点数玩家继续摇骰子，如果玩家摇出了7点，庄家胜；\n",
    "#如果玩家摇出了第一次摇的点数，玩家胜；其他点数，玩家继续要骰子，直到分出胜负。\n",
    "#\n",
    "\n",
    "\n"
   ]
  },
  {
   "cell_type": "code",
   "execution_count": 259,
   "metadata": {},
   "outputs": [
    {
     "name": "stdout",
     "output_type": "stream",
     "text": [
      "请输入数字：55\n",
      "你的数字有点小\n",
      "请输入数字：77\n",
      "你的数字有点小\n",
      "请输入数字：89\n",
      "你的数字有点小\n",
      "请输入数字：99\n",
      "恭喜你猜对了\n"
     ]
    }
   ],
   "source": [
    "#猜数字游戏\n",
    "#机器生成一个数字，通过输入来猜数字，机器给出提示，然后人根据提示来调整数字，直至猜对\n",
    "import random\n",
    "i=random.randint(0,100)\n",
    "count=0\n",
    "while True:\n",
    "    a=int(input('请输入数字：'))\n",
    "    count+=1\n",
    "    if a>i:\n",
    "        print('你的数字有点大')\n",
    "    elif a<i:\n",
    "        print('你的数字有点小')\n",
    "    elif a==i:\n",
    "        print('恭喜你猜对了')\n",
    "        break\n",
    "    else:\n",
    "        print('wrong number')\n",
    "if count>7:\n",
    "    print('你总共猜了%d次才猜对，智商余额显然不足' % count)\n"
   ]
  },
  {
   "cell_type": "markdown",
   "metadata": {},
   "source": []
  },
  {
   "cell_type": "code",
   "execution_count": null,
   "metadata": {},
   "outputs": [],
   "source": [
    "##计算最大公约数和最小公倍数\n",
    "#列出"
   ]
  },
  {
   "cell_type": "code",
   "execution_count": 260,
   "metadata": {},
   "outputs": [
    {
     "name": "stdout",
     "output_type": "stream",
     "text": [
      "m = 100\n",
      "n = 70\n",
      "29372339821610944823963760\n"
     ]
    }
   ],
   "source": [
    "def factorial(num):\n",
    "    \"\"\"求阶乘\"\"\"\n",
    "    result = 1\n",
    "    for n in range(1, num + 1):\n",
    "        result *= n\n",
    "    return result\n",
    "\n",
    "\n",
    "m = int(input('m = '))\n",
    "n = int(input('n = '))\n",
    "# 当需要计算阶乘的时候不用再写循环求阶乘而是直接调用已经定义好的函数\n",
    "print(factorial(m) // factorial(n) // factorial(m - n))"
   ]
  },
  {
   "cell_type": "code",
   "execution_count": 283,
   "metadata": {},
   "outputs": [
    {
     "name": "stdout",
     "output_type": "stream",
     "text": [
      "i=7\n",
      "*\n",
      "**\n",
      "***\n",
      "****\n",
      "*****\n",
      "******\n"
     ]
    }
   ],
   "source": [
    "#打印左对齐三角形\n",
    "i=int(input('i='))\n",
    "for i in range(1,i):\n",
    "    for j in range(1,i+1):\n",
    "        print('*',sep='',end='')\n",
    "    print()\n",
    "    "
   ]
  },
  {
   "cell_type": "code",
   "execution_count": 301,
   "metadata": {},
   "outputs": [
    {
     "name": "stdout",
     "output_type": "stream",
     "text": [
      "n=6\n",
      "*\n",
      "**\n",
      "***\n",
      "****\n",
      "*****\n",
      "******\n"
     ]
    }
   ],
   "source": [
    "#使用函数打印左对齐三角形\n",
    "def cout(n):\n",
    "    for i in range(1,n+1):\n",
    "        for j in range(1,i+1):\n",
    "            print('*',sep='',end='')\n",
    "        print()\n",
    "\n",
    "        \n",
    "n=int(input('n='))\n",
    "cout(n)\n",
    "    \n"
   ]
  },
  {
   "cell_type": "code",
   "execution_count": 303,
   "metadata": {},
   "outputs": [
    {
     "name": "stdout",
     "output_type": "stream",
     "text": [
      "n=6\n",
      "     *\n",
      "    **\n",
      "   ***\n",
      "  ****\n",
      " *****\n",
      "******\n"
     ]
    }
   ],
   "source": [
    "#使用函数打印右对齐三角\n",
    "def cout(n):\n",
    "    for i in range(1,n+1):\n",
    "        for j in range(1,n+1):\n",
    "            if j <= n-i:\n",
    "                print(' ',end='')\n",
    "            else:\n",
    "                print('*',end='')\n",
    "        print()\n",
    "n=int(input('n='))\n",
    "cout(n)\n"
   ]
  },
  {
   "cell_type": "code",
   "execution_count": 309,
   "metadata": {
    "scrolled": true
   },
   "outputs": [
    {
     "name": "stdout",
     "output_type": "stream",
     "text": [
      "n=6\n",
      "******\n",
      "*****\n",
      "****\n",
      "***\n",
      "**\n",
      "*\n",
      "\n"
     ]
    }
   ],
   "source": [
    "# 使用函数打印左对齐倒三角\n",
    "def cout(n):\n",
    "    for i in range(n+1):\n",
    "        for j in range(n-i):\n",
    "            print('*',end='')\n",
    "        print()\n",
    "n=int(input('n='))\n",
    "cout(n)\n"
   ]
  },
  {
   "cell_type": "code",
   "execution_count": 314,
   "metadata": {
    "scrolled": true
   },
   "outputs": [
    {
     "name": "stdout",
     "output_type": "stream",
     "text": [
      "n=6\n",
      "n=6\n",
      "*******\n",
      " ******\n",
      "  *****\n",
      "   ****\n",
      "    ***\n",
      "     **\n",
      "      *\n",
      "       \n"
     ]
    }
   ],
   "source": [
    "#使用函数打印倒右对齐三角\n",
    "def cout(n):\n",
    "    for i in range(n+1):\n",
    "        for j in range(n+1):\n",
    "            if j > i:\n",
    "                print('*',end='')\n",
    "            else:\n",
    "                print(' ',end='')\n",
    "        print()\n",
    "#打印右对齐倒三角\n",
    "def cout(n):\n",
    "    for i in range(n+1):\n",
    "        for j in range(n+1):\n",
    "            if j < i :\n",
    "                print(' ',end='')\n",
    "            else:\n",
    "                print('*',end='')\n",
    "        print()\n",
    "\n",
    "n=int(input('n='))\n",
    "cout(n)\n"
   ]
  },
  {
   "cell_type": "code",
   "execution_count": 321,
   "metadata": {},
   "outputs": [
    {
     "name": "stdout",
     "output_type": "stream",
     "text": [
      "n=4\n",
      "    *\n",
      "   ***\n",
      "  *****\n",
      " *******\n"
     ]
    }
   ],
   "source": [
    "#使用函数打印等腰三角形\n",
    "def cout(n):\n",
    "    for i in range(1,n+1):\n",
    "        for j in range(n-i+1):  #每一行循环先打印空格\n",
    "            print(' ',end='')\n",
    "        for j in range(2*i-1):  #每一行循环再打印*号\n",
    "            print('*',end='')  \n",
    "        print()                 #结束当前行的循环\n",
    "n=int(input('n='))\n",
    "cout(n)"
   ]
  },
  {
   "cell_type": "code",
   "execution_count": 336,
   "metadata": {},
   "outputs": [
    {
     "name": "stdout",
     "output_type": "stream",
     "text": [
      "n=4\n",
      "*******\n",
      " *****\n",
      "  ***\n",
      "   *\n",
      "   \n"
     ]
    }
   ],
   "source": [
    "#使用函数打印倒等腰三角形\n",
    "def cout(n):\n",
    "    for i in range(n+1):\n",
    "        for j in range(2*n-1-i):\n",
    "            if j >= i:\n",
    "                print('*',end='')\n",
    "            else:\n",
    "                print(' ',end='')\n",
    "            \n",
    "        print()\n",
    "n=int(input('n='))\n",
    "cout(n)"
   ]
  },
  {
   "cell_type": "code",
   "execution_count": 399,
   "metadata": {
    "collapsed": true
   },
   "outputs": [
    {
     "name": "stdout",
     "output_type": "stream",
     "text": [
      "你要押注多少？100\n",
      "摇到7点，你赢了100圆。\n",
      "现在你总共有<1100>圆\n",
      "\n",
      "你要押注多少？100\n",
      "摇到11点，你赢了100圆。\n",
      "现在你总共有<1200>圆\n",
      "\n",
      "你要押注多少？100\n",
      "此轮未分胜负，进行下一轮！此轮点数为10\n",
      "现在你总共有<1200>圆\n",
      "第一次第二次相同，你赢了100圆\n",
      "现在你总共有<1300>圆\n",
      "\n",
      "你要押注多少？100\n",
      "摇到7点，你赢了100圆。\n",
      "现在你总共有<1400>圆\n",
      "\n",
      "你要押注多少？100\n",
      "摇到7点，你赢了100圆。\n",
      "现在你总共有<1500>圆\n",
      "\n",
      "你要押注多少？100\n",
      "摇到3点，你输了100圆。\n",
      "现在你总共有<1400>圆\n",
      "\n"
     ]
    },
    {
     "name": "stderr",
     "output_type": "stream",
     "text": [
      "ERROR:root:Internal Python error in the inspect module.\n",
      "Below is the traceback from this internal error.\n",
      "\n",
      "ERROR:root:Internal Python error in the inspect module.\n",
      "Below is the traceback from this internal error.\n",
      "\n",
      "ERROR:root:Internal Python error in the inspect module.\n",
      "Below is the traceback from this internal error.\n",
      "\n"
     ]
    },
    {
     "name": "stdout",
     "output_type": "stream",
     "text": [
      "Traceback (most recent call last):\n",
      "  File \"/home/python/.pyenv/versions/3.6.9/envs/py369/lib/python3.6/site-packages/ipykernel/kernelbase.py\", line 884, in _input_request\n",
      "    ident, reply = self.session.recv(self.stdin_socket, 0)\n",
      "  File \"/home/python/.pyenv/versions/3.6.9/envs/py369/lib/python3.6/site-packages/jupyter_client/session.py\", line 803, in recv\n",
      "    msg_list = socket.recv_multipart(mode, copy=copy)\n",
      "  File \"/home/python/.pyenv/versions/3.6.9/envs/py369/lib/python3.6/site-packages/zmq/sugar/socket.py\", line 475, in recv_multipart\n",
      "    parts = [self.recv(flags, copy=copy, track=track)]\n",
      "  File \"zmq/backend/cython/socket.pyx\", line 791, in zmq.backend.cython.socket.Socket.recv\n",
      "  File \"zmq/backend/cython/socket.pyx\", line 827, in zmq.backend.cython.socket.Socket.recv\n",
      "  File \"zmq/backend/cython/socket.pyx\", line 186, in zmq.backend.cython.socket._recv_copy\n",
      "  File \"zmq/backend/cython/checkrc.pxd\", line 12, in zmq.backend.cython.checkrc._check_rc\n",
      "KeyboardInterrupt\n",
      "\n",
      "During handling of the above exception, another exception occurred:\n",
      "\n",
      "Traceback (most recent call last):\n",
      "  File \"/home/python/.pyenv/versions/3.6.9/envs/py369/lib/python3.6/site-packages/IPython/core/interactiveshell.py\", line 3319, in run_code\n",
      "    exec(code_obj, self.user_global_ns, self.user_ns)\n",
      "  File \"<ipython-input-399-e53d14419756>\", line 11, in <module>\n",
      "    debet=int(input('你要押注多少？'))\n",
      "  File \"/home/python/.pyenv/versions/3.6.9/envs/py369/lib/python3.6/site-packages/ipykernel/kernelbase.py\", line 859, in raw_input\n",
      "    password=False,\n",
      "  File \"/home/python/.pyenv/versions/3.6.9/envs/py369/lib/python3.6/site-packages/ipykernel/kernelbase.py\", line 889, in _input_request\n",
      "    raise KeyboardInterrupt\n",
      "KeyboardInterrupt\n",
      "\n",
      "During handling of the above exception, another exception occurred:\n",
      "\n",
      "Traceback (most recent call last):\n",
      "  File \"/home/python/.pyenv/versions/3.6.9/envs/py369/lib/python3.6/site-packages/IPython/core/interactiveshell.py\", line 2034, in showtraceback\n",
      "    stb = value._render_traceback_()\n",
      "AttributeError: 'KeyboardInterrupt' object has no attribute '_render_traceback_'\n",
      "\n",
      "During handling of the above exception, another exception occurred:\n",
      "\n",
      "Traceback (most recent call last):\n",
      "  File \"/home/python/.pyenv/versions/3.6.9/envs/py369/lib/python3.6/site-packages/IPython/core/ultratb.py\", line 1101, in get_records\n",
      "    return _fixed_getinnerframes(etb, number_of_lines_of_context, tb_offset)\n",
      "  File \"/home/python/.pyenv/versions/3.6.9/envs/py369/lib/python3.6/site-packages/IPython/core/ultratb.py\", line 319, in wrapped\n",
      "    return f(*args, **kwargs)\n",
      "  File \"/home/python/.pyenv/versions/3.6.9/envs/py369/lib/python3.6/site-packages/IPython/core/ultratb.py\", line 353, in _fixed_getinnerframes\n",
      "    records = fix_frame_records_filenames(inspect.getinnerframes(etb, context))\n",
      "  File \"/home/python/.pyenv/versions/3.6.9/lib/python3.6/inspect.py\", line 1490, in getinnerframes\n",
      "    frameinfo = (tb.tb_frame,) + getframeinfo(tb, context)\n",
      "  File \"/home/python/.pyenv/versions/3.6.9/lib/python3.6/inspect.py\", line 1448, in getframeinfo\n",
      "    filename = getsourcefile(frame) or getfile(frame)\n",
      "  File \"/home/python/.pyenv/versions/3.6.9/lib/python3.6/inspect.py\", line 696, in getsourcefile\n",
      "    if getattr(getmodule(object, filename), '__loader__', None) is not None:\n",
      "  File \"/home/python/.pyenv/versions/3.6.9/lib/python3.6/inspect.py\", line 725, in getmodule\n",
      "    file = getabsfile(object, _filename)\n",
      "  File \"/home/python/.pyenv/versions/3.6.9/lib/python3.6/inspect.py\", line 709, in getabsfile\n",
      "    return os.path.normcase(os.path.abspath(_filename))\n",
      "  File \"/home/python/.pyenv/versions/3.6.9/lib/python3.6/posixpath.py\", line 383, in abspath\n",
      "    cwd = os.getcwd()\n",
      "FileNotFoundError: [Errno 2] No such file or directory\n",
      "Traceback (most recent call last):\n",
      "  File \"/home/python/.pyenv/versions/3.6.9/envs/py369/lib/python3.6/site-packages/ipykernel/kernelbase.py\", line 884, in _input_request\n",
      "    ident, reply = self.session.recv(self.stdin_socket, 0)\n",
      "  File \"/home/python/.pyenv/versions/3.6.9/envs/py369/lib/python3.6/site-packages/jupyter_client/session.py\", line 803, in recv\n",
      "    msg_list = socket.recv_multipart(mode, copy=copy)\n",
      "  File \"/home/python/.pyenv/versions/3.6.9/envs/py369/lib/python3.6/site-packages/zmq/sugar/socket.py\", line 475, in recv_multipart\n",
      "    parts = [self.recv(flags, copy=copy, track=track)]\n",
      "  File \"zmq/backend/cython/socket.pyx\", line 791, in zmq.backend.cython.socket.Socket.recv\n",
      "  File \"zmq/backend/cython/socket.pyx\", line 827, in zmq.backend.cython.socket.Socket.recv\n",
      "  File \"zmq/backend/cython/socket.pyx\", line 186, in zmq.backend.cython.socket._recv_copy\n",
      "  File \"zmq/backend/cython/checkrc.pxd\", line 12, in zmq.backend.cython.checkrc._check_rc\n",
      "KeyboardInterrupt\n",
      "\n",
      "During handling of the above exception, another exception occurred:\n",
      "\n",
      "Traceback (most recent call last):\n",
      "  File \"/home/python/.pyenv/versions/3.6.9/envs/py369/lib/python3.6/site-packages/IPython/core/interactiveshell.py\", line 3319, in run_code\n",
      "    exec(code_obj, self.user_global_ns, self.user_ns)\n",
      "  File \"<ipython-input-399-e53d14419756>\", line 11, in <module>\n",
      "    debet=int(input('你要押注多少？'))\n",
      "  File \"/home/python/.pyenv/versions/3.6.9/envs/py369/lib/python3.6/site-packages/ipykernel/kernelbase.py\", line 859, in raw_input\n",
      "    password=False,\n",
      "  File \"/home/python/.pyenv/versions/3.6.9/envs/py369/lib/python3.6/site-packages/ipykernel/kernelbase.py\", line 889, in _input_request\n",
      "    raise KeyboardInterrupt\n",
      "KeyboardInterrupt\n",
      "\n",
      "During handling of the above exception, another exception occurred:\n",
      "\n",
      "Traceback (most recent call last):\n",
      "  File \"/home/python/.pyenv/versions/3.6.9/envs/py369/lib/python3.6/site-packages/IPython/core/interactiveshell.py\", line 2034, in showtraceback\n",
      "    stb = value._render_traceback_()\n",
      "AttributeError: 'KeyboardInterrupt' object has no attribute '_render_traceback_'\n",
      "\n",
      "During handling of the above exception, another exception occurred:\n",
      "\n",
      "Traceback (most recent call last):\n",
      "  File \"/home/python/.pyenv/versions/3.6.9/envs/py369/lib/python3.6/site-packages/IPython/core/interactiveshell.py\", line 3242, in run_ast_nodes\n",
      "    if (await self.run_code(code, result,  async_=asy)):\n",
      "  File \"/home/python/.pyenv/versions/3.6.9/envs/py369/lib/python3.6/site-packages/IPython/core/interactiveshell.py\", line 3336, in run_code\n",
      "    self.showtraceback(running_compiled_code=True)\n",
      "  File \"/home/python/.pyenv/versions/3.6.9/envs/py369/lib/python3.6/site-packages/IPython/core/interactiveshell.py\", line 2037, in showtraceback\n",
      "    value, tb, tb_offset=tb_offset)\n",
      "  File \"/home/python/.pyenv/versions/3.6.9/envs/py369/lib/python3.6/site-packages/IPython/core/ultratb.py\", line 1385, in structured_traceback\n",
      "    self, etype, value, tb, tb_offset, number_of_lines_of_context)\n",
      "  File \"/home/python/.pyenv/versions/3.6.9/envs/py369/lib/python3.6/site-packages/IPython/core/ultratb.py\", line 1288, in structured_traceback\n",
      "    self, etype, value, tb, tb_offset, number_of_lines_of_context\n",
      "  File \"/home/python/.pyenv/versions/3.6.9/envs/py369/lib/python3.6/site-packages/IPython/core/ultratb.py\", line 1150, in structured_traceback\n",
      "    formatted_exceptions += self.prepare_chained_exception_message(evalue.__cause__)\n",
      "TypeError: must be str, not list\n",
      "\n",
      "During handling of the above exception, another exception occurred:\n",
      "\n",
      "Traceback (most recent call last):\n",
      "  File \"/home/python/.pyenv/versions/3.6.9/envs/py369/lib/python3.6/site-packages/IPython/core/interactiveshell.py\", line 2034, in showtraceback\n",
      "    stb = value._render_traceback_()\n",
      "AttributeError: 'TypeError' object has no attribute '_render_traceback_'\n",
      "\n",
      "During handling of the above exception, another exception occurred:\n",
      "\n",
      "Traceback (most recent call last):\n",
      "  File \"/home/python/.pyenv/versions/3.6.9/envs/py369/lib/python3.6/site-packages/IPython/core/ultratb.py\", line 1101, in get_records\n",
      "    return _fixed_getinnerframes(etb, number_of_lines_of_context, tb_offset)\n",
      "  File \"/home/python/.pyenv/versions/3.6.9/envs/py369/lib/python3.6/site-packages/IPython/core/ultratb.py\", line 319, in wrapped\n",
      "    return f(*args, **kwargs)\n",
      "  File \"/home/python/.pyenv/versions/3.6.9/envs/py369/lib/python3.6/site-packages/IPython/core/ultratb.py\", line 353, in _fixed_getinnerframes\n",
      "    records = fix_frame_records_filenames(inspect.getinnerframes(etb, context))\n",
      "  File \"/home/python/.pyenv/versions/3.6.9/lib/python3.6/inspect.py\", line 1490, in getinnerframes\n",
      "    frameinfo = (tb.tb_frame,) + getframeinfo(tb, context)\n",
      "  File \"/home/python/.pyenv/versions/3.6.9/lib/python3.6/inspect.py\", line 1448, in getframeinfo\n",
      "    filename = getsourcefile(frame) or getfile(frame)\n",
      "  File \"/home/python/.pyenv/versions/3.6.9/lib/python3.6/inspect.py\", line 696, in getsourcefile\n",
      "    if getattr(getmodule(object, filename), '__loader__', None) is not None:\n",
      "  File \"/home/python/.pyenv/versions/3.6.9/lib/python3.6/inspect.py\", line 725, in getmodule\n",
      "    file = getabsfile(object, _filename)\n",
      "  File \"/home/python/.pyenv/versions/3.6.9/lib/python3.6/inspect.py\", line 709, in getabsfile\n",
      "    return os.path.normcase(os.path.abspath(_filename))\n",
      "  File \"/home/python/.pyenv/versions/3.6.9/lib/python3.6/posixpath.py\", line 383, in abspath\n",
      "    cwd = os.getcwd()\n",
      "FileNotFoundError: [Errno 2] No such file or directory\n",
      "Traceback (most recent call last):\n",
      "  File \"/home/python/.pyenv/versions/3.6.9/envs/py369/lib/python3.6/site-packages/ipykernel/kernelbase.py\", line 884, in _input_request\n",
      "    ident, reply = self.session.recv(self.stdin_socket, 0)\n",
      "  File \"/home/python/.pyenv/versions/3.6.9/envs/py369/lib/python3.6/site-packages/jupyter_client/session.py\", line 803, in recv\n",
      "    msg_list = socket.recv_multipart(mode, copy=copy)\n",
      "  File \"/home/python/.pyenv/versions/3.6.9/envs/py369/lib/python3.6/site-packages/zmq/sugar/socket.py\", line 475, in recv_multipart\n",
      "    parts = [self.recv(flags, copy=copy, track=track)]\n",
      "  File \"zmq/backend/cython/socket.pyx\", line 791, in zmq.backend.cython.socket.Socket.recv\n",
      "  File \"zmq/backend/cython/socket.pyx\", line 827, in zmq.backend.cython.socket.Socket.recv\n",
      "  File \"zmq/backend/cython/socket.pyx\", line 186, in zmq.backend.cython.socket._recv_copy\n",
      "  File \"zmq/backend/cython/checkrc.pxd\", line 12, in zmq.backend.cython.checkrc._check_rc\n",
      "KeyboardInterrupt\n",
      "\n",
      "During handling of the above exception, another exception occurred:\n",
      "\n",
      "Traceback (most recent call last):\n",
      "  File \"/home/python/.pyenv/versions/3.6.9/envs/py369/lib/python3.6/site-packages/IPython/core/interactiveshell.py\", line 3319, in run_code\n",
      "    exec(code_obj, self.user_global_ns, self.user_ns)\n",
      "  File \"<ipython-input-399-e53d14419756>\", line 11, in <module>\n",
      "    debet=int(input('你要押注多少？'))\n",
      "  File \"/home/python/.pyenv/versions/3.6.9/envs/py369/lib/python3.6/site-packages/ipykernel/kernelbase.py\", line 859, in raw_input\n",
      "    password=False,\n",
      "  File \"/home/python/.pyenv/versions/3.6.9/envs/py369/lib/python3.6/site-packages/ipykernel/kernelbase.py\", line 889, in _input_request\n",
      "    raise KeyboardInterrupt\n",
      "KeyboardInterrupt\n",
      "\n",
      "During handling of the above exception, another exception occurred:\n",
      "\n",
      "Traceback (most recent call last):\n",
      "  File \"/home/python/.pyenv/versions/3.6.9/envs/py369/lib/python3.6/site-packages/IPython/core/interactiveshell.py\", line 2034, in showtraceback\n",
      "    stb = value._render_traceback_()\n",
      "AttributeError: 'KeyboardInterrupt' object has no attribute '_render_traceback_'\n",
      "\n",
      "During handling of the above exception, another exception occurred:\n",
      "\n",
      "Traceback (most recent call last):\n",
      "  File \"/home/python/.pyenv/versions/3.6.9/envs/py369/lib/python3.6/site-packages/IPython/core/interactiveshell.py\", line 3242, in run_ast_nodes\n",
      "    if (await self.run_code(code, result,  async_=asy)):\n",
      "  File \"/home/python/.pyenv/versions/3.6.9/envs/py369/lib/python3.6/site-packages/IPython/core/interactiveshell.py\", line 3336, in run_code\n",
      "    self.showtraceback(running_compiled_code=True)\n",
      "  File \"/home/python/.pyenv/versions/3.6.9/envs/py369/lib/python3.6/site-packages/IPython/core/interactiveshell.py\", line 2037, in showtraceback\n",
      "    value, tb, tb_offset=tb_offset)\n",
      "  File \"/home/python/.pyenv/versions/3.6.9/envs/py369/lib/python3.6/site-packages/IPython/core/ultratb.py\", line 1385, in structured_traceback\n",
      "    self, etype, value, tb, tb_offset, number_of_lines_of_context)\n",
      "  File \"/home/python/.pyenv/versions/3.6.9/envs/py369/lib/python3.6/site-packages/IPython/core/ultratb.py\", line 1288, in structured_traceback\n",
      "    self, etype, value, tb, tb_offset, number_of_lines_of_context\n",
      "  File \"/home/python/.pyenv/versions/3.6.9/envs/py369/lib/python3.6/site-packages/IPython/core/ultratb.py\", line 1150, in structured_traceback\n",
      "    formatted_exceptions += self.prepare_chained_exception_message(evalue.__cause__)\n",
      "TypeError: must be str, not list\n",
      "\n",
      "During handling of the above exception, another exception occurred:\n",
      "\n",
      "Traceback (most recent call last):\n",
      "  File \"/home/python/.pyenv/versions/3.6.9/envs/py369/lib/python3.6/site-packages/IPython/core/interactiveshell.py\", line 2034, in showtraceback\n",
      "    stb = value._render_traceback_()\n",
      "AttributeError: 'TypeError' object has no attribute '_render_traceback_'\n",
      "\n",
      "During handling of the above exception, another exception occurred:\n",
      "\n",
      "Traceback (most recent call last):\n",
      "  File \"/home/python/.pyenv/versions/3.6.9/envs/py369/lib/python3.6/site-packages/IPython/core/ultratb.py\", line 1101, in get_records\n",
      "    return _fixed_getinnerframes(etb, number_of_lines_of_context, tb_offset)\n",
      "  File \"/home/python/.pyenv/versions/3.6.9/envs/py369/lib/python3.6/site-packages/IPython/core/ultratb.py\", line 319, in wrapped\n",
      "    return f(*args, **kwargs)\n",
      "  File \"/home/python/.pyenv/versions/3.6.9/envs/py369/lib/python3.6/site-packages/IPython/core/ultratb.py\", line 353, in _fixed_getinnerframes\n",
      "    records = fix_frame_records_filenames(inspect.getinnerframes(etb, context))\n",
      "  File \"/home/python/.pyenv/versions/3.6.9/lib/python3.6/inspect.py\", line 1490, in getinnerframes\n",
      "    frameinfo = (tb.tb_frame,) + getframeinfo(tb, context)\n",
      "  File \"/home/python/.pyenv/versions/3.6.9/lib/python3.6/inspect.py\", line 1448, in getframeinfo\n",
      "    filename = getsourcefile(frame) or getfile(frame)\n",
      "  File \"/home/python/.pyenv/versions/3.6.9/lib/python3.6/inspect.py\", line 696, in getsourcefile\n",
      "    if getattr(getmodule(object, filename), '__loader__', None) is not None:\n",
      "  File \"/home/python/.pyenv/versions/3.6.9/lib/python3.6/inspect.py\", line 725, in getmodule\n",
      "    file = getabsfile(object, _filename)\n",
      "  File \"/home/python/.pyenv/versions/3.6.9/lib/python3.6/inspect.py\", line 709, in getabsfile\n",
      "    return os.path.normcase(os.path.abspath(_filename))\n",
      "  File \"/home/python/.pyenv/versions/3.6.9/lib/python3.6/posixpath.py\", line 383, in abspath\n",
      "    cwd = os.getcwd()\n",
      "FileNotFoundError: [Errno 2] No such file or directory\n"
     ]
    },
    {
     "ename": "TypeError",
     "evalue": "must be str, not list",
     "output_type": "error",
     "traceback": [
      "\u001b[0;31m---------------------------------------------------------------------------\u001b[0m",
      "\nDuring handling of the above exception, another exception occurred:\n",
      "\nDuring handling of the above exception, another exception occurred:\n",
      "\u001b[0;31mAttributeError\u001b[0m                            Traceback (most recent call last)",
      "\u001b[0;32m~/.pyenv/versions/3.6.9/envs/py369/lib/python3.6/site-packages/IPython/core/interactiveshell.py\u001b[0m in \u001b[0;36mshowtraceback\u001b[0;34m(self, exc_tuple, filename, tb_offset, exception_only, running_compiled_code)\u001b[0m\n\u001b[1;32m   2033\u001b[0m                         \u001b[0;31m# in the engines. This should return a list of strings.\u001b[0m\u001b[0;34m\u001b[0m\u001b[0;34m\u001b[0m\u001b[0;34m\u001b[0m\u001b[0m\n\u001b[0;32m-> 2034\u001b[0;31m                         \u001b[0mstb\u001b[0m \u001b[0;34m=\u001b[0m \u001b[0mvalue\u001b[0m\u001b[0;34m.\u001b[0m\u001b[0m_render_traceback_\u001b[0m\u001b[0;34m(\u001b[0m\u001b[0;34m)\u001b[0m\u001b[0;34m\u001b[0m\u001b[0;34m\u001b[0m\u001b[0m\n\u001b[0m\u001b[1;32m   2035\u001b[0m                     \u001b[0;32mexcept\u001b[0m \u001b[0mException\u001b[0m\u001b[0;34m:\u001b[0m\u001b[0;34m\u001b[0m\u001b[0;34m\u001b[0m\u001b[0m\n",
      "\u001b[0;31mAttributeError\u001b[0m: 'KeyboardInterrupt' object has no attribute '_render_traceback_'",
      "\nDuring handling of the above exception, another exception occurred:\n",
      "\u001b[0;31mTypeError\u001b[0m                                 Traceback (most recent call last)",
      "\u001b[0;32m~/.pyenv/versions/3.6.9/envs/py369/lib/python3.6/site-packages/IPython/core/interactiveshell.py\u001b[0m in \u001b[0;36mrun_code\u001b[0;34m(self, code_obj, result, async_)\u001b[0m\n\u001b[1;32m   3334\u001b[0m             \u001b[0;32mif\u001b[0m \u001b[0mresult\u001b[0m \u001b[0;32mis\u001b[0m \u001b[0;32mnot\u001b[0m \u001b[0;32mNone\u001b[0m\u001b[0;34m:\u001b[0m\u001b[0;34m\u001b[0m\u001b[0;34m\u001b[0m\u001b[0m\n\u001b[1;32m   3335\u001b[0m                 \u001b[0mresult\u001b[0m\u001b[0;34m.\u001b[0m\u001b[0merror_in_exec\u001b[0m \u001b[0;34m=\u001b[0m \u001b[0msys\u001b[0m\u001b[0;34m.\u001b[0m\u001b[0mexc_info\u001b[0m\u001b[0;34m(\u001b[0m\u001b[0;34m)\u001b[0m\u001b[0;34m[\u001b[0m\u001b[0;36m1\u001b[0m\u001b[0;34m]\u001b[0m\u001b[0;34m\u001b[0m\u001b[0;34m\u001b[0m\u001b[0m\n\u001b[0;32m-> 3336\u001b[0;31m             \u001b[0mself\u001b[0m\u001b[0;34m.\u001b[0m\u001b[0mshowtraceback\u001b[0m\u001b[0;34m(\u001b[0m\u001b[0mrunning_compiled_code\u001b[0m\u001b[0;34m=\u001b[0m\u001b[0;32mTrue\u001b[0m\u001b[0;34m)\u001b[0m\u001b[0;34m\u001b[0m\u001b[0;34m\u001b[0m\u001b[0m\n\u001b[0m\u001b[1;32m   3337\u001b[0m         \u001b[0;32melse\u001b[0m\u001b[0;34m:\u001b[0m\u001b[0;34m\u001b[0m\u001b[0;34m\u001b[0m\u001b[0m\n\u001b[1;32m   3338\u001b[0m             \u001b[0moutflag\u001b[0m \u001b[0;34m=\u001b[0m \u001b[0;32mFalse\u001b[0m\u001b[0;34m\u001b[0m\u001b[0;34m\u001b[0m\u001b[0m\n",
      "\u001b[0;32m~/.pyenv/versions/3.6.9/envs/py369/lib/python3.6/site-packages/IPython/core/interactiveshell.py\u001b[0m in \u001b[0;36mshowtraceback\u001b[0;34m(self, exc_tuple, filename, tb_offset, exception_only, running_compiled_code)\u001b[0m\n\u001b[1;32m   2035\u001b[0m                     \u001b[0;32mexcept\u001b[0m \u001b[0mException\u001b[0m\u001b[0;34m:\u001b[0m\u001b[0;34m\u001b[0m\u001b[0;34m\u001b[0m\u001b[0m\n\u001b[1;32m   2036\u001b[0m                         stb = self.InteractiveTB.structured_traceback(etype,\n\u001b[0;32m-> 2037\u001b[0;31m                                             value, tb, tb_offset=tb_offset)\n\u001b[0m\u001b[1;32m   2038\u001b[0m \u001b[0;34m\u001b[0m\u001b[0m\n\u001b[1;32m   2039\u001b[0m                     \u001b[0mself\u001b[0m\u001b[0;34m.\u001b[0m\u001b[0m_showtraceback\u001b[0m\u001b[0;34m(\u001b[0m\u001b[0metype\u001b[0m\u001b[0;34m,\u001b[0m \u001b[0mvalue\u001b[0m\u001b[0;34m,\u001b[0m \u001b[0mstb\u001b[0m\u001b[0;34m)\u001b[0m\u001b[0;34m\u001b[0m\u001b[0;34m\u001b[0m\u001b[0m\n",
      "\u001b[0;32m~/.pyenv/versions/3.6.9/envs/py369/lib/python3.6/site-packages/IPython/core/ultratb.py\u001b[0m in \u001b[0;36mstructured_traceback\u001b[0;34m(self, etype, value, tb, tb_offset, number_of_lines_of_context)\u001b[0m\n\u001b[1;32m   1383\u001b[0m         \u001b[0mself\u001b[0m\u001b[0;34m.\u001b[0m\u001b[0mtb\u001b[0m \u001b[0;34m=\u001b[0m \u001b[0mtb\u001b[0m\u001b[0;34m\u001b[0m\u001b[0;34m\u001b[0m\u001b[0m\n\u001b[1;32m   1384\u001b[0m         return FormattedTB.structured_traceback(\n\u001b[0;32m-> 1385\u001b[0;31m             self, etype, value, tb, tb_offset, number_of_lines_of_context)\n\u001b[0m\u001b[1;32m   1386\u001b[0m \u001b[0;34m\u001b[0m\u001b[0m\n\u001b[1;32m   1387\u001b[0m \u001b[0;34m\u001b[0m\u001b[0m\n",
      "\u001b[0;32m~/.pyenv/versions/3.6.9/envs/py369/lib/python3.6/site-packages/IPython/core/ultratb.py\u001b[0m in \u001b[0;36mstructured_traceback\u001b[0;34m(self, etype, value, tb, tb_offset, number_of_lines_of_context)\u001b[0m\n\u001b[1;32m   1286\u001b[0m             \u001b[0;31m# Verbose modes need a full traceback\u001b[0m\u001b[0;34m\u001b[0m\u001b[0;34m\u001b[0m\u001b[0;34m\u001b[0m\u001b[0m\n\u001b[1;32m   1287\u001b[0m             return VerboseTB.structured_traceback(\n\u001b[0;32m-> 1288\u001b[0;31m                 \u001b[0mself\u001b[0m\u001b[0;34m,\u001b[0m \u001b[0metype\u001b[0m\u001b[0;34m,\u001b[0m \u001b[0mvalue\u001b[0m\u001b[0;34m,\u001b[0m \u001b[0mtb\u001b[0m\u001b[0;34m,\u001b[0m \u001b[0mtb_offset\u001b[0m\u001b[0;34m,\u001b[0m \u001b[0mnumber_of_lines_of_context\u001b[0m\u001b[0;34m\u001b[0m\u001b[0;34m\u001b[0m\u001b[0m\n\u001b[0m\u001b[1;32m   1289\u001b[0m             )\n\u001b[1;32m   1290\u001b[0m         \u001b[0;32melif\u001b[0m \u001b[0mmode\u001b[0m \u001b[0;34m==\u001b[0m \u001b[0;34m'Minimal'\u001b[0m\u001b[0;34m:\u001b[0m\u001b[0;34m\u001b[0m\u001b[0;34m\u001b[0m\u001b[0m\n",
      "\u001b[0;32m~/.pyenv/versions/3.6.9/envs/py369/lib/python3.6/site-packages/IPython/core/ultratb.py\u001b[0m in \u001b[0;36mstructured_traceback\u001b[0;34m(self, etype, evalue, etb, tb_offset, number_of_lines_of_context)\u001b[0m\n\u001b[1;32m   1148\u001b[0m         \u001b[0mexception\u001b[0m \u001b[0;34m=\u001b[0m \u001b[0mself\u001b[0m\u001b[0;34m.\u001b[0m\u001b[0mget_parts_of_chained_exception\u001b[0m\u001b[0;34m(\u001b[0m\u001b[0mevalue\u001b[0m\u001b[0;34m)\u001b[0m\u001b[0;34m\u001b[0m\u001b[0;34m\u001b[0m\u001b[0m\n\u001b[1;32m   1149\u001b[0m         \u001b[0;32mif\u001b[0m \u001b[0mexception\u001b[0m\u001b[0;34m:\u001b[0m\u001b[0;34m\u001b[0m\u001b[0;34m\u001b[0m\u001b[0m\n\u001b[0;32m-> 1150\u001b[0;31m             \u001b[0mformatted_exceptions\u001b[0m \u001b[0;34m+=\u001b[0m \u001b[0mself\u001b[0m\u001b[0;34m.\u001b[0m\u001b[0mprepare_chained_exception_message\u001b[0m\u001b[0;34m(\u001b[0m\u001b[0mevalue\u001b[0m\u001b[0;34m.\u001b[0m\u001b[0m__cause__\u001b[0m\u001b[0;34m)\u001b[0m\u001b[0;34m\u001b[0m\u001b[0;34m\u001b[0m\u001b[0m\n\u001b[0m\u001b[1;32m   1151\u001b[0m             \u001b[0metype\u001b[0m\u001b[0;34m,\u001b[0m \u001b[0mevalue\u001b[0m\u001b[0;34m,\u001b[0m \u001b[0metb\u001b[0m \u001b[0;34m=\u001b[0m \u001b[0mexception\u001b[0m\u001b[0;34m\u001b[0m\u001b[0;34m\u001b[0m\u001b[0m\n\u001b[1;32m   1152\u001b[0m         \u001b[0;32melse\u001b[0m\u001b[0;34m:\u001b[0m\u001b[0;34m\u001b[0m\u001b[0;34m\u001b[0m\u001b[0m\n",
      "\u001b[0;31mTypeError\u001b[0m: must be str, not list"
     ]
    }
   ],
   "source": [
    "#赌博游戏,CRAPS又称花旗骰，是美国拉斯维加斯非常受欢迎的一种的桌上赌博游戏。\n",
    "#该游戏使用两粒骰子，玩家通过摇两粒骰子获得点数进行游戏。简单的规则是：\n",
    "#玩家第一次摇骰子如果摇出了7点或11点，玩家胜；玩家第一次如果摇出2点、3点或12点，庄家胜；\n",
    "#其他点数玩家继续摇骰子，如果玩家摇出了7点，庄家胜；\n",
    "#如果玩家摇出了第一次摇的点数，玩家胜；\n",
    "#其他点数，玩家继续要骰子，直到分出胜负。\n",
    "from random import randint\n",
    "money=1000\n",
    "\n",
    "while money>0:\n",
    "    debet=int(input('你要押注多少？'))\n",
    "    if debet >= money:\n",
    "        debet=money\n",
    "    num1=int(randint(1,6)+randint(1,6))\n",
    "    if num1 == 7 or num1 == 11:\n",
    "        print('摇到%d点，你赢了%d圆。' % (num1,debet))\n",
    "        money += debet\n",
    "        print('现在你总共有<%d>圆' % money)\n",
    "        print()\n",
    "    elif num1 == 2 or num1 == 3 or num1 == 12:\n",
    "        print('摇到%d点，你输了%d圆。' % (num1,debet))\n",
    "        money -= debet\n",
    "        print('现在你总共有<%d>圆' % money)\n",
    "        print()\n",
    "    else:\n",
    "        print('此轮未分胜负，进行下一轮！此轮点数为%d' % num1)\n",
    "        print('现在你总共有<%d>圆' % money)\n",
    "        go_or_stop=True\n",
    "        while go_or_stop == True:\n",
    "            go_or_stop=False\n",
    "            num2=int(randint(1,6)+randint(1,6))\n",
    "            if num2 == 7:\n",
    "                print('第二次摇到7点，你输了%d圆' % debet)\n",
    "                money-=debet\n",
    "                print('现在你总共有<%d>圆' % money)\n",
    "                print()\n",
    "                break\n",
    "            elif num1 == num2:\n",
    "                print('第一次第二次相同，你赢了%d圆' % debet)\n",
    "                money += debet\n",
    "                print('现在你总共有<%d>圆' % money)\n",
    "                print()\n",
    "                break\n",
    "            else:\n",
    "                go_or_stop=True\n",
    "    if not money:\n",
    "        print('你,破产了...')\n",
    "    else:\n",
    "        go_or_stop=True"
   ]
  },
  {
   "cell_type": "code",
   "execution_count": 406,
   "metadata": {
    "collapsed": true
   },
   "outputs": [
    {
     "name": "stdout",
     "output_type": "stream",
     "text": [
      "1\n",
      "1\n",
      "2\n",
      "3\n",
      "5\n",
      "8\n",
      "13\n",
      "21\n",
      "34\n",
      "55\n",
      "89\n",
      "144\n",
      "233\n",
      "377\n",
      "610\n",
      "987\n",
      "1597\n",
      "2584\n",
      "4181\n",
      "6765\n",
      "10946\n"
     ]
    }
   ],
   "source": [
    "#计算斐波那契数列前20位\n",
    "array=[1,1]\n",
    "for i in range(2,21):\n",
    "    array+=[array[i-1]+array[i-2]]\n",
    "\n",
    "for j in array:\n",
    "    print(j)\n",
    "    \n",
    "\n",
    "# array=[1,1]\n",
    "# test=[2]+array      列表操作，直接加元素\n",
    "# test"
   ]
  },
  {
   "cell_type": "code",
   "execution_count": 412,
   "metadata": {},
   "outputs": [
    {
     "name": "stdout",
     "output_type": "stream",
     "text": [
      "6是完美数\n",
      "28是完美数\n",
      "496是完美数\n",
      "8128是完美数\n"
     ]
    }
   ],
   "source": [
    "#计算10000内的完美数，所有约数之和等于其数值\n",
    "for i in range(1,100001):\n",
    "    sum=0\n",
    "    for j in range(1,i):\n",
    "        if i % j:\n",
    "            continue\n",
    "        else:\n",
    "            sum+=j\n",
    "    if sum == i:\n",
    "        print('%d是完美数' % i)\n",
    "    else:\n",
    "        continue\n"
   ]
  },
  {
   "cell_type": "code",
   "execution_count": 1,
   "metadata": {},
   "outputs": [
    {
     "data": {
      "text/plain": [
       "-2"
      ]
     },
     "execution_count": 1,
     "metadata": {},
     "output_type": "execute_result"
    }
   ],
   "source": [
    "-3//2"
   ]
  },
  {
   "cell_type": "code",
   "execution_count": 10,
   "metadata": {},
   "outputs": [
    {
     "name": "stdout",
     "output_type": "stream",
     "text": [
      "round ------------\n",
      "1 -1 -2 2\n",
      "2 -2 3 3\n",
      "round .5 ---------\n",
      "0 2 2 4\n",
      "0 -2 -2 -4\n"
     ]
    }
   ],
   "source": [
    "print('round ------------')\n",
    "print(round(1.4), round(-1.4), round(-1.6), round(1.6))\n",
    "print(round(2.4), round(-2.4), round(2.6), round(2.6))\n",
    "print('round .5 ---------')\n",
    "print(round(0.5), round(1.5), round(2.5), round(3.5))\n",
    "print(round(-0.5), round(-1.5), round(-2.5), round(-3.5))"
   ]
  },
  {
   "cell_type": "code",
   "execution_count": null,
   "metadata": {},
   "outputs": [],
   "source": []
  }
 ],
 "metadata": {
  "kernelspec": {
   "display_name": "Python 3",
   "language": "python",
   "name": "python3"
  },
  "language_info": {
   "codemirror_mode": {
    "name": "ipython",
    "version": 3
   },
   "file_extension": ".py",
   "mimetype": "text/x-python",
   "name": "python",
   "nbconvert_exporter": "python",
   "pygments_lexer": "ipython3",
   "version": "3.7.5"
  }
 },
 "nbformat": 4,
 "nbformat_minor": 2
}
