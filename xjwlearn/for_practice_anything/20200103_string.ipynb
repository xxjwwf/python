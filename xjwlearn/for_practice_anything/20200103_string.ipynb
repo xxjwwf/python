{
 "cells": [
  {
   "cell_type": "code",
   "execution_count": 1,
   "metadata": {},
   "outputs": [
    {
     "name": "stdout",
     "output_type": "stream",
     "text": [
      "<class 'str'>\n"
     ]
    }
   ],
   "source": [
    "print(type('aaa'))"
   ]
  },
  {
   "cell_type": "code",
   "execution_count": 6,
   "metadata": {},
   "outputs": [
    {
     "ename": "TypeError",
     "evalue": "'str' object does not support item assignment",
     "output_type": "error",
     "traceback": [
      "\u001b[0;31m---------------------------------------------------------------------------\u001b[0m",
      "\u001b[0;31mTypeError\u001b[0m                                 Traceback (most recent call last)",
      "\u001b[0;32m<ipython-input-6-92d3d5cce20a>\u001b[0m in \u001b[0;36m<module>\u001b[0;34m\u001b[0m\n\u001b[1;32m      6\u001b[0m \u001b[0ms10\u001b[0m\u001b[0;34m=\u001b[0m\u001b[0;34m\"\"\"select * from student where name='tom'\"\"\"\u001b[0m\u001b[0;34m\u001b[0m\u001b[0;34m\u001b[0m\u001b[0m\n\u001b[1;32m      7\u001b[0m \u001b[0ms10\u001b[0m\u001b[0;34m[\u001b[0m\u001b[0;36m4\u001b[0m\u001b[0;34m]\u001b[0m\u001b[0;34m\u001b[0m\u001b[0;34m\u001b[0m\u001b[0m\n\u001b[0;32m----> 8\u001b[0;31m \u001b[0ms10\u001b[0m\u001b[0;34m[\u001b[0m\u001b[0;36m5\u001b[0m\u001b[0;34m]\u001b[0m\u001b[0;34m=\u001b[0m\u001b[0;34m'a'\u001b[0m\u001b[0;34m\u001b[0m\u001b[0;34m\u001b[0m\u001b[0m\n\u001b[0m",
      "\u001b[0;31mTypeError\u001b[0m: 'str' object does not support item assignment"
     ]
    }
   ],
   "source": [
    "s6='c:\\windows\\nt'\n",
    "s8='c:\\windows\\\\nt'\n",
    "name='tom'\n",
    "age=22\n",
    "s9=f'{name}:{age}'\n",
    "s10=\"\"\"select * from student where name='tom'\"\"\"\n",
    "s10[4]\n",
    "s10[5]='a'"
   ]
  },
  {
   "cell_type": "code",
   "execution_count": 22,
   "metadata": {},
   "outputs": [
    {
     "name": "stdout",
     "output_type": "stream",
     "text": [
      "name:tom\n"
     ]
    }
   ],
   "source": [
    ">>> str1='name'\n",
    ">>> str2='tom'\n",
    ">>> print(str1+':'+str2)"
   ]
  },
  {
   "cell_type": "code",
   "execution_count": 23,
   "metadata": {},
   "outputs": [
    {
     "name": "stdout",
     "output_type": "stream",
     "text": [
      "abc\n"
     ]
    }
   ],
   "source": [
    "L1=['a','b','c']\n",
    "str=''.join(L1)  ##将分隔符设置为空，这样就能无缝连接；李彪中的各个元素\n",
    "print(str)"
   ]
  },
  {
   "cell_type": "code",
   "execution_count": 25,
   "metadata": {},
   "outputs": [
    {
     "data": {
      "text/plain": [
       "['q', 'e']"
      ]
     },
     "execution_count": 25,
     "metadata": {},
     "output_type": "execute_result"
    }
   ],
   "source": [
    "import random\n",
    "random.sample('abcdefghijklmnopqrstuvwxyz',2)"
   ]
  },
  {
   "cell_type": "code",
   "execution_count": 26,
   "metadata": {},
   "outputs": [
    {
     "name": "stdout",
     "output_type": "stream",
     "text": [
      "wq\n"
     ]
    }
   ],
   "source": [
    ">>> str2=''.join(random.sample('abcdefghijklmnopqrstuvwxyz',2)) ##使用join函数来组合random生成的元素\n",
    ">>> print(str2)"
   ]
  },
  {
   "cell_type": "code",
   "execution_count": 27,
   "metadata": {},
   "outputs": [
    {
     "ename": "TypeError",
     "evalue": "sequence item 0: expected str instance, int found",
     "output_type": "error",
     "traceback": [
      "\u001b[0;31m---------------------------------------------------------------------------\u001b[0m",
      "\u001b[0;31mTypeError\u001b[0m                                 Traceback (most recent call last)",
      "\u001b[0;32m<ipython-input-27-6875c6e589c2>\u001b[0m in \u001b[0;36m<module>\u001b[0;34m\u001b[0m\n\u001b[0;32m----> 1\u001b[0;31m \u001b[0mprint\u001b[0m\u001b[0;34m(\u001b[0m\u001b[0;34m'-'\u001b[0m\u001b[0;34m.\u001b[0m\u001b[0mjoin\u001b[0m\u001b[0;34m(\u001b[0m\u001b[0mrange\u001b[0m\u001b[0;34m(\u001b[0m\u001b[0;36m5\u001b[0m\u001b[0;34m)\u001b[0m\u001b[0;34m)\u001b[0m\u001b[0;34m)\u001b[0m\u001b[0;34m\u001b[0m\u001b[0;34m\u001b[0m\u001b[0m\n\u001b[0m",
      "\u001b[0;31mTypeError\u001b[0m: sequence item 0: expected str instance, int found"
     ]
    }
   ],
   "source": [
    "print('-'.join(range(5))) "
   ]
  },
  {
   "cell_type": "code",
   "execution_count": 29,
   "metadata": {},
   "outputs": [
    {
     "name": "stdout",
     "output_type": "stream",
     "text": [
      "3\n",
      "3\n",
      "7\n",
      "-1\n",
      "7\n",
      "-1\n"
     ]
    }
   ],
   "source": [
    ">>> s = 'heiedu.edu'\n",
    ">>> print(s.find('edu'))\n",
    ">>> print(s.find('edu', 3))\n",
    ">>> print(s.find('edu', 4))\n",
    ">>> print(s.find('edu', 6, 9))\n",
    ">>> print(s.find('edu', 7, 20))\n",
    ">>> print(s.find('edu', 200))"
   ]
  },
  {
   "cell_type": "code",
   "execution_count": 31,
   "metadata": {},
   "outputs": [
    {
     "name": "stdout",
     "output_type": "stream",
     "text": [
      "7\n",
      "7\n",
      "7\n",
      "-1\n",
      "7\n",
      "-1\n",
      "7\n"
     ]
    }
   ],
   "source": [
    "s = 'magedu.edu'\n",
    "print(s.rfind('edu'))\n",
    "print(s.rfind('edu', 3))\n",
    "print(s.rfind('edu', 4))\n",
    "print(s.rfind('edu', 6, 9))\n",
    "print(s.rfind('edu', 7, 20))\n",
    "print(s.rfind('edu', 200))\n",
    "print(s.rfind('edu', -100))"
   ]
  },
  {
   "cell_type": "code",
   "execution_count": 32,
   "metadata": {},
   "outputs": [
    {
     "name": "stdout",
     "output_type": "stream",
     "text": [
      "['a', 'b', 'c', 'd']\n",
      "['a,b,c,d']\n",
      "['a', 'b', 'c,d']\n"
     ]
    }
   ],
   "source": [
    "s = ','.join('abcd')\n",
    "print(s.split(','))\n",
    "print(s.split())\n",
    "print(s.split(',', 2))"
   ]
  },
  {
   "cell_type": "code",
   "execution_count": 35,
   "metadata": {},
   "outputs": [
    {
     "name": "stdout",
     "output_type": "stream",
     "text": [
      "['a', 'b', 'c', 'd']\n",
      "['\\na', 'b', '', '\\tc\\nd\\n']\n",
      "['', 'a b  \\tc', 'd', '']\n",
      "['\\na ', '  \\tc\\nd\\n']\n",
      "['', 'a b  \\tc', 'd']\n"
     ]
    }
   ],
   "source": [
    "s1 = '\\na b  \\tc\\nd\\n' #  注意下面3个切割的区别\n",
    "print(s1.split())\n",
    "print(s1.split(' '))\n",
    "print(s1.split('\\n'))\n",
    "print(s1.split('b'))\n",
    "print(s1.splitlines())"
   ]
  },
  {
   "cell_type": "code",
   "execution_count": 36,
   "metadata": {},
   "outputs": [
    {
     "name": "stdout",
     "output_type": "stream",
     "text": [
      "('a', ',', 'b,c,d')\n",
      "('a,b,c,d', '', '')\n",
      "('a,b,c', ',', 'd')\n",
      "('', '', 'a,b,c,d')\n"
     ]
    }
   ],
   "source": [
    "s = ','.join('abcd')\n",
    "print(s.partition(','))\n",
    "print(s.partition('.'))\n",
    "print(s.rpartition(','))\n",
    "print(s.rpartition('.'))"
   ]
  },
  {
   "cell_type": "code",
   "execution_count": null,
   "metadata": {},
   "outputs": [],
   "source": []
  },
  {
   "cell_type": "code",
   "execution_count": null,
   "metadata": {},
   "outputs": [],
   "source": []
  },
  {
   "cell_type": "code",
   "execution_count": null,
   "metadata": {},
   "outputs": [],
   "source": []
  }
 ],
 "metadata": {
  "kernelspec": {
   "display_name": "Python 3",
   "language": "python",
   "name": "python3"
  },
  "language_info": {
   "codemirror_mode": {
    "name": "ipython",
    "version": 3
   },
   "file_extension": ".py",
   "mimetype": "text/x-python",
   "name": "python",
   "nbconvert_exporter": "python",
   "pygments_lexer": "ipython3",
   "version": "3.6.9"
  }
 },
 "nbformat": 4,
 "nbformat_minor": 2
}
