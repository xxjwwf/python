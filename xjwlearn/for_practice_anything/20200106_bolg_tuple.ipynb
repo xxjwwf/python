{
 "cells": [
  {
   "cell_type": "code",
   "execution_count": 9,
   "metadata": {},
   "outputs": [
    {
     "data": {
      "text/plain": [
       "['a', 'b', 'c', 'd', 'e', 'f', 'g']"
      ]
     },
     "execution_count": 9,
     "metadata": {},
     "output_type": "execute_result"
    }
   ],
   "source": [
    "x='a-b-c-d-e-f-g'\n",
    "x.rsplit('-')"
   ]
  },
  {
   "cell_type": "code",
   "execution_count": 10,
   "metadata": {},
   "outputs": [
    {
     "data": {
      "text/plain": [
       "['a', '_aaa', 'eeee', '', 'ma']"
      ]
     },
     "execution_count": 10,
     "metadata": {},
     "output_type": "execute_result"
    }
   ],
   "source": [
    "x='a\\n_aaa\\neeee\\n\\rma'\n",
    "x.splitlines()"
   ]
  },
  {
   "cell_type": "code",
   "execution_count": 32,
   "metadata": {},
   "outputs": [
    {
     "data": {
      "text/plain": [
       "['', 'a', '_aaa', 'eeee', '\\rma', 'aa', '']"
      ]
     },
     "execution_count": 32,
     "metadata": {},
     "output_type": "execute_result"
    }
   ],
   "source": [
    "x='\\na\\n_aaa\\neeee\\n\\rma\\naa\\n'\n",
    "x.split('\\n')"
   ]
  },
  {
   "cell_type": "code",
   "execution_count": 21,
   "metadata": {},
   "outputs": [
    {
     "data": {
      "text/plain": [
       "['', 'a']"
      ]
     },
     "execution_count": 21,
     "metadata": {},
     "output_type": "execute_result"
    }
   ],
   "source": [
    "x='\\na\\n'\n",
    "x.splitlines()"
   ]
  },
  {
   "cell_type": "code",
   "execution_count": 27,
   "metadata": {},
   "outputs": [
    {
     "data": {
      "text/plain": [
       "['\\n', 'a\\n', '_aaa\\n', 'eeee\\n', '\\r', 'ma\\n', 'aa\\n']"
      ]
     },
     "execution_count": 27,
     "metadata": {},
     "output_type": "execute_result"
    }
   ],
   "source": [
    "x='\\na\\n_aaa\\neeee\\n\\rma\\naa\\n'\n",
    "x.splitlines(keepends=1)"
   ]
  },
  {
   "cell_type": "code",
   "execution_count": 31,
   "metadata": {},
   "outputs": [
    {
     "data": {
      "text/plain": [
       "['', 'a', '_aaa', 'eeee', '', 'ma', 'aa']"
      ]
     },
     "execution_count": 31,
     "metadata": {},
     "output_type": "execute_result"
    }
   ],
   "source": [
    "x='\\na\\n_aaa\\neeee\\n\\rma\\naa\\n'\n",
    "x.splitlines()"
   ]
  },
  {
   "cell_type": "code",
   "execution_count": 29,
   "metadata": {},
   "outputs": [
    {
     "name": "stdout",
     "output_type": "stream",
     "text": [
      "['a', 'b', 'c', 'd']\n",
      "['\\na', 'b', '', '\\tc\\nd\\n']\n",
      "['', 'a b  \\tc', 'd', '']\n",
      "['\\na ', '  \\tc\\nd\\n']\n"
     ]
    }
   ],
   "source": [
    "s1 = '\\na b  \\tc\\nd\\n' #  注意下面3个切割的区别\n",
    "print(s1.split())\n",
    "print(s1.split(' '))\n",
    "print(s1.split('\\n'))\n",
    "print(s1.split('b'))"
   ]
  },
  {
   "cell_type": "code",
   "execution_count": 39,
   "metadata": {},
   "outputs": [
    {
     "data": {
      "text/plain": [
       "['']"
      ]
     },
     "execution_count": 39,
     "metadata": {},
     "output_type": "execute_result"
    }
   ],
   "source": [
    "''.split('\\n')"
   ]
  },
  {
   "cell_type": "code",
   "execution_count": 40,
   "metadata": {},
   "outputs": [
    {
     "data": {
      "text/plain": [
       "['a', 'b', 'c', 'd']"
      ]
     },
     "execution_count": 40,
     "metadata": {},
     "output_type": "execute_result"
    }
   ],
   "source": [
    "x='a b c d'\n",
    "x.split()"
   ]
  },
  {
   "cell_type": "code",
   "execution_count": 43,
   "metadata": {},
   "outputs": [
    {
     "data": {
      "text/plain": [
       "('', '', 'a-b-c-d')"
      ]
     },
     "execution_count": 43,
     "metadata": {},
     "output_type": "execute_result"
    }
   ],
   "source": [
    ">>> x='a-b-c-d'\n",
    ">>> x.rpartition(',')"
   ]
  },
  {
   "cell_type": "code",
   "execution_count": 45,
   "metadata": {},
   "outputs": [
    {
     "data": {
      "text/plain": [
       "'web.baidu.com'"
      ]
     },
     "execution_count": 45,
     "metadata": {},
     "output_type": "execute_result"
    }
   ],
   "source": [
    ">>> a='www.baidu.com'\n",
    ">>> a.replace('www','web')"
   ]
  },
  {
   "cell_type": "code",
   "execution_count": 49,
   "metadata": {},
   "outputs": [
    {
     "data": {
      "text/plain": [
       "'aaw.baidu.com'"
      ]
     },
     "execution_count": 49,
     "metadata": {},
     "output_type": "execute_result"
    }
   ],
   "source": [
    ">>> a='www.baidu.com'\n",
    ">>> a.replace('w','a',2)"
   ]
  },
  {
   "cell_type": "code",
   "execution_count": 57,
   "metadata": {},
   "outputs": [
    {
     "name": "stdout",
     "output_type": "stream",
     "text": [
      "www.aaa.www\n",
      " www.aaa.\n",
      " www.aaa.\n",
      " www.aaa.www\n"
     ]
    }
   ],
   "source": [
    "x=' '+ 'www.aaa.www'\n",
    "print(x.strip())\n",
    "print(x.strip('w'))\n",
    "print(x.rstrip('w'))\n",
    "print(x.lstrip('w'))"
   ]
  },
  {
   "cell_type": "code",
   "execution_count": 61,
   "metadata": {},
   "outputs": [
    {
     "name": "stdout",
     "output_type": "stream",
     "text": [
      "True\n",
      "True\n",
      "False\n",
      "True\n"
     ]
    }
   ],
   "source": [
    "x='www.baidu.com'\n",
    "print(x.startswith('ww'))\n",
    "print(x.startswith('w',2))\n",
    "print(x.startswith('com',9))\n",
    "print(x.endswith('com'))"
   ]
  },
  {
   "cell_type": "code",
   "execution_count": 69,
   "metadata": {},
   "outputs": [
    {
     "name": "stdout",
     "output_type": "stream",
     "text": [
      "[13, 7, 6, 13, 12, 19, 5, 19, 13, 12, 11, 6, 20, 3, 14, 13, 5, 8, 10, 20]\n",
      "dict_items([(13, 4), (7, 1), (6, 2), (12, 2), (19, 2), (5, 2), (11, 1), (20, 2), (3, 1), (14, 1), (8, 1), (10, 1)])\n",
      "[(13, 4), (6, 2), (12, 2)]\n"
     ]
    }
   ],
   "source": [
    "import random\n",
    "\n",
    "num_lst = [random.randint(1, 20) for _ in range(20)]\n",
    "print(num_lst)\n",
    "num_count = {}\n",
    "\n",
    "for num in num_lst:\n",
    "    if num not in num_count:\n",
    "        num_count[num] = 0\n",
    "    # num_count.setdefault(num, 0) 和上面if判断等价\n",
    "    num_count[num] += 1\n",
    "print(num_count.items())\n",
    "\n",
    "d_temp = {}\n",
    "for k, v in num_count.items():\n",
    "    d_temp.setdefault(v, [])\n",
    "    d_temp[v].append(k)\n",
    "res1 = [(k, v) for v in sorted(d_temp, reverse=True) for k in d_temp[v]]\n",
    "print(res1[:3])"
   ]
  },
  {
   "cell_type": "code",
   "execution_count": 71,
   "metadata": {},
   "outputs": [
    {
     "name": "stdout",
     "output_type": "stream",
     "text": [
      "['000001.zarhkavbgi', '000002.baqgzwganf', '000003.maiexetimu', '000004.mxkhaoejya', '000005.itasmrqqjk', '000006.jnyxxyxcos', '000007.xvlqnvuwbn', '000008.nzyyizddun', '000009.irbfnhkqcj', '000010.zdsepgqqcr', '000011.upsmtfnywm', '000012.suiwgunhaf', '000013.echxjjklzl', '000014.pgxrfaeigq', '000015.jbyrqhxrac', '000016.uxnitwbvgs', '000017.ovxplfgcju', '000018.brczejakqh', '000019.hpjswmluzb', '000020.ewtkuasxrq', '000021.zybqjoxmte', '000022.hmtpbgpefa', '000023.ierwsccbei', '000024.kbsifrpmhc', '000025.siaurqahak', '000026.gezingjdnf', '000027.esntmthydg', '000028.vbanucvfpo', '000029.ntrcaczujq', '000030.cxfxxozebg', '000031.dxanactaln', '000032.wxjfetnzpp', '000033.iwfuemdrgv', '000034.ycmtyghvjh', '000035.lwljdyaiph', '000036.nmyzhzegpx', '000037.ejwzobnccc', '000038.sdemybgqnl', '000039.cdldfctvqt', '000040.aykmoudfeh', '000041.shgfxnowvn', '000042.molijpqcok', '000043.sbbwrerxtw', '000044.rnfgajvxuu', '000045.hwfacdjspp', '000046.iubtxlyjka', '000047.xbsbavnwwy', '000048.xnqecoeojy', '000049.isdinsabzh', '000050.ghwmbcgdhm', '000051.vuocxcodno', '000052.kslgscptto', '000053.trajdfapbc', '000054.hfygfjyyop', '000055.erqusgnwkq', '000056.jcagykazbj', '000057.myituukunn', '000058.ehzqifgxkl', '000059.zexyftybue', '000060.mwmxftwput', '000061.mqjubouwwp', '000062.dzmbzkvqeg', '000063.sknjvhnvrx', '000064.ehsjugbglv', '000065.tacbamrqoe', '000066.xiofqzdbdb', '000067.zmdhonedkk', '000068.klpkszttfg', '000069.hymkkbwumw', '000070.pyfiqdnlti', '000071.anxxbvazrt', '000072.neovrqtsjs', '000073.uusohrxpdn', '000074.chkqfsosss', '000075.azvrvlgzcn', '000076.sysugowple', '000077.ehnjavtjjq', '000078.znxnwbwagm', '000079.hkpcrjjkgs', '000080.qftdcncdlr', '000081.dowxrnmnix', '000082.ptnvcskplk', '000083.eiiaplxnno', '000084.xyyigddbma', '000085.lbdqkojnqh', '000086.ozyvhgizfc', '000087.iifzierbxs', '000088.tabyrgavfn', '000089.azrwmcqglp', '000090.emhhvkrurf', '000091.cpzqfmpjbb', '000092.vftijibmpj', '000093.mgqtxilnbi', '000094.ywgrtcwads', '000095.wtpeoqbded', '000096.fttwqrmvnm', '000097.gjjpkfwgac', '000098.gtioqgzrcg', '000099.xgqsdhsuxe', '000100.qluqntilwo']\n"
     ]
    }
   ],
   "source": [
    "s = 'abcdefghijklmnopqrstuvwxyz'\n",
    "\n",
    "res1 = []\n",
    "for i in range(1, 101):\n",
    "    p_id = '{:0>6}.{}'.format(i, \"\".join([random.choice(s) for _ in range(10)]))\n",
    "    res1.append(p_id)\n",
    "print(res1)\n",
    "\n",
    "res2 = [f'{i:0>6}.{\"\".join([random.choice(s) for _ in range(10)])}' for i in range(1, 101)]\n",
    "print(res2)\n",
    "\n",
    "res3 = [f'{i:0>6}.{\"\".join(random.choices(s, k=10))}' for i in range(1, 101)]\n",
    "print(res3)"
   ]
  },
  {
   "cell_type": "code",
   "execution_count": 174,
   "metadata": {
    "scrolled": false
   },
   "outputs": [
    {
     "name": "stdout",
     "output_type": "stream",
     "text": [
      "n=12\n",
      "\t\t\t\t\t\t\t\t\t\t\t\t1\t\n",
      "\t\t\t\t\t\t\t\t\t\t\t2\t1\t\n",
      "\t\t\t\t\t\t\t\t\t\t3\t2\t1\t\n",
      "\t\t\t\t\t\t\t\t\t4\t3\t2\t1\t\n",
      "\t\t\t\t\t\t\t\t5\t4\t3\t2\t1\t\n",
      "\t\t\t\t\t\t\t6\t5\t4\t3\t2\t1\t\n",
      "\t\t\t\t\t\t7\t6\t5\t4\t3\t2\t1\t\n",
      "\t\t\t\t\t8\t7\t6\t5\t4\t3\t2\t1\t\n",
      "\t\t\t\t9\t8\t7\t6\t5\t4\t3\t2\t1\t\n",
      "\t\t\t10\t9\t8\t7\t6\t5\t4\t3\t2\t1\t\n",
      "\t\t11\t10\t9\t8\t7\t6\t5\t4\t3\t2\t1\t\n",
      "\t12\t11\t10\t9\t8\t7\t6\t5\t4\t3\t2\t1\t\n",
      "\n",
      "\t12\t11\t10\t9\t8\t7\t6\t5\t4\t3\t2\t1\t\n",
      "\t\t11\t10\t9\t8\t7\t6\t5\t4\t3\t2\t1\t\n",
      "\t\t\t10\t9\t8\t7\t6\t5\t4\t3\t2\t1\t\n",
      "\t\t\t\t9\t8\t7\t6\t5\t4\t3\t2\t1\t\n",
      "\t\t\t\t\t8\t7\t6\t5\t4\t3\t2\t1\t\n",
      "\t\t\t\t\t\t7\t6\t5\t4\t3\t2\t1\t\n",
      "\t\t\t\t\t\t\t6\t5\t4\t3\t2\t1\t\n",
      "\t\t\t\t\t\t\t\t5\t4\t3\t2\t1\t\n",
      "\t\t\t\t\t\t\t\t\t4\t3\t2\t1\t\n",
      "\t\t\t\t\t\t\t\t\t\t3\t2\t1\t\n",
      "\t\t\t\t\t\t\t\t\t\t\t2\t1\t\n",
      "\t\t\t\t\t\t\t\t\t\t\t\t1\t\n"
     ]
    }
   ],
   "source": [
    "def output_num(n):\n",
    "    for i in range(1,n+1):\n",
    "        for _ in range(n-i+1):\n",
    "            print('{}'.format(''),end='\\t')\n",
    "        for k in range(i,0,-1):\n",
    "            print('{}'.format(k),end='\\t')\n",
    "        print()\n",
    "    print()\n",
    "    \n",
    "    for i in range(1,n+1):\n",
    "        for k in range(i):\n",
    "            print('',end='\\t')\n",
    "        for j in range(n-i+1,0,-1):\n",
    "            print(j,end='\\t')\n",
    "        print()            \n",
    "\n",
    "n=int(input('n='))        \n",
    "output_num(n)\n"
   ]
  },
  {
   "cell_type": "code",
   "execution_count": 187,
   "metadata": {},
   "outputs": [
    {
     "name": "stdout",
     "output_type": "stream",
     "text": [
      "n=8\n",
      "2\t1\t1\t\n",
      "\t3\t2\t1\t1\t2\t\n",
      "\t\t4\t3\t2\t1\t1\t2\t3\t\n",
      "\t\t\t5\t4\t3\t2\t1\t1\t2\t3\t4\t\n",
      "\t\t\t\t6\t5\t4\t3\t2\t1\t1\t2\t3\t4\t5\t\n",
      "\t\t\t\t\t7\t6\t5\t4\t3\t2\t1\t1\t2\t3\t4\t5\t6\t\n",
      "\t\t\t\t\t\t8\t7\t6\t5\t4\t3\t2\t1\t1\t2\t3\t4\t5\t6\t7\t\n",
      "\t\t\t\t\t\t\t9\t8\t7\t6\t5\t4\t3\t2\t1\t1\t2\t3\t4\t5\t6\t7\t8\t\n"
     ]
    }
   ],
   "source": []
  },
  {
   "cell_type": "code",
   "execution_count": 197,
   "metadata": {},
   "outputs": [
    {
     "name": "stdout",
     "output_type": "stream",
     "text": [
      "n=8\n",
      "\t\t\t\t\t\t\t1\t\n",
      "\t\t\t\t\t\t2\t1\t2\t\n",
      "\t\t\t\t\t3\t2\t1\t2\t3\t\n",
      "\t\t\t\t4\t3\t2\t1\t2\t3\t4\t\n",
      "\t\t\t5\t4\t3\t2\t1\t2\t3\t4\t5\t\n",
      "\t\t6\t5\t4\t3\t2\t1\t2\t3\t4\t5\t6\t\n",
      "\t7\t6\t5\t4\t3\t2\t1\t2\t3\t4\t5\t6\t7\t\n",
      "8\t7\t6\t5\t4\t3\t2\t1\t2\t3\t4\t5\t6\t7\t8\t\n"
     ]
    }
   ],
   "source": [
    "def cout(n):\n",
    "    for i in range(1,n+1):\n",
    "        for j in range(n-i+1,1,-1):  #每一行循环先打印空格\n",
    "            print('',end='\\t')\n",
    "        for k in range(i,0,-1):  #每一行循环再打印*号\n",
    "            print(k,end='\\t')  \n",
    "        for a in range(2,i+1):\n",
    "            print(a,end='\\t')\n",
    "        print()                 #结束当前行的循环\n",
    "n=int(input('n='))\n",
    "cout(n)"
   ]
  },
  {
   "cell_type": "code",
   "execution_count": 198,
   "metadata": {},
   "outputs": [
    {
     "name": "stdout",
     "output_type": "stream",
     "text": [
      "n=9\n",
      "\t9\t8\t7\t6\t5\t4\t3\t2\t1\t2\t3\t4\t5\t6\t7\t8\t9\t\n",
      "\t\t8\t7\t6\t5\t4\t3\t2\t1\t2\t3\t4\t5\t6\t7\t8\t\n",
      "\t\t\t7\t6\t5\t4\t3\t2\t1\t2\t3\t4\t5\t6\t7\t\n",
      "\t\t\t\t6\t5\t4\t3\t2\t1\t2\t3\t4\t5\t6\t\n",
      "\t\t\t\t\t5\t4\t3\t2\t1\t2\t3\t4\t5\t\n",
      "\t\t\t\t\t\t4\t3\t2\t1\t2\t3\t4\t\n",
      "\t\t\t\t\t\t\t3\t2\t1\t2\t3\t\n",
      "\t\t\t\t\t\t\t\t2\t1\t2\t\n",
      "\t\t\t\t\t\t\t\t\t1\t\n"
     ]
    }
   ],
   "source": [
    "def cout(n):\n",
    "    for i in range(1,n+1):\n",
    "        for j in range(i):  #每一行循环先打印空格\n",
    "            print('',end='\\t')\n",
    "        for k in range(n-i+1,0,-1):  #每一行循环再打印*号\n",
    "            print(k,end='\\t')  \n",
    "        for a in range(2,n-i+2):\n",
    "            print(a,end='\\t')\n",
    "        print()                 #结束当前行的循环\n",
    "n=int(input('n='))\n",
    "cout(n)"
   ]
  },
  {
   "cell_type": "code",
   "execution_count": null,
   "metadata": {},
   "outputs": [],
   "source": []
  }
 ],
 "metadata": {
  "kernelspec": {
   "display_name": "Python 3",
   "language": "python",
   "name": "python3"
  },
  "language_info": {
   "codemirror_mode": {
    "name": "ipython",
    "version": 3
   },
   "file_extension": ".py",
   "mimetype": "text/x-python",
   "name": "python",
   "nbconvert_exporter": "python",
   "pygments_lexer": "ipython3",
   "version": "3.6.9"
  }
 },
 "nbformat": 4,
 "nbformat_minor": 2
}
