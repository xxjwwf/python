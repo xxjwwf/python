{
 "cells": [
  {
   "cell_type": "code",
   "execution_count": 9,
   "metadata": {},
   "outputs": [
    {
     "data": {
      "text/plain": [
       "['a', 'b', 'c', 'd', 'e', 'f', 'g']"
      ]
     },
     "execution_count": 9,
     "metadata": {},
     "output_type": "execute_result"
    }
   ],
   "source": [
    "x='a-b-c-d-e-f-g'\n",
    "x.rsplit('-')"
   ]
  },
  {
   "cell_type": "code",
   "execution_count": 10,
   "metadata": {},
   "outputs": [
    {
     "data": {
      "text/plain": [
       "['a', '_aaa', 'eeee', '', 'ma']"
      ]
     },
     "execution_count": 10,
     "metadata": {},
     "output_type": "execute_result"
    }
   ],
   "source": [
    "x='a\\n_aaa\\neeee\\n\\rma'\n",
    "x.splitlines()"
   ]
  },
  {
   "cell_type": "code",
   "execution_count": 32,
   "metadata": {},
   "outputs": [
    {
     "data": {
      "text/plain": [
       "['', 'a', '_aaa', 'eeee', '\\rma', 'aa', '']"
      ]
     },
     "execution_count": 32,
     "metadata": {},
     "output_type": "execute_result"
    }
   ],
   "source": [
    "x='\\na\\n_aaa\\neeee\\n\\rma\\naa\\n'\n",
    "x.split('\\n')"
   ]
  },
  {
   "cell_type": "code",
   "execution_count": 21,
   "metadata": {},
   "outputs": [
    {
     "data": {
      "text/plain": [
       "['', 'a']"
      ]
     },
     "execution_count": 21,
     "metadata": {},
     "output_type": "execute_result"
    }
   ],
   "source": [
    "x='\\na\\n'\n",
    "x.splitlines()"
   ]
  },
  {
   "cell_type": "code",
   "execution_count": 27,
   "metadata": {},
   "outputs": [
    {
     "data": {
      "text/plain": [
       "['\\n', 'a\\n', '_aaa\\n', 'eeee\\n', '\\r', 'ma\\n', 'aa\\n']"
      ]
     },
     "execution_count": 27,
     "metadata": {},
     "output_type": "execute_result"
    }
   ],
   "source": [
    "x='\\na\\n_aaa\\neeee\\n\\rma\\naa\\n'\n",
    "x.splitlines(keepends=1)"
   ]
  },
  {
   "cell_type": "code",
   "execution_count": 31,
   "metadata": {},
   "outputs": [
    {
     "data": {
      "text/plain": [
       "['', 'a', '_aaa', 'eeee', '', 'ma', 'aa']"
      ]
     },
     "execution_count": 31,
     "metadata": {},
     "output_type": "execute_result"
    }
   ],
   "source": [
    "x='\\na\\n_aaa\\neeee\\n\\rma\\naa\\n'\n",
    "x.splitlines()"
   ]
  },
  {
   "cell_type": "code",
   "execution_count": 29,
   "metadata": {},
   "outputs": [
    {
     "name": "stdout",
     "output_type": "stream",
     "text": [
      "['a', 'b', 'c', 'd']\n",
      "['\\na', 'b', '', '\\tc\\nd\\n']\n",
      "['', 'a b  \\tc', 'd', '']\n",
      "['\\na ', '  \\tc\\nd\\n']\n"
     ]
    }
   ],
   "source": [
    "s1 = '\\na b  \\tc\\nd\\n' #  注意下面3个切割的区别\n",
    "print(s1.split())\n",
    "print(s1.split(' '))\n",
    "print(s1.split('\\n'))\n",
    "print(s1.split('b'))"
   ]
  },
  {
   "cell_type": "code",
   "execution_count": 39,
   "metadata": {},
   "outputs": [
    {
     "data": {
      "text/plain": [
       "['']"
      ]
     },
     "execution_count": 39,
     "metadata": {},
     "output_type": "execute_result"
    }
   ],
   "source": [
    "''.split('\\n')"
   ]
  },
  {
   "cell_type": "code",
   "execution_count": 40,
   "metadata": {},
   "outputs": [
    {
     "data": {
      "text/plain": [
       "['a', 'b', 'c', 'd']"
      ]
     },
     "execution_count": 40,
     "metadata": {},
     "output_type": "execute_result"
    }
   ],
   "source": [
    "x='a b c d'\n",
    "x.split()"
   ]
  },
  {
   "cell_type": "code",
   "execution_count": 43,
   "metadata": {},
   "outputs": [
    {
     "data": {
      "text/plain": [
       "('', '', 'a-b-c-d')"
      ]
     },
     "execution_count": 43,
     "metadata": {},
     "output_type": "execute_result"
    }
   ],
   "source": [
    ">>> x='a-b-c-d'\n",
    ">>> x.rpartition(',')"
   ]
  },
  {
   "cell_type": "code",
   "execution_count": 45,
   "metadata": {},
   "outputs": [
    {
     "data": {
      "text/plain": [
       "'web.baidu.com'"
      ]
     },
     "execution_count": 45,
     "metadata": {},
     "output_type": "execute_result"
    }
   ],
   "source": [
    ">>> a='www.baidu.com'\n",
    ">>> a.replace('www','web')"
   ]
  },
  {
   "cell_type": "code",
   "execution_count": 49,
   "metadata": {},
   "outputs": [
    {
     "data": {
      "text/plain": [
       "'aaw.baidu.com'"
      ]
     },
     "execution_count": 49,
     "metadata": {},
     "output_type": "execute_result"
    }
   ],
   "source": [
    ">>> a='www.baidu.com'\n",
    ">>> a.replace('w','a',2)"
   ]
  },
  {
   "cell_type": "code",
   "execution_count": 57,
   "metadata": {},
   "outputs": [
    {
     "name": "stdout",
     "output_type": "stream",
     "text": [
      "www.aaa.www\n",
      " www.aaa.\n",
      " www.aaa.\n",
      " www.aaa.www\n"
     ]
    }
   ],
   "source": [
    "x=' '+ 'www.aaa.www'\n",
    "print(x.strip())\n",
    "print(x.strip('w'))\n",
    "print(x.rstrip('w'))\n",
    "print(x.lstrip('w'))"
   ]
  },
  {
   "cell_type": "code",
   "execution_count": 61,
   "metadata": {},
   "outputs": [
    {
     "name": "stdout",
     "output_type": "stream",
     "text": [
      "True\n",
      "True\n",
      "False\n",
      "True\n"
     ]
    }
   ],
   "source": [
    "x='www.baidu.com'\n",
    "print(x.startswith('ww'))\n",
    "print(x.startswith('w',2))\n",
    "print(x.startswith('com',9))\n",
    "print(x.endswith('com'))"
   ]
  },
  {
   "cell_type": "code",
   "execution_count": 69,
   "metadata": {},
   "outputs": [
    {
     "name": "stdout",
     "output_type": "stream",
     "text": [
      "[13, 7, 6, 13, 12, 19, 5, 19, 13, 12, 11, 6, 20, 3, 14, 13, 5, 8, 10, 20]\n",
      "dict_items([(13, 4), (7, 1), (6, 2), (12, 2), (19, 2), (5, 2), (11, 1), (20, 2), (3, 1), (14, 1), (8, 1), (10, 1)])\n",
      "[(13, 4), (6, 2), (12, 2)]\n"
     ]
    }
   ],
   "source": [
    "import random\n",
    "\n",
    "num_lst = [random.randint(1, 20) for _ in range(20)]\n",
    "print(num_lst)\n",
    "num_count = {}\n",
    "\n",
    "for num in num_lst:\n",
    "    if num not in num_count:\n",
    "        num_count[num] = 0\n",
    "    # num_count.setdefault(num, 0) 和上面if判断等价\n",
    "    num_count[num] += 1\n",
    "print(num_count.items())\n",
    "\n",
    "d_temp = {}\n",
    "for k, v in num_count.items():\n",
    "    d_temp.setdefault(v, [])\n",
    "    d_temp[v].append(k)\n",
    "res1 = [(k, v) for v in sorted(d_temp, reverse=True) for k in d_temp[v]]\n",
    "print(res1[:3])"
   ]
  },
  {
   "cell_type": "code",
   "execution_count": 71,
   "metadata": {},
   "outputs": [
    {
     "name": "stdout",
     "output_type": "stream",
     "text": [
      "['000001.zarhkavbgi', '000002.baqgzwganf', '000003.maiexetimu', '000004.mxkhaoejya', '000005.itasmrqqjk', '000006.jnyxxyxcos', '000007.xvlqnvuwbn', '000008.nzyyizddun', '000009.irbfnhkqcj', '000010.zdsepgqqcr', '000011.upsmtfnywm', '000012.suiwgunhaf', '000013.echxjjklzl', '000014.pgxrfaeigq', '000015.jbyrqhxrac', '000016.uxnitwbvgs', '000017.ovxplfgcju', '000018.brczejakqh', '000019.hpjswmluzb', '000020.ewtkuasxrq', '000021.zybqjoxmte', '000022.hmtpbgpefa', '000023.ierwsccbei', '000024.kbsifrpmhc', '000025.siaurqahak', '000026.gezingjdnf', '000027.esntmthydg', '000028.vbanucvfpo', '000029.ntrcaczujq', '000030.cxfxxozebg', '000031.dxanactaln', '000032.wxjfetnzpp', '000033.iwfuemdrgv', '000034.ycmtyghvjh', '000035.lwljdyaiph', '000036.nmyzhzegpx', '000037.ejwzobnccc', '000038.sdemybgqnl', '000039.cdldfctvqt', '000040.aykmoudfeh', '000041.shgfxnowvn', '000042.molijpqcok', '000043.sbbwrerxtw', '000044.rnfgajvxuu', '000045.hwfacdjspp', '000046.iubtxlyjka', '000047.xbsbavnwwy', '000048.xnqecoeojy', '000049.isdinsabzh', '000050.ghwmbcgdhm', '000051.vuocxcodno', '000052.kslgscptto', '000053.trajdfapbc', '000054.hfygfjyyop', '000055.erqusgnwkq', '000056.jcagykazbj', '000057.myituukunn', '000058.ehzqifgxkl', '000059.zexyftybue', '000060.mwmxftwput', '000061.mqjubouwwp', '000062.dzmbzkvqeg', '000063.sknjvhnvrx', '000064.ehsjugbglv', '000065.tacbamrqoe', '000066.xiofqzdbdb', '000067.zmdhonedkk', '000068.klpkszttfg', '000069.hymkkbwumw', '000070.pyfiqdnlti', '000071.anxxbvazrt', '000072.neovrqtsjs', '000073.uusohrxpdn', '000074.chkqfsosss', '000075.azvrvlgzcn', '000076.sysugowple', '000077.ehnjavtjjq', '000078.znxnwbwagm', '000079.hkpcrjjkgs', '000080.qftdcncdlr', '000081.dowxrnmnix', '000082.ptnvcskplk', '000083.eiiaplxnno', '000084.xyyigddbma', '000085.lbdqkojnqh', '000086.ozyvhgizfc', '000087.iifzierbxs', '000088.tabyrgavfn', '000089.azrwmcqglp', '000090.emhhvkrurf', '000091.cpzqfmpjbb', '000092.vftijibmpj', '000093.mgqtxilnbi', '000094.ywgrtcwads', '000095.wtpeoqbded', '000096.fttwqrmvnm', '000097.gjjpkfwgac', '000098.gtioqgzrcg', '000099.xgqsdhsuxe', '000100.qluqntilwo']\n"
     ]
    }
   ],
   "source": [
    "s = 'abcdefghijklmnopqrstuvwxyz'\n",
    "\n",
    "res1 = []\n",
    "for i in range(1, 101):\n",
    "    p_id = '{:0>6}.{}'.format(i, \"\".join([random.choice(s) for _ in range(10)]))\n",
    "    res1.append(p_id)\n",
    "print(res1)\n",
    "\n",
    "res2 = [f'{i:0>6}.{\"\".join([random.choice(s) for _ in range(10)])}' for i in range(1, 101)]\n",
    "print(res2)\n",
    "\n",
    "res3 = [f'{i:0>6}.{\"\".join(random.choices(s, k=10))}' for i in range(1, 101)]\n",
    "print(res3)"
   ]
  },
  {
   "cell_type": "code",
   "execution_count": 74,
   "metadata": {
    "scrolled": false
   },
   "outputs": [
    {
     "name": "stdout",
     "output_type": "stream",
     "text": [
      "n=1\n",
      "\t1\t\n",
      "\n",
      "\t1\t\n"
     ]
    }
   ],
   "source": [
    "def output_num(n):\n",
    "    for i in range(1,n+1):\n",
    "        for _ in range(n-i+1):\n",
    "            print('{}'.format(''),end='\\t')\n",
    "        for k in range(i,0,-1):\n",
    "            print('{}'.format(k),end='\\t')\n",
    "        print()\n",
    "    print()\n",
    "    \n",
    "    for i in range(1,n+1):\n",
    "        for k in range(i):\n",
    "            print('',end='\\t')\n",
    "        for j in range(n-i+1,0,-1):\n",
    "            print(j,end='\\t')\n",
    "        print()            \n",
    "\n",
    "n=int(input('n='))        \n",
    "output_num(n)\n"
   ]
  },
  {
   "cell_type": "code",
   "execution_count": null,
   "metadata": {},
   "outputs": [],
   "source": []
  },
  {
   "cell_type": "code",
   "execution_count": 76,
   "metadata": {},
   "outputs": [
    {
     "name": "stdout",
     "output_type": "stream",
     "text": [
      "n=12\n",
      "                                   1\n",
      "                                2  1  2\n",
      "                             3  2  1  2  3\n",
      "                          4  3  2  1  2  3  4\n",
      "                       5  4  3  2  1  2  3  4  5\n",
      "                    6  5  4  3  2  1  2  3  4  5  6\n",
      "                 7  6  5  4  3  2  1  2  3  4  5  6  7\n",
      "              8  7  6  5  4  3  2  1  2  3  4  5  6  7  8\n",
      "           9  8  7  6  5  4  3  2  1  2  3  4  5  6  7  8  9\n",
      "       10  9  8  7  6  5  4  3  2  1  2  3  4  5  6  7  8  9 10\n",
      "    11 10  9  8  7  6  5  4  3  2  1  2  3  4  5  6  7  8  9 10 11\n",
      " 12 11 10  9  8  7  6  5  4  3  2  1  2  3  4  5  6  7  8  9 10 11 12\n"
     ]
    }
   ],
   "source": [
    "def cout(n):\n",
    "    for i in range(1,n+1):\n",
    "        for j in range(n-i+1,1,-1):  #每一行循环先打印空格\n",
    "            print('%3s' % ' ',end='')\n",
    "        for k in range(i,0,-1):  #每一行循环再打印*号\n",
    "            print('%3d' % k,end='')  \n",
    "        for a in range(2,i+1):\n",
    "            print('%3d' % a,end='')\n",
    "        print()                 #结束当前行的循环\n",
    "n=int(input('n='))\n",
    "cout(n)"
   ]
  },
  {
   "cell_type": "code",
   "execution_count": 75,
   "metadata": {},
   "outputs": [
    {
     "name": "stdout",
     "output_type": "stream",
     "text": [
      "n=12\n",
      "    12 11 10  9  8  7  6  5  4  3  2  1  2  3  4  5  6  7  8  9 10 11 12\n",
      "       11 10  9  8  7  6  5  4  3  2  1  2  3  4  5  6  7  8  9 10 11\n",
      "          10  9  8  7  6  5  4  3  2  1  2  3  4  5  6  7  8  9 10\n",
      "              9  8  7  6  5  4  3  2  1  2  3  4  5  6  7  8  9\n",
      "                 8  7  6  5  4  3  2  1  2  3  4  5  6  7  8\n",
      "                    7  6  5  4  3  2  1  2  3  4  5  6  7\n",
      "                       6  5  4  3  2  1  2  3  4  5  6\n",
      "                          5  4  3  2  1  2  3  4  5\n",
      "                             4  3  2  1  2  3  4\n",
      "                                3  2  1  2  3\n",
      "                                   2  1  2\n",
      "                                      1\n"
     ]
    }
   ],
   "source": [
    "def cout(n):\n",
    "    for i in range(1,n+1):\n",
    "        for j in range(i):  #每一行循环先打印空格\n",
    "            print('%3s' % ' ',end='')\n",
    "        for k in range(n-i+1,0,-1):  #每一行循环再打印*号\n",
    "            print('%3d' % k,end='')  \n",
    "        for a in range(2,n-i+2):\n",
    "            print('%3a' % a,end='')\n",
    "        print()                 #结束当前行的循环\n",
    "n=int(input('n='))\n",
    "cout(n)"
   ]
  },
  {
   "cell_type": "code",
<<<<<<< HEAD
   "execution_count": 1,
=======
   "execution_count": 199,
>>>>>>> 0e970721f2e51c37870041440a0bd142dbbcd893
   "metadata": {},
   "outputs": [
    {
     "name": "stdout",
     "output_type": "stream",
     "text": [
<<<<<<< HEAD
      "67\n",
      "b'67'\n",
      "bytearray(b'01234')\n"
=======
      "I am 020\n"
>>>>>>> 0e970721f2e51c37870041440a0bd142dbbcd893
     ]
    }
   ],
   "source": [
<<<<<<< HEAD
    "print('0123456789'[-4:8]) \n",
    "print(b'0123456789'[-4:8])\n",
    "print(bytearray(b'0123456789')[-10:5])"
=======
    "print(\"I am %03d\" % (20,))"
   ]
  },
  {
   "cell_type": "code",
   "execution_count": 202,
   "metadata": {},
   "outputs": [
    {
     "name": "stdout",
     "output_type": "stream",
     "text": [
      "b'abc'\n",
      "b'\\xe5\\x95\\x8a'\n",
      "b'\\xb0\\xa1'\n",
      "abc\n",
      "啊\n"
     ]
    }
   ],
   "source": [
    "print(\"abc\".encode())        # 缺省为utf-8编码\n",
    "print(\"啊\".encode('utf-8'))\n",
    "print(\"啊\".encode('gbk'))\n",
    "print(b'abc'.decode('utf8'))\n",
    "print(b'\\xb0\\xa1'.decode('gbk'))"
>>>>>>> 0e970721f2e51c37870041440a0bd142dbbcd893
   ]
  },
  {
   "cell_type": "code",
   "execution_count": 3,
   "metadata": {},
   "outputs": [
    {
     "name": "stdout",
     "output_type": "stream",
     "text": [
<<<<<<< HEAD
      "[0, 1, 2, 3, 4, 5, 6, 7, 8, 9]\n",
      "[0, 2, 4, 6, 8]\n",
      "[2, 5]\n",
      "[0, 3, 6]\n",
      "[1, 4, 7]\n",
      "[0, 2, 4, 6]\n",
      "[]\n"
=======
      "hello world\n",
      "HELLO WORLD\n",
      "hello world\n",
      "HELLO WORLD\n"
     ]
    }
   ],
   "source": [
    "print(b'hello world'.decode('utf-8'))\n",
    "print(b'HELLO WORLD'.decode('utf-8'))\n",
    "print(b'hello world'.decode('gbk'))\n",
    "print(b'HELLO WORLD'.decode('gbk'))"
   ]
  },
  {
   "cell_type": "code",
   "execution_count": 4,
   "metadata": {},
   "outputs": [
    {
     "name": "stdout",
     "output_type": "stream",
     "text": [
      "b'\\r\\n'\n"
     ]
    }
   ],
   "source": [
    "print(b'\\x0d\\x0a')"
   ]
  },
  {
   "cell_type": "code",
   "execution_count": 5,
   "metadata": {},
   "outputs": [
    {
     "data": {
      "text/plain": [
       "b'\\x00\\x00\\x00\\x00\\x00\\x00\\x00\\x00\\x00\\x00'"
      ]
     },
     "execution_count": 5,
     "metadata": {},
     "output_type": "execute_result"
    }
   ],
   "source": [
    "bytes(10)"
   ]
  },
  {
   "cell_type": "code",
   "execution_count": 6,
   "metadata": {},
   "outputs": [
    {
     "data": {
      "text/plain": [
       "b'\\x00\\x01\\x02\\x03\\x04'"
      ]
     },
     "execution_count": 6,
     "metadata": {},
     "output_type": "execute_result"
    }
   ],
   "source": [
    "bytes(range(5))"
   ]
  },
  {
   "cell_type": "code",
   "execution_count": 8,
   "metadata": {},
   "outputs": [
    {
     "name": "stdout",
     "output_type": "stream",
     "text": [
      "99\n"
     ]
    }
   ],
   "source": [
    "b\"\\x41\\x61\"\n",
    ">>> print(b'abcd'[2])"
   ]
  },
  {
   "cell_type": "code",
   "execution_count": 9,
   "metadata": {},
   "outputs": [
    {
     "name": "stdout",
     "output_type": "stream",
     "text": [
      "bytearray(b'Acba')\n"
     ]
    }
   ],
   "source": [
    "b = bytearray()\n",
    "b.append(97)\n",
    "b.append(99)\n",
    "b.insert(1,98)\n",
    "b.extend([65,66,67])\n",
    "b.remove(66)\n",
    "b.pop()\n",
    "b.reverse()\n",
    "print(b) # 输出什么\n",
    "# b.clear()"
   ]
  },
  {
   "cell_type": "code",
   "execution_count": 12,
   "metadata": {
    "scrolled": true
   },
   "outputs": [
    {
     "data": {
      "text/plain": [
       "bytearray(b'Acbadd')"
      ]
     },
     "execution_count": 12,
     "metadata": {},
     "output_type": "execute_result"
    }
   ],
   "source": [
    "b.append(100)\n",
    "b"
   ]
  },
  {
   "cell_type": "code",
   "execution_count": 16,
   "metadata": {},
   "outputs": [
    {
     "name": "stdout",
     "output_type": "stream",
     "text": [
      "[0, 1, 2, 3, 4, 5, 6, 7, 8, 9]\n",
      "[0, 1, 2, 3, 4, 5, 6, 7, 8]\n",
      "[0, 1, 2, 3, 4, 5, 6, 7, 8, 9]\n",
      "[3, 4, 5, 6, 7, 8, 9]\n",
      "[3, 4, 5, 6, 7, 8]\n",
      "[9]\n",
      "[0, 1, 2, 3, 4, 5, 6, 7, 8]\n",
      "[]\n",
      "[0, 1, 2, 3, 4, 5, 6, 7, 8, 9]\n",
      "[0, 1, 2, 3, 4, 5, 6, 7, 8, 9]\n",
      "[4, 5, 6, 7]\n",
      "[6, 7]\n",
      "67\n",
      "b'67'\n",
      "bytearray(b'01234')\n"
>>>>>>> 0e970721f2e51c37870041440a0bd142dbbcd893
     ]
    }
   ],
   "source": [
    "x = [0, 1, 2, 3, 4, 5, 6, 7, 8, 9]\n",
<<<<<<< HEAD
    "print(x[::])\n",
    "print(x[::2])\n",
    "print(x[2:8:3])\n",
    "print(x[:9:3])\n",
    "print(x[1::3])\n",
    "print(x[-10:8:2])\n",
    "print(x[2:8:-1])"
=======
    "print(x[:])\n",
    "print(x[:-1]) # \n",
    "print(x[0:])\n",
    "print(x[3:])\n",
    "print(x[3:-1]) # \n",
    "print(x[9:])\n",
    "print(x[:9])\n",
    "print(x[9:-1])\n",
    "print(x[:100])\n",
    "print(x[-100:])\n",
    "print(x[4:-2])\n",
    "print(x[-4:-2])\n",
    "print('0123456789'[-4:8])\n",
    "print(b'0123456789'[-4:8])\n",
    "print(bytearray(b'0123456789')[-10:5])"
>>>>>>> 0e970721f2e51c37870041440a0bd142dbbcd893
   ]
  },
  {
   "cell_type": "code",
<<<<<<< HEAD
   "execution_count": 4,
=======
   "execution_count": 18,
>>>>>>> 0e970721f2e51c37870041440a0bd142dbbcd893
   "metadata": {},
   "outputs": [
    {
     "name": "stdout",
     "output_type": "stream",
     "text": [
      "[0, 1, 2, 3, 4, 5, 6, 7, 8, 9]\n",
      "[5]\n",
      "[]\n",
      "[]\n",
      "[]\n",
      "[]\n",
      "[9, 7, 5, 3, 1]\n",
      "[8, 6, 4, 2, 0]\n",
      "[8, 6, 4]\n",
      "[]\n",
      "[8, 6, 4, 2]\n",
      "[5]\n",
      "[]\n"
     ]
    }
   ],
   "source": [
    "x = [0, 1, 2, 3, 4, 5, 6, 7, 8, 9]\n",
<<<<<<< HEAD
    "print(x[-10:]) #All\n",
    "print(x[-5:6]) #5\n",
    "print(x[-5:-6]) #[]\n",
    "print(x[6:5]) #这个有点坑\n",
    "print(x[5:5]) #[]\n",
    "print(x[1:9:-2])#[]\n",
    "print(x[::-2]) #不指定区间则不用关注区间和步长方向\n",
    "print(x[8::-2]) #区间不完整也可以不用关注区间和步长方向\n",
    "print(x[8:2:-2])#[8,6,4]\n",
    "print(x[8:-10:2])#[]\n",
    "print(x[8:-10:-2])#[8,6,4,2]\n",
=======
    "print(x[-10:]) #all\n",
    "print(x[-5:6]) #5\n",
    "print(x[-5:-6]) #[]\n",
    "print(x[6:5]) #[]\n",
    "print(x[5:5]) #[]\n",
    "print(x[1:9:-2]) #[]\n",
    "print(x[::-2]) #[9,7...]\n",
    "print(x[8::-2]) #[8,6,...]\n",
    "print(x[8:2:-2]) #[8,6]\n",
    "print(x[8:-10:2]) #[]\n",
    "print(x[8:-10:-2]) #[8,6,...]\n",
>>>>>>> 0e970721f2e51c37870041440a0bd142dbbcd893
    "print(x[-5:4:-1]) #[5]\n",
    "print(x[-5:5:-1]) #[]"
   ]
  },
  {
   "cell_type": "code",
<<<<<<< HEAD
   "execution_count": 6,
=======
   "execution_count": 30,
   "metadata": {},
   "outputs": [
    {
     "data": {
      "text/plain": [
       "'1,2,3'"
      ]
     },
     "execution_count": 30,
     "metadata": {},
     "output_type": "execute_result"
    }
   ],
   "source": [
    "m=','\n",
    "m.join('123')"
   ]
  },
  {
   "cell_type": "code",
   "execution_count": 33,
   "metadata": {},
   "outputs": [
    {
     "data": {
      "text/plain": [
       "'a,b,c,d,e,f,g'"
      ]
     },
     "execution_count": 33,
     "metadata": {},
     "output_type": "execute_result"
    }
   ],
   "source": [
    ">>> x=list('abcdefg')\n",
    ">>> ','.join(x)"
   ]
  },
  {
   "cell_type": "code",
   "execution_count": 34,
   "metadata": {},
   "outputs": [
    {
     "data": {
      "text/plain": [
       "'a:b:c:d:e:f:g'"
      ]
     },
     "execution_count": 34,
     "metadata": {},
     "output_type": "execute_result"
    }
   ],
   "source": [
    ">>> sep=':'  #分隔符也可以用变量来代替\n",
    ">>> sep.join(x)"
   ]
  },
  {
   "cell_type": "code",
   "execution_count": 38,
   "metadata": {},
   "outputs": [
    {
     "data": {
      "text/plain": [
       "['bi', 'we', 'fn', 'oj', 'wx', 'fe', 'bs', 'wd', 'ko', 'by']"
      ]
     },
     "execution_count": 38,
     "metadata": {},
     "output_type": "execute_result"
    }
   ],
   "source": [
    ">>> import random\n",
    ">>> x='abcdefghijklmnopqrstuvwxyz'\n",
    ">>> [''.join(random.sample(x,2)) for _ in range(10)]"
   ]
  },
  {
   "cell_type": "code",
   "execution_count": 46,
>>>>>>> 0e970721f2e51c37870041440a0bd142dbbcd893
   "metadata": {},
   "outputs": [
    {
     "name": "stdout",
     "output_type": "stream",
     "text": [
<<<<<<< HEAD
      "[0, 1, 2] [0, 1, 2]\n",
      "3034004689480 3034005338632\n",
      "[100, 1, 2] [0, 1, 2]\n"
=======
      "abc+def=abcdef\n"
>>>>>>> 0e970721f2e51c37870041440a0bd142dbbcd893
     ]
    }
   ],
   "source": [
<<<<<<< HEAD
    "x = [0, 1, 2]\n",
    "y = x[:]\n",
    "print(x, y)\n",
    "print(id(x), id(y))\n",
    "x[0]=100\n",
    "print(x,y)"
=======
    "str1='abc'\n",
    "str2='def'\n",
    "print(str1+'+'+str2+'='+str1+str2)"
>>>>>>> 0e970721f2e51c37870041440a0bd142dbbcd893
   ]
  },
  {
   "cell_type": "code",
<<<<<<< HEAD
   "execution_count": 8,
=======
   "execution_count": 35,
>>>>>>> 0e970721f2e51c37870041440a0bd142dbbcd893
   "metadata": {},
   "outputs": [
    {
     "name": "stdout",
     "output_type": "stream",
     "text": [
<<<<<<< HEAD
      "3034004690056 3034004689992\n"
=======
      "My name is xiejiawen\n",
      "my country is China\n",
      "I'm 25 years old\n",
      "{'name': 'xiejiawen', 'age': 25, 'sex': 'male', 'country': 'China'}\n"
>>>>>>> 0e970721f2e51c37870041440a0bd142dbbcd893
     ]
    }
   ],
   "source": [
<<<<<<< HEAD
    "x = [[1]]\n",
    "y = x[:]\n",
    "print(id(x), id(y))"
=======
    "person=dict(name='xiejiawen',age=25,sex='male',country='China')\n",
    "print('My name is %s' % person['name'])\n",
    "print('my country is %s' % person['country'])\n",
    "print(\"I'm %s years old\" % person['age'])\n",
    "print(person)\n"
>>>>>>> 0e970721f2e51c37870041440a0bd142dbbcd893
   ]
  },
  {
   "cell_type": "code",
<<<<<<< HEAD
   "execution_count": 9,
   "metadata": {},
   "outputs": [],
   "source": [
    "x[0][0]=100"
=======
   "execution_count": 71,
   "metadata": {},
   "outputs": [
    {
     "data": {
      "text/plain": [
       "'I am 020'"
      ]
     },
     "execution_count": 71,
     "metadata": {},
     "output_type": "execute_result"
    }
   ],
   "source": [
    "\"I am %03d\" % 20"
>>>>>>> 0e970721f2e51c37870041440a0bd142dbbcd893
   ]
  },
  {
   "cell_type": "code",
<<<<<<< HEAD
   "execution_count": 61,
=======
<<<<<<< HEAD
   "execution_count": 13,
=======
   "execution_count": 18,
>>>>>>> 0e970721f2e51c37870041440a0bd142dbbcd893
>>>>>>> eb1b0d385a3883c69dfb8be9ba96ead2d85db025
   "metadata": {},
   "outputs": [
    {
     "name": "stdout",
     "output_type": "stream",
     "text": [
<<<<<<< HEAD
      "n=12\n",
      "                                     1 \n",
      "                                  2  1 \n",
      "                               3  2  1 \n",
      "                            4  3  2  1 \n",
      "                         5  4  3  2  1 \n",
      "                      6  5  4  3  2  1 \n",
      "                   7  6  5  4  3  2  1 \n",
      "                8  7  6  5  4  3  2  1 \n",
      "             9  8  7  6  5  4  3  2  1 \n",
      "         10  9  8  7  6  5  4  3  2  1 \n",
      "      11 10  9  8  7  6  5  4  3  2  1 \n",
      "   12 11 10  9  8  7  6  5  4  3  2  1 \n",
      "\n",
      "   12 11 10  9  8  7  6  5  4  3  2  1 \n",
      "      11 10  9  8  7  6  5  4  3  2  1 \n",
      "         10  9  8  7  6  5  4  3  2  1 \n",
      "             9  8  7  6  5  4  3  2  1 \n",
      "                8  7  6  5  4  3  2  1 \n",
      "                   7  6  5  4  3  2  1 \n",
      "                      6  5  4  3  2  1 \n",
      "                         5  4  3  2  1 \n",
      "                            4  3  2  1 \n",
      "                               3  2  1 \n",
      "                                  2  1 \n",
      "                                     1 \n"
=======
<<<<<<< HEAD
      "[[1]] [[1]]\n",
      "True\n",
      "3034005541064 3034005528456 False\n",
      "[[100]] [[100]]\n",
      "True\n",
      "False\n",
      "False\n",
      "[200] [[100]]\n"
=======
      "n=3\n",
      "           1\n",
      "        2  1\n",
      "     3  2  1\n",
      "\n",
      "     3  2  1\n",
      "        2  1\n",
      "           1\n"
>>>>>>> 0e970721f2e51c37870041440a0bd142dbbcd893
>>>>>>> eb1b0d385a3883c69dfb8be9ba96ead2d85db025
     ]
    }
   ],
   "source": [
<<<<<<< HEAD
    "x = [[1]]\n",
    "y = x[:]\n",
    "print(x, y)\n",
    "print(x == y)\n",
    "print(id(x), id(y), x is y)\n",
    "x[0][0] = 100\n",
    "print(x, y)\n",
    "print(x == y)\n",
    "print(x is y)\n",
    "x[0] = 200\n",
    "print(x == y) # ?\n",
    "print(x, y)"
=======
    "def output_num(n):\n",
    "    for i in range(1,n+1):\n",
    "        for _ in range(n-i+1):\n",
    "            print('%2s' % '',end=' ')\n",
    "        for k in range(i,0,-1):\n",
    "            print('%2d' % k,end=' ')\n",
    "        print()\n",
    "    print()\n",
    "    \n",
    "    for i in range(1,n+1):\n",
    "        for k in range(i):\n",
    "            print('%2s' % '',end=' ')\n",
    "        for j in range(n-i+1,0,-1):\n",
    "            print('%2d' % j,end=' ')\n",
    "        print()            \n",
    "\n",
    "n=int(input('n='))        \n",
    "output_num(n)\n"
>>>>>>> 0e970721f2e51c37870041440a0bd142dbbcd893
   ]
  },
  {
   "cell_type": "code",
<<<<<<< HEAD
   "execution_count": 90,
=======
<<<<<<< HEAD
   "execution_count": 19,
   "metadata": {},
   "outputs": [
    {
     "ename": "TypeError",
     "evalue": "'str' object does not support item assignment",
     "output_type": "error",
     "traceback": [
      "\u001b[1;31m---------------------------------------------------------------------------\u001b[0m",
      "\u001b[1;31mTypeError\u001b[0m                                 Traceback (most recent call last)",
      "\u001b[1;32m<ipython-input-19-79dc62279be1>\u001b[0m in \u001b[0;36m<module>\u001b[1;34m\u001b[0m\n\u001b[0;32m      1\u001b[0m \u001b[0mx\u001b[0m\u001b[1;33m=\u001b[0m\u001b[1;34m'abcdefg'\u001b[0m\u001b[1;33m\u001b[0m\u001b[1;33m\u001b[0m\u001b[0m\n\u001b[1;32m----> 2\u001b[1;33m \u001b[0mx\u001b[0m\u001b[1;33m[\u001b[0m\u001b[1;36m2\u001b[0m\u001b[1;33m:\u001b[0m\u001b[1;36m3\u001b[0m\u001b[1;33m]\u001b[0m\u001b[1;33m=\u001b[0m\u001b[1;34m'a'\u001b[0m\u001b[1;33m\u001b[0m\u001b[1;33m\u001b[0m\u001b[0m\n\u001b[0m",
      "\u001b[1;31mTypeError\u001b[0m: 'str' object does not support item assignment"
=======
   "execution_count": 70,
>>>>>>> eb1b0d385a3883c69dfb8be9ba96ead2d85db025
   "metadata": {},
   "outputs": [
    {
     "name": "stdout",
     "output_type": "stream",
     "text": [
      "n=12\n",
      "                        1 \n",
      "                      2 1 \n",
      "                    3 2 1 \n",
      "                  4 3 2 1 \n",
      "                5 4 3 2 1 \n",
      "              6 5 4 3 2 1 \n",
      "            7 6 5 4 3 2 1 \n",
      "          8 7 6 5 4 3 2 1 \n",
      "        9 8 7 6 5 4 3 2 1 \n",
      "      10 9 8 7 6 5 4 3 2 1 \n",
      "    11 10 9 8 7 6 5 4 3 2 1 \n",
      "  12 11 10 9 8 7 6 5 4 3 2 1 \n",
      "\n",
<<<<<<< HEAD
      "  12 11 10 9 8 7 6 5 4 3 2 1 \n",
      "    11 10 9 8 7 6 5 4 3 2 1 \n",
      "      10 9 8 7 6 5 4 3 2 1 \n",
      "        9 8 7 6 5 4 3 2 1 \n",
      "          8 7 6 5 4 3 2 1 \n",
      "            7 6 5 4 3 2 1 \n",
      "              6 5 4 3 2 1 \n",
      "                5 4 3 2 1 \n",
      "                  4 3 2 1 \n",
      "                    3 2 1 \n",
      "                      2 1 \n",
      "                        1 \n"
=======
      "    12 11 10  9  8  7  6  5  4  3  2  1\n",
      "       11 10  9  8  7  6  5  4  3  2  1\n",
      "          10  9  8  7  6  5  4  3  2  1\n",
      "              9  8  7  6  5  4  3  2  1\n",
      "                 8  7  6  5  4  3  2  1\n",
      "                    7  6  5  4  3  2  1\n",
      "                       6  5  4  3  2  1\n",
      "                          5  4  3  2  1\n",
      "                             4  3  2  1\n",
      "                                3  2  1\n",
      "                                   2  1\n",
      "                                      1\n"
>>>>>>> 0e970721f2e51c37870041440a0bd142dbbcd893
>>>>>>> eb1b0d385a3883c69dfb8be9ba96ead2d85db025
     ]
    }
   ],
   "source": [
<<<<<<< HEAD
    "x='abcdefg'\n",
    "x[2:3]='a'"
=======
    "\n",
    "def output_num(n):\n",
    "    for i in range(1,n+1):\n",
    "        for _ in range(n-i+1):\n",
    "            print(' ',end=' ')\n",
    "        for k in range(i,0,-1):\n",
    "            print(k,end=' ')\n",
    "        print()\n",
    "    print()\n",
    "    \n",
    "    for i in range(1,n+1):\n",
    "        for k in range(i):\n",
    "            print('{0}'.format(' '),end=' ')\n",
    "        for j in range(n-i+1,0,-1):\n",
    "            print('{0}'.format(j),end=' ')\n",
    "        print()            \n",
    "\n",
    "n=int(input('n='))        \n",
    "output_num(n)"
>>>>>>> 0e970721f2e51c37870041440a0bd142dbbcd893
   ]
  },
  {
   "cell_type": "code",
<<<<<<< HEAD
   "execution_count": 22,
=======
   "execution_count": 43,
>>>>>>> 0e970721f2e51c37870041440a0bd142dbbcd893
   "metadata": {},
   "outputs": [
    {
     "name": "stdout",
     "output_type": "stream",
     "text": [
<<<<<<< HEAD
      "[0, 70]\n"
=======
      "000000005\n",
      "   20\n"
     ]
    }
   ],
   "source": [
    "print('%09d' % 5)\n",
    "print('%5d' % 20)"
   ]
  },
  {
   "cell_type": "code",
   "execution_count": 67,
   "metadata": {
    "scrolled": true
   },
   "outputs": [
    {
     "name": "stdout",
     "output_type": "stream",
     "text": [
      "hangzhou-China is a first_line city\n",
      "hangzhou-China is a first_line city\n",
      "www.magedu.com\n",
      "www.baidu.com 192.168.99.100:8080\n",
      "Web Server Info:  127.0.0.1:8080\n",
      "hello world\n"
>>>>>>> 0e970721f2e51c37870041440a0bd142dbbcd893
     ]
    }
   ],
   "source": [
<<<<<<< HEAD
    "x = [0, 1, 2, 3, 4]\n",
    "z = list()\n",
    "z[:] = x\n",
    "# z[1:2] = 10 # 可以吗？\n",
    "z[1:2] = (10,)\n",
    "z[3:] = (20,)\n",
    "z[1:] = (40, 50 ,60, 70)\n",
    "z[1:-1] = ()\n",
    "print(z)"
=======
    "print('{}-{}'.format('hangzhou','China') + ' is a first_line city')\n",
    "print('{1}-{0}'.format('China','hangzhou') + ' is a first_line city')\n",
    "print(\"%(host)s.%(domain)s\" % {'domain':'magedu.com', 'host':'www'})\n",
    "print(\"{server} {1}:{0}\".format('8080','192.168.99.100',server='www.baidu.com'))\n",
    "print(\"{server} {1}:{0}\".format(8080, '127.0.0.1', server='Web Server Info: '))\n",
    "print('{0[0]} {0[1]}'.format(('hello','world')))"
>>>>>>> 0e970721f2e51c37870041440a0bd142dbbcd893
   ]
  },
  {
   "cell_type": "code",
<<<<<<< HEAD
   "execution_count": 23,
=======
   "execution_count": 68,
>>>>>>> 0e970721f2e51c37870041440a0bd142dbbcd893
   "metadata": {},
   "outputs": [
    {
     "name": "stdout",
     "output_type": "stream",
     "text": [
<<<<<<< HEAD
      "True\n",
      "3034004545672 3034006175048 False\n"
=======
      "1.7320508075688772\n",
      "1.732051\n",
      "  1.732051\n",
      "102.231\n",
      " 1\n",
      "1.7\n",
      "1.73\n",
      "1.73\n",
      "               0.275\n",
      "33.333%\n"
>>>>>>> 0e970721f2e51c37870041440a0bd142dbbcd893
     ]
    }
   ],
   "source": [
<<<<<<< HEAD
    "x = [0, 1, 2, 3, 4]\n",
    "y = []\n",
    "y[:] = x\n",
    "print(x == y)\n",
    "print(id(x), id(y), x is y)"
=======
    "# 浮点数\n",
    "print(\"{}\".format(3**0.5))       # 1.7320508075688772\n",
    "print(\"{:f}\".format(3**0.5))     # 1.732051，精度默认6\n",
    "print(\"{:10f}\".format(3**0.5))   # 右对齐，宽度10\n",
    "print(\"{:2}\".format(102.231))    #  all\n",
    "print(\"{:2}\".format(1))          #  01\n",
    "print(\"{:.2}\".format(3**0.5))    # 1.7  2个数字\n",
    "print(\"{:.2f}\".format(3**0.5))   # 1.73 小数点后2位\n",
    "print(\"{:3.2f}\".format(3**0.5))  # 1.73 宽度为3，小数点后2位\n",
    "print(\"{:20.3f}\".format(0.2745)) # 0.275\n",
    "print(\"{:3.3%}\".format(1/3))     # 33.333%"
>>>>>>> 0e970721f2e51c37870041440a0bd142dbbcd893
   ]
  },
  {
   "cell_type": "code",
<<<<<<< HEAD
   "execution_count": 24,
=======
   "execution_count": 69,
>>>>>>> 0e970721f2e51c37870041440a0bd142dbbcd893
   "metadata": {},
   "outputs": [
    {
     "name": "stdout",
     "output_type": "stream",
     "text": [
<<<<<<< HEAD
      "True True\n"
=======
      "5*6=30\n",
      "5*6=30\n",
      "6*5= 30\n",
      "6*5=030\n",
      "4*5=20#\n",
      "##***##\n"
>>>>>>> 0e970721f2e51c37870041440a0bd142dbbcd893
     ]
    }
   ],
   "source": [
<<<<<<< HEAD
    "x = [0, 1, 2, 3, 4]\n",
    "m=x\n",
    "print(m==x,m is x)"
=======
    "# 对齐\n",
    "print(\"{}*{}={}\".format(5, 6, 5*6))\n",
    "print(\"{}*{}={:2}\".format(5, 6, 5*6))\n",
    "print(\"{1}*{0}={2:3}\".format(5, 6, 5*6))\n",
    "print(\"{1}*{0}={2:0>3}\".format(5, 6, 5*6))\n",
    "print(\"{}*{}={:#<3}\".format(4, 5, 20))\n",
    "print(\"{:#^7}\".format('*' * 3))"
   ]
  },
  {
   "cell_type": "code",
   "execution_count": 77,
   "metadata": {},
   "outputs": [
    {
     "data": {
      "text/plain": [
       "'A'"
      ]
     },
     "execution_count": 77,
     "metadata": {},
     "output_type": "execute_result"
    }
   ],
   "source": [
    "chr(65)"
>>>>>>> 0e970721f2e51c37870041440a0bd142dbbcd893
   ]
  },
  {
   "cell_type": "code",
   "execution_count": 80,
   "metadata": {},
   "outputs": [
    {
     "name": "stdout",
     "output_type": "stream",
     "text": [
      "1*1=1   \n",
      "1*2=2   2*2=4   \n",
      "1*3=3   2*3=6   3*3=9   \n",
      "1*4=4   2*4=8   3*4=12   4*4=16   \n",
      "1*5=5   2*5=10   3*5=15   4*5=20   5*5=25   \n",
      "1*6=6   2*6=12   3*6=18   4*6=24   5*6=30   6*6=36   \n",
      "1*7=7   2*7=14   3*7=21   4*7=28   5*7=35   6*7=42   7*7=49   \n",
      "1*8=8   2*8=16   3*8=24   4*8=32   5*8=40   6*8=48   7*8=56   8*8=64   \n",
      "1*9=9   2*9=18   3*9=27   4*9=36   5*9=45   6*9=54   7*9=63   8*9=72   9*9=81   \n"
     ]
    }
   ],
   "source": [
    "for i in range(1, 10):\n",
    "    for j in range(1, 10):\n",
    "        if j <= i:\n",
    "            print(\"{}*{}={}  \".format(j, i, i*j), end=' ')\n",
    "    print()"
   ]
  },
  {
   "cell_type": "code",
   "execution_count": null,
   "metadata": {},
   "outputs": [],
   "source": []
  },
  {
   "cell_type": "code",
   "execution_count": null,
   "metadata": {},
   "outputs": [],
   "source": []
  }
 ],
 "metadata": {
  "kernelspec": {
   "display_name": "Python 3",
   "language": "python",
   "name": "python3"
  },
  "language_info": {
   "codemirror_mode": {
    "name": "ipython",
    "version": 3
   },
   "file_extension": ".py",
   "mimetype": "text/x-python",
   "name": "python",
   "nbconvert_exporter": "python",
   "pygments_lexer": "ipython3",
   "version": "3.7.5"
  }
 },
 "nbformat": 4,
 "nbformat_minor": 2
}
