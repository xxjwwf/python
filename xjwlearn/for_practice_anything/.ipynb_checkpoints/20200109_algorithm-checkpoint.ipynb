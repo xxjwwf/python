{
 "cells": [
  {
   "cell_type": "code",
   "execution_count": 9,
   "metadata": {},
   "outputs": [
    {
     "name": "stdout",
     "output_type": "stream",
     "text": [
      "num = 1\n",
      "True\n"
     ]
    }
   ],
   "source": [
    "def is_num(num):\n",
    "    \"\"\"判断是否是回文数\"\"\"\n",
    "    total = 0\n",
    "    temp = num\n",
    "    while temp > 0:\n",
    "        total = total * 10 + temp%10\n",
    "        temp //= 10\n",
    "    print(total == num)\n",
    "num = int(input('num = '))\n",
    "is_num(num)\n",
    "#我想到一个好办法，可以通过切片的方式可以使计算量比这个少一半"
   ]
  },
  {
   "cell_type": "code",
   "execution_count": 16,
   "metadata": {},
   "outputs": [
    {
     "name": "stdout",
     "output_type": "stream",
     "text": [
      "x=3\n",
      "y=7\n",
      "1\n"
     ]
    },
    {
     "data": {
      "text/plain": [
       "True"
      ]
     },
     "execution_count": 16,
     "metadata": {},
     "output_type": "execute_result"
    }
   ],
   "source": [
    "def gcd(x,y):\n",
    "    \"\"\"求最大公约数\"\"\"\n",
    "    (x,y)=(y,x) if x > y else (x,y)\n",
    "    for i in range(x,0,-1):\n",
    "        if x % i == 0 and y % i ==0:\n",
    "            print(i)\n",
    "            return True\n",
    "    else:\n",
    "        print('x,y 没有公约数')\n",
    "\n",
    "# x=int(input('x='))\n",
    "# y=int(input('y='))\n",
    "# gcd(x,y)"
   ]
  },
  {
   "cell_type": "code",
   "execution_count": 18,
   "metadata": {},
   "outputs": [
    {
     "name": "stdout",
     "output_type": "stream",
     "text": [
      "x=2\n",
      "y=3\n",
      "1\n",
      "6\n"
     ]
    },
    {
     "data": {
      "text/plain": [
       "True"
      ]
     },
     "execution_count": 18,
     "metadata": {},
     "output_type": "execute_result"
    }
   ],
   "source": [
    "def lcm(x,y):\n",
    "    \"\"\"求最小公倍数\"\"\"\n",
    "    num = (x * y) // gcd(x,y)\n",
    "    print(num)\n",
    "    return True\n",
    "\n",
    "x=int(input('x='))\n",
    "y=int(input('y='))\n",
    "lcm(x,y)"
   ]
  },
  {
   "cell_type": "code",
   "execution_count": 19,
   "metadata": {},
   "outputs": [
    {
     "name": "stdout",
     "output_type": "stream",
     "text": [
      "abcabc 骆昊\n"
     ]
    }
   ],
   "source": [
    "s1 = '\\141\\142\\143\\x61\\x62\\x63'\n",
    "s2 = '\\u9a86\\u660a'\n",
    "print(s1, s2)"
   ]
  },
  {
   "cell_type": "code",
   "execution_count": 33,
   "metadata": {},
   "outputs": [
    {
     "data": {
      "text/plain": [
       "b'\\xe4\\xbd\\xb3\\xe6\\x96\\x87'"
      ]
     },
     "execution_count": 33,
     "metadata": {},
     "output_type": "execute_result"
    }
   ],
   "source": [
    "'佳文'.encode('utf-8')"
   ]
  },
  {
   "cell_type": "code",
   "execution_count": 36,
   "metadata": {},
   "outputs": [
    {
     "name": "stdout",
     "output_type": "stream",
     "text": [
      "谢佳文\n"
     ]
    }
   ],
   "source": [
    "print('\\u8c22\\u4f73\\u6587')"
   ]
  },
  {
   "cell_type": "code",
   "execution_count": null,
   "metadata": {},
   "outputs": [],
   "source": []
  }
 ],
 "metadata": {
  "kernelspec": {
   "display_name": "Python 3",
   "language": "python",
   "name": "python3"
  },
  "language_info": {
   "codemirror_mode": {
    "name": "ipython",
    "version": 3
   },
   "file_extension": ".py",
   "mimetype": "text/x-python",
   "name": "python",
   "nbconvert_exporter": "python",
   "pygments_lexer": "ipython3",
   "version": "3.7.5"
  }
 },
 "nbformat": 4,
 "nbformat_minor": 2
}
