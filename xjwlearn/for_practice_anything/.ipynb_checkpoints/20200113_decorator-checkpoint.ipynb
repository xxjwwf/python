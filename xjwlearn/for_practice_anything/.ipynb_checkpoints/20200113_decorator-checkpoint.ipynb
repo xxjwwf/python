{
 "cells": [
  {
   "cell_type": "code",
   "execution_count": 34,
   "metadata": {},
   "outputs": [
    {
     "name": "stdout",
     "output_type": "stream",
     "text": [
      "add called, args = (3, 4), kwargs = {}, fn_doc = 加法函数 \n",
      "function add took 2.002729s for runing, fn_doc = 加法函数\n",
      "7\n",
      "func_name = add, func_doc = 加法函数\n"
     ]
    }
   ],
   "source": [
    "#装饰器decorator\n",
    "\n",
    "import time\n",
    "import datetime\n",
    "from functools import wraps\n",
    "\n",
    "def add(x, y):  #此函数没使用sleep\n",
    "    return x + y\n",
    "\n",
    "def logger(fn):\n",
    "    @wraps(fn)\n",
    "    def wrapper(*args, **kwargs):\n",
    "        \"\"\"装饰函数\"\"\"\n",
    "        start = datetime.datetime.now()\n",
    "        print('{} called, args = {}, kwargs = {}, fn_doc = {} '.format(fn.__name__, args, kwargs, fn.__doc__))\n",
    "        ret = fn(*args, **kwargs)\n",
    "        delta = (datetime.datetime.now() - start).total_seconds()\n",
    "        print('function {} took {}s for runing, fn_doc = {}'.format(fn.__name__, delta, fn.__doc__))\n",
    "        return ret\n",
    "    return wrapper\n",
    "# a = logger(add)(x = 100, y = 300)\n",
    "# a = logger(add)\n",
    "# a(x = 9, y = 21)\n",
    "@logger # add = wrapper\n",
    "def add(x, y):\n",
    "    \"\"\"加法函数\"\"\"\n",
    "    time.sleep(2)\n",
    "    return x + y\n",
    "\n",
    "print(add(3, 4))\n",
    "print('func_name = {}, func_doc = {}'.format(add.__name__, add.__doc__))"
   ]
  },
  {
   "cell_type": "code",
   "execution_count": 14,
   "metadata": {},
   "outputs": [
    {
     "name": "stdout",
     "output_type": "stream",
     "text": [
      "datetime(year, month, day[, hour[, minute[, second[, microsecond[,tzinfo]]]]])\n",
      "\n",
      "The year, month and day arguments are required. tzinfo may be None, or an\n",
      "instance of a tzinfo subclass. The remaining arguments may be ints.\n",
      "\n"
     ]
    }
   ],
   "source": [
    "print(datetime.datetime.__doc__)"
   ]
  },
  {
   "cell_type": "code",
   "execution_count": 39,
   "metadata": {},
   "outputs": [
    {
     "name": "stdout",
     "output_type": "stream",
     "text": [
      "[11, 8, 5, 3, 2, 1]\n",
      "[1, 2, 3, 5, 8, 11]\n"
     ]
    }
   ],
   "source": [
    "#排序\n",
    "L1=[1,2,3,5,8,11]\n",
    "print(sorted(L1, key = lambda x: -x)) #注意其中细节，返回新列表，逆序排序（默认为从小到大排序，加上-x可以逆序）\n",
    "L1.sort(key = lambda x: -x, reverse = True) #直接修改列表，根据负负得正原理，这个就是默认排序原则了\n",
    "print(L1)"
   ]
  },
  {
   "cell_type": "code",
   "execution_count": 41,
   "metadata": {},
   "outputs": [
    {
     "data": {
      "text/plain": [
       "[1, 2, 3, 4]"
      ]
     },
     "execution_count": 41,
     "metadata": {},
     "output_type": "execute_result"
    }
   ],
   "source": [
    "filter(None, range(5))"
   ]
  },
  {
   "cell_type": "code",
   "execution_count": null,
   "metadata": {},
   "outputs": [],
   "source": []
  }
 ],
 "metadata": {
  "kernelspec": {
   "display_name": "Python 3",
   "language": "python",
   "name": "python3"
  },
  "language_info": {
   "codemirror_mode": {
    "name": "ipython",
    "version": 3
   },
   "file_extension": ".py",
   "mimetype": "text/x-python",
   "name": "python",
   "nbconvert_exporter": "python",
   "pygments_lexer": "ipython3",
   "version": "3.6.9"
  }
 },
 "nbformat": 4,
 "nbformat_minor": 2
}
