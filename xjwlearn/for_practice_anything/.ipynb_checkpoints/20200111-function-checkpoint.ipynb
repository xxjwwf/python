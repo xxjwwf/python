{
 "cells": [
  {
   "cell_type": "code",
   "execution_count": 1,
   "metadata": {
    "scrolled": false
   },
   "outputs": [
    {
     "ename": "NameError",
     "evalue": "name 'L1' is not defined",
     "output_type": "error",
     "traceback": [
      "\u001b[1;31m---------------------------------------------------------------------------\u001b[0m",
      "\u001b[1;31mNameError\u001b[0m                                 Traceback (most recent call last)",
      "\u001b[1;32m<ipython-input-1-848eeeedcd55>\u001b[0m in \u001b[0;36m<module>\u001b[1;34m\u001b[0m\n\u001b[1;32m----> 1\u001b[1;33m \u001b[1;32mfor\u001b[0m \u001b[0mi\u001b[0m \u001b[1;32min\u001b[0m \u001b[0mrange\u001b[0m\u001b[1;33m(\u001b[0m\u001b[0mlen\u001b[0m\u001b[1;33m(\u001b[0m\u001b[0mL1\u001b[0m\u001b[1;33m)\u001b[0m\u001b[1;33m-\u001b[0m\u001b[1;36m1\u001b[0m\u001b[1;33m,\u001b[0m\u001b[1;33m-\u001b[0m\u001b[1;36m1\u001b[0m\u001b[1;33m,\u001b[0m\u001b[1;33m-\u001b[0m\u001b[1;36m1\u001b[0m\u001b[1;33m)\u001b[0m\u001b[1;33m:\u001b[0m\u001b[1;33m\u001b[0m\u001b[1;33m\u001b[0m\u001b[0m\n\u001b[0m\u001b[0;32m      2\u001b[0m     \u001b[0mprint\u001b[0m\u001b[1;33m(\u001b[0m\u001b[0mi\u001b[0m\u001b[1;33m)\u001b[0m\u001b[1;33m\u001b[0m\u001b[1;33m\u001b[0m\u001b[0m\n",
      "\u001b[1;31mNameError\u001b[0m: name 'L1' is not defined"
     ]
    }
   ],
   "source": [
    "for i in range(len(L1)-1,-1,-1):\n",
    "    print(i)"
   ]
  },
  {
   "cell_type": "code",
   "execution_count": 2,
   "metadata": {},
   "outputs": [
    {
     "ename": "SyntaxError",
     "evalue": "unexpected EOF while parsing (<ipython-input-2-014124aecb52>, line 1)",
     "output_type": "error",
     "traceback": [
      "\u001b[1;36m  File \u001b[1;32m\"<ipython-input-2-014124aecb52>\"\u001b[1;36m, line \u001b[1;32m1\u001b[0m\n\u001b[1;33m    for i in range(1,len(L1)+1):\u001b[0m\n\u001b[1;37m                                ^\u001b[0m\n\u001b[1;31mSyntaxError\u001b[0m\u001b[1;31m:\u001b[0m unexpected EOF while parsing\n"
     ]
    }
   ],
   "source": [
    "for i in range(1,len(L1)+1):\n",
    "    print(i)"
   ]
  },
  {
   "cell_type": "code",
   "execution_count": 3,
   "metadata": {},
   "outputs": [
    {
     "ename": "NameError",
     "evalue": "name 'L1' is not defined",
     "output_type": "error",
     "traceback": [
      "\u001b[1;31m---------------------------------------------------------------------------\u001b[0m",
      "\u001b[1;31mNameError\u001b[0m                                 Traceback (most recent call last)",
      "\u001b[1;32m<ipython-input-3-3de93a86e712>\u001b[0m in \u001b[0;36m<module>\u001b[1;34m\u001b[0m\n\u001b[1;32m----> 1\u001b[1;33m \u001b[1;32mfor\u001b[0m \u001b[0mi\u001b[0m \u001b[1;32min\u001b[0m \u001b[0mreversed\u001b[0m\u001b[1;33m(\u001b[0m\u001b[0mL1\u001b[0m\u001b[1;33m)\u001b[0m\u001b[1;33m:\u001b[0m\u001b[1;33m\u001b[0m\u001b[1;33m\u001b[0m\u001b[0m\n\u001b[0m\u001b[0;32m      2\u001b[0m     \u001b[0mprint\u001b[0m\u001b[1;33m(\u001b[0m\u001b[0mi\u001b[0m\u001b[1;33m)\u001b[0m\u001b[1;33m\u001b[0m\u001b[1;33m\u001b[0m\u001b[0m\n",
      "\u001b[1;31mNameError\u001b[0m: name 'L1' is not defined"
     ]
    }
   ],
   "source": [
    "for i in reversed(L1):\n",
    "    print(i)"
   ]
  },
  {
   "cell_type": "code",
   "execution_count": 4,
   "metadata": {
    "scrolled": true
   },
   "outputs": [
    {
     "name": "stdout",
     "output_type": "stream",
     "text": [
      "1 9\n",
      "2 99\n",
      "3 999\n",
      "4 9999\n"
     ]
    }
   ],
   "source": [
    "L1=[9,99,999,9999]\n",
    "x=enumerate(L1,1) #设置1为开始的序号\n",
    "for k,v in x:\n",
    "    print(k,v)"
   ]
  },
  {
   "cell_type": "code",
   "execution_count": 5,
   "metadata": {},
   "outputs": [
    {
     "name": "stdout",
     "output_type": "stream",
     "text": [
      "0 9999\n",
      "-1 999\n",
      "-2 99\n",
      "-3 9\n"
     ]
    }
   ],
   "source": [
    "x=enumerate(reversed(L1))\n",
    "for nindex,v in x:\n",
    "    print(-nindex, v)"
   ]
  },
  {
   "cell_type": "code",
   "execution_count": 11,
   "metadata": {},
   "outputs": [
    {
     "name": "stdout",
     "output_type": "stream",
     "text": [
      "2\n"
     ]
    }
   ],
   "source": [
    "def counter(base): # base是本地变量。形参就是本地变量\n",
    "    def inc(step=1):\n",
    "        nonlocal base\n",
    "        base += step\n",
    "        return base\n",
    "    return inc\n",
    "# x=counter(2)\n",
    "# print(x()) #x和x()完全不同，x指的是inc函数对象，x()指的是inc(),执行后的结果\n",
    "# print(x)\n",
    "x=counter    #可以跟上面对比一下\n",
    "print(x(1)())"
   ]
  },
  {
   "cell_type": "code",
   "execution_count": 12,
   "metadata": {},
   "outputs": [
    {
     "data": {
      "text/plain": [
       "(1855096606936, 1855095757992)"
      ]
     },
     "execution_count": 12,
     "metadata": {},
     "output_type": "execute_result"
    }
   ],
   "source": [
    "f1 = counter(5)  #第一次调用的base的结果和临时Inc对象被f1引用，不会消亡\n",
    "f2 = counter(5)  #第二次调用生成另外的base结果和Inc对象，两次调用互不影响\n",
    "f1 == f2  #? False #函数等值比较不能比较名称，只能比较地址，其实等价于is\n",
    "f1 is f2  #? False\n",
    "id(f1),id(f2)"
   ]
  },
  {
   "cell_type": "code",
   "execution_count": 13,
   "metadata": {},
   "outputs": [
    {
     "data": {
      "text/plain": [
       "(1855096626312, 1855096626312)"
      ]
     },
     "execution_count": 13,
     "metadata": {},
     "output_type": "execute_result"
    }
   ],
   "source": [
    "#引用类型的元素\n",
    "def a(x):\n",
    "    x.append(1)\n",
    "    return x\n",
    "x=[]   #两次调用使用的是同一个引用类型地址\n",
    "b=a(x)\n",
    "c=a(x)\n",
    "id(b),id(c)"
   ]
  },
  {
   "cell_type": "code",
   "execution_count": 14,
   "metadata": {},
   "outputs": [],
   "source": [
    "#\n",
    "def add(x):\n",
    "    def fn(y):\n",
    "        return x + y\n",
    "    return fn\n",
    "add(4)(5)\n",
    "\n",
    "#等价于\n",
    "def add(x,y):\n",
    "    return x + y"
   ]
  },
  {
   "cell_type": "code",
   "execution_count": 18,
   "metadata": {},
   "outputs": [
    {
     "data": {
      "text/plain": [
       "15"
      ]
     },
     "execution_count": 18,
     "metadata": {},
     "output_type": "execute_result"
    }
   ],
   "source": [
    "def add(x,y,z):\n",
    "    return x + y + z\n",
    "#等价于\n",
    "def add(x):\n",
    "    def fn(y,z):\n",
    "        return x + y + z\n",
    "    return fn\n",
    "#等价于\n",
    "def add(x):\n",
    "    def inner(y):\n",
    "        def inner2(z):\n",
    "            return x + y + z\n",
    "        return inner2\n",
    "    return inner\n",
    "add(4)(5)(6)"
   ]
  },
  {
   "cell_type": "code",
   "execution_count": 19,
   "metadata": {},
   "outputs": [],
   "source": [
    "#add(4,5)(6)  ???????????????????????????????怎么柯里化"
   ]
  },
  {
   "cell_type": "code",
   "execution_count": 23,
   "metadata": {},
   "outputs": [
    {
     "ename": "NameError",
     "evalue": "name 'y' is not defined",
     "output_type": "error",
     "traceback": [
      "\u001b[1;31m---------------------------------------------------------------------------\u001b[0m",
      "\u001b[1;31mNameError\u001b[0m                                 Traceback (most recent call last)",
      "\u001b[1;32m<ipython-input-23-726cca7a7ddf>\u001b[0m in \u001b[0;36m<module>\u001b[1;34m\u001b[0m\n\u001b[0;32m      1\u001b[0m \u001b[1;32mimport\u001b[0m \u001b[0mdatetime\u001b[0m\u001b[1;33m\u001b[0m\u001b[1;33m\u001b[0m\u001b[0m\n\u001b[0;32m      2\u001b[0m \u001b[0mx\u001b[0m\u001b[1;33m=\u001b[0m\u001b[0mdatetime\u001b[0m\u001b[1;33m.\u001b[0m\u001b[0mdatetime\u001b[0m\u001b[1;33m.\u001b[0m\u001b[0mnow\u001b[0m\u001b[1;33m(\u001b[0m\u001b[1;33m)\u001b[0m\u001b[1;33m\u001b[0m\u001b[1;33m\u001b[0m\u001b[0m\n\u001b[1;32m----> 3\u001b[1;33m \u001b[0my\u001b[0m\u001b[1;33m-\u001b[0m\u001b[0mx\u001b[0m\u001b[1;33m\u001b[0m\u001b[1;33m\u001b[0m\u001b[0m\n\u001b[0m\u001b[0;32m      4\u001b[0m \u001b[1;33m(\u001b[0m\u001b[0my\u001b[0m\u001b[1;33m-\u001b[0m\u001b[0mx\u001b[0m\u001b[1;33m)\u001b[0m\u001b[1;33m.\u001b[0m\u001b[0mtotal_senonds\u001b[0m\u001b[1;33m(\u001b[0m\u001b[1;33m)\u001b[0m\u001b[1;33m\u001b[0m\u001b[1;33m\u001b[0m\u001b[0m\n\u001b[0;32m      5\u001b[0m \u001b[0mdatetime\u001b[0m\u001b[1;33m.\u001b[0m\u001b[0mdatetime\u001b[0m\u001b[1;33m(\u001b[0m\u001b[1;36m2012\u001b[0m\u001b[1;33m,\u001b[0m\u001b[1;36m10\u001b[0m\u001b[1;33m,\u001b[0m\u001b[1;36m1\u001b[0m\u001b[1;33m,\u001b[0m\u001b[1;36m12\u001b[0m\u001b[1;33m,\u001b[0m\u001b[1;36m22\u001b[0m\u001b[1;33m,\u001b[0m\u001b[1;36m50\u001b[0m\u001b[1;33m)\u001b[0m\u001b[1;33m\u001b[0m\u001b[1;33m\u001b[0m\u001b[0m\n",
      "\u001b[1;31mNameError\u001b[0m: name 'y' is not defined"
     ]
    }
   ],
   "source": [
    "import datetime\n",
    "x=datetime.datetime.now()\n",
    "y-x\n",
    "(y-x).total_senonds()\n",
    "datetime.datetime(2012,10,1,12,22,50)"
   ]
  },
  {
   "cell_type": "code",
   "execution_count": 35,
   "metadata": {},
   "outputs": [
    {
     "name": "stdout",
     "output_type": "stream",
     "text": [
      "2012-05-01 12:30:40\n"
     ]
    }
   ],
   "source": [
    "#拿到时间字符串\n",
    "# \n",
    "datestr = '2012-05-01 12:30:40'\n",
    "\n",
    "d = datetime.datetime.strptime(datestr, '%Y-%m-%d %H:%M:%S') #parse str --> daterime object\n",
    "print(d)"
   ]
  },
  {
   "cell_type": "code",
   "execution_count": 40,
   "metadata": {
    "scrolled": true
   },
   "outputs": [
    {
     "name": "stdout",
     "output_type": "stream",
     "text": [
      "2012-05-01 12:30:40\n"
     ]
    },
    {
     "data": {
      "text/plain": [
       "'2012-05-01 12:30:40'"
      ]
     },
     "execution_count": 40,
     "metadata": {},
     "output_type": "execute_result"
    }
   ],
   "source": [
    "print(d)\n",
    "d.strftime(\"%Y-%m-%d %H:%M:%S\")  #时间对象-->字符串"
   ]
  },
  {
   "cell_type": "code",
   "execution_count": 42,
   "metadata": {},
   "outputs": [
    {
     "name": "stdout",
     "output_type": "stream",
     "text": [
      "add called. x=4,y=5\n",
      "9\n"
     ]
    }
   ],
   "source": [
    "#记录调用的参数\n",
    "def add(x,y): #业务功能用于做加法；非业务功能和业务功能耦合紧密\n",
    "    print('add called. x={},y={}'.format(x,y)) #非业务功能\n",
    "    return x + y\n",
    "\n",
    "print(add(4,5))"
   ]
  },
  {
   "cell_type": "code",
   "execution_count": 43,
   "metadata": {},
   "outputs": [
    {
     "ename": "NameError",
     "evalue": "name '记录功能这一块可以使用函数来装饰' is not defined",
     "output_type": "error",
     "traceback": [
      "\u001b[1;31m---------------------------------------------------------------------------\u001b[0m",
      "\u001b[1;31mNameError\u001b[0m                                 Traceback (most recent call last)",
      "\u001b[1;32m<ipython-input-43-88731b4bb230>\u001b[0m in \u001b[0;36m<module>\u001b[1;34m\u001b[0m\n\u001b[1;32m----> 1\u001b[1;33m \u001b[0m记录功能这一块可以使用函数来装饰\u001b[0m\u001b[1;33m\u001b[0m\u001b[1;33m\u001b[0m\u001b[0m\n\u001b[0m",
      "\u001b[1;31mNameError\u001b[0m: name '记录功能这一块可以使用函数来装饰' is not defined"
     ]
    }
   ],
   "source": [
    "#记录功能这一块可以使用函数来包装"
   ]
  },
  {
   "cell_type": "code",
   "execution_count": null,
   "metadata": {},
   "outputs": [],
   "source": [
    "def logger(fn): #fn = add\n",
    "    print('{} called, x = {},y = {}'.format(fn.__name__,x,y))\n",
    "    ret = fn(10,11)\n",
    "    \n",
    "    return ret\n",
    "\n",
    "print(logger(add))\n",
    "    "
   ]
  },
  {
   "cell_type": "code",
   "execution_count": null,
   "metadata": {},
   "outputs": [],
   "source": [
    "def sub(x, y):\n",
    "    return x - y\n"
   ]
  },
  {
   "cell_type": "code",
   "execution_count": 53,
   "metadata": {},
   "outputs": [
    {
     "name": "stdout",
     "output_type": "stream",
     "text": [
      "add called, x = 4,y = 6\n",
      "10\n"
     ]
    }
   ],
   "source": [
    "#上面的变形\n",
    "def logger(fn, x, y): #fn = add\n",
    "    print('{} called, x = {},y = {}'.format(fn.__name__,x,y))\n",
    "    ret = fn(x,y)\n",
    "    \n",
    "    return ret\n",
    "\n",
    "print(logger(add, 4, 6))"
   ]
  },
  {
   "cell_type": "code",
   "execution_count": 89,
   "metadata": {
    "scrolled": true
   },
   "outputs": [
    {
     "name": "stdout",
     "output_type": "stream",
     "text": [
      "add called, args = (5,),kwargs = {'y': 6}\n",
      "11\n",
      "sub called, args = (),kwargs = {'y': 5, 'x': 6, 'z': 7}\n",
      "-6\n"
     ]
    }
   ],
   "source": [
    "#再变形\n",
    "def add(x,y):\n",
    "    return x + y\n",
    "\n",
    "def sub(x, y, z):\n",
    "    return x - y - z\n",
    "\n",
    "def logger(fn, *args, **kwargs): \n",
    "#fn = add，可变参数收集出fn之外，所有的位置传参和关键字传参\n",
    "    print('{} called, args = {},kwargs = {}'.format(fn.__name__, args, kwargs))\n",
    "#   ret = fn(args, kwargs) #必须带*号，不然参数不能解构，变成了位置传参，比如fn((5,),('y':6))\n",
    "    ret = fn(*args, **kwargs)\n",
    "    return ret\n",
    "\n",
    "print(logger(add, 5, y=6)) #这样就可以随意传参了\n",
    "print(logger(sub,y=5, x=6, z=7))"
   ]
  },
  {
   "cell_type": "code",
   "execution_count": 91,
   "metadata": {},
   "outputs": [
    {
     "name": "stdout",
     "output_type": "stream",
     "text": [
      "add called, args=(4, 7). kwargs={}\n"
     ]
    },
    {
     "data": {
      "text/plain": [
       "11"
      ]
     },
     "execution_count": 91,
     "metadata": {},
     "output_type": "execute_result"
    }
   ],
   "source": [
    "#再变形，柯里化\n",
    "def logger(fn):\n",
    "    def wrapper(*args, **kwargs):\n",
    "        print('{} called, args={}. kwargs={}'.format(fn.__name__,args,kwargs))\n",
    "        ret = fn(*args, **kwargs) ##add(4,7,x=5),add成为被包装函数wrapped\n",
    "        return ret\n",
    "    return wrapper\n",
    "inner =logger(add) #inner <==> wrapper\n",
    "inner(4,7) #wrapper(4,7)"
   ]
  },
  {
   "cell_type": "code",
   "execution_count": 98,
   "metadata": {},
   "outputs": [
    {
     "name": "stdout",
     "output_type": "stream",
     "text": [
      "add called, args=(), kwargs={'y': 1114, 'x': 299}\n"
     ]
    },
    {
     "data": {
      "text/plain": [
       "1413"
      ]
     },
     "execution_count": 98,
     "metadata": {},
     "output_type": "execute_result"
    }
   ],
   "source": [
    "#装饰器\n",
    "def add(x, y):\n",
    "    return x + y\n",
    "\n",
    "def logger(fn):\n",
    "    def wrapper(*args, **kwargs):\n",
    "        print('{} called, args={}, kwargs={}'.format(fn.__name__, args, kwargs))\n",
    "        ret = fn(*args, **kwargs)\n",
    "        return ret\n",
    "    return wrapper #调用完成后消亡，wrapper指向的对象被后续的标识符记住\n",
    "\n",
    "add = logger(add)  #wrapper函数对象有闭包，记住了fb，fn本质上是add函数对象\n",
    "add(y=1114,x=299)"
   ]
  },
  {
   "cell_type": "code",
   "execution_count": 99,
   "metadata": {},
   "outputs": [
    {
     "name": "stdout",
     "output_type": "stream",
     "text": [
      "wrapper called, args=(1114, 299), kwargs={}\n",
      "add called, args=(1114, 299), kwargs={}\n"
     ]
    },
    {
     "data": {
      "text/plain": [
       "1413"
      ]
     },
     "execution_count": 99,
     "metadata": {},
     "output_type": "execute_result"
    }
   ],
   "source": [
    "add = logger(add)  #wrapper函数对象有闭包，记住了fn，fn本质上是add函数对象\n",
    "add(1114,299)"
   ]
  },
  {
   "cell_type": "code",
   "execution_count": 87,
   "metadata": {},
   "outputs": [],
   "source": [
    "#装饰器\n",
    "def logger(fn):\n",
    "    def wrapper(*args, **kwargs):\n",
    "        print('{} called, args={}, kwargs={}'.format(fn.__name__, args, kwargs))\n",
    "        ret = fn(*args, **kwargs)\n",
    "        return ret\n",
    "    return wrapper\n",
    "@logger #装饰器语法 ，将被装饰的函数作为自己的实参，并且将返回值赋值给此函数\n",
    "        #等价于add = logger(add)\n",
    "def add(x, y):  #通过@来使用装饰器，这种方式是非侵入式代码\n",
    "    return x + y\n"
   ]
  },
  {
   "cell_type": "code",
   "execution_count": 88,
   "metadata": {},
   "outputs": [
    {
     "name": "stdout",
     "output_type": "stream",
     "text": [
      "add called, args=(114, 999), kwargs={}\n"
     ]
    },
    {
     "data": {
      "text/plain": [
       "1113"
      ]
     },
     "execution_count": 88,
     "metadata": {},
     "output_type": "execute_result"
    }
   ],
   "source": [
    "#wrapper函数对象有闭包，记住了fb，fn本质上是add函数对象\n",
    "add(114,999)"
   ]
  },
  {
   "cell_type": "code",
   "execution_count": 105,
   "metadata": {},
   "outputs": [
    {
     "name": "stdout",
     "output_type": "stream",
     "text": [
      "之前增强\n",
      "之后增强\n",
      "add took 1.00002s\n"
     ]
    },
    {
     "data": {
      "text/plain": [
       "5"
      ]
     },
     "execution_count": 105,
     "metadata": {},
     "output_type": "execute_result"
    }
   ],
   "source": [
    "#装饰器\n",
    "import time\n",
    "import datetime\n",
    "def logger(fn):\n",
    "    def wrapper(*args, **kwargs):\n",
    "        print('之前增强')\n",
    "        start = datetime.datetime.now()\n",
    "#       print('{} called, args={}, kwargs={}'.format(fn.__name__, args, kwargs))\n",
    "        ret = fn(*args, **kwargs)\n",
    "        delta = (datetime.datetime.now() - start).total_seconds()\n",
    "        print('之后增强')\n",
    "        print('{} took {}s'.format(fn.__name__, delta)) #AOP\n",
    "        return ret\n",
    "    return wrapper\n",
    "@logger #装饰器语法 ，将被装饰的函数作为自己的实参，并且将返回值赋值给此函数\n",
    "        #等价于add = logger(add)\n",
    "def add(x, y):  #通过@来使用装饰器，这种方式是非侵入式代码\n",
    "    time.sleep(1)\n",
    "    return x + y\n",
    "\n",
    "add(2,3)"
   ]
  },
  {
   "cell_type": "code",
   "execution_count": 108,
   "metadata": {},
   "outputs": [
    {
     "data": {
      "text/plain": [
       "('a', 'a doc string ')"
      ]
     },
     "execution_count": 108,
     "metadata": {},
     "output_type": "execute_result"
    }
   ],
   "source": [
    "##0**文档字符串\n",
    "def a():\n",
    "    \"\"\"a doc string \"\"\"\n",
    "    return 100\n",
    "\n",
    "a.__name__, a.__doc__"
   ]
  },
  {
   "cell_type": "code",
   "execution_count": 115,
   "metadata": {},
   "outputs": [],
   "source": [
    "#装饰器\n",
    "import time\n",
    "import datetime\n",
    "from functool import wraps\n",
    "\n",
    "def logger(fn):\n",
    "    @wraps(fn)  #带参装饰器 wrapper = wraps(fn)(wrapper) ==> wapper = wrapper\n",
    "    def wrapper(*args, **kwargs):\n",
    "        \"\"\"this is wrapper function doc\"\"\"\n",
    "        print('之前增强')\n",
    "        start = datetime.datetime.now()\n",
    "#       print('{} called, args={}, kwargs={}'.format(fn.__name__, args, kwargs))\n",
    "        ret = fn(*args, **kwargs)\n",
    "        delta = (datetime.datetime.now() - start).total_seconds()\n",
    "        print('之后增强')\n",
    "        print('{} took {}s'.format(fn.__name__, delta)) #AOP\n",
    "        return ret\n",
    "#     wrapper.__name__ = fn.__name__  ##将名称换成被装饰函数的名称\n",
    "#     wrapper.__doc__ = fn.__doc__     #把文档也换成被装饰函数的文档\n",
    "    return wrapper\n",
    "@logger #装饰器语法 ，将被装饰的函数作为自己的实参，并且将返回值赋值给此函数\n",
    "        #等价于add = logger(add)\n",
    "def add(x, y):  #通过@来使用装饰器，这种方式是非侵入式代码\n",
    "    \"\"\"this is add function doc\"\"\"\n",
    "    time.sleep(1)\n",
    "    return x + y"
   ]
  },
  {
   "cell_type": "code",
   "execution_count": 116,
   "metadata": {},
   "outputs": [
    {
     "data": {
      "text/plain": [
       "('add', 'this is add function doc')"
      ]
     },
     "execution_count": 116,
     "metadata": {},
     "output_type": "execute_result"
    }
   ],
   "source": [
    "add.__name__, add.__doc__"
   ]
  },
  {
   "cell_type": "code",
   "execution_count": null,
   "metadata": {},
   "outputs": [],
   "source": [
    "#装饰器\n",
    "import time\n",
    "import datetime\n",
    "from functool import wraps\n",
    "\n",
    "def logger(fn):\n",
    "    @wraps(fn)  #带参装饰器 wrapper = wraps(fn)(wrapper) ==> wapper = wrapper\n",
    "    def wrapper(*args, **kwargs):\n",
    "        \"\"\"this is wrapper function doc\"\"\"\n",
    "        print('之前增强')\n",
    "        start = datetime.datetime.now()\n",
    "#       print('{} called, args={}, kwargs={}'.format(fn.__name__, args, kwargs))\n",
    "        ret = fn(*args, **kwargs)\n",
    "        delta = (datetime.datetime.now() - start).total_seconds()\n",
    "        print('之后增强')\n",
    "        print('{} took {}s'.format(fn.__name__, delta)) #AOP\n",
    "        return ret\n",
    "#     wrapper.__name__ = fn.__name__  ##将名称换成被装饰函数的名称\n",
    "#     wrapper.__doc__ = fn.__doc__     #把文档也换成被装饰函数的文档\n",
    "    return wrapper\n",
    "@logger #装饰器语法 ，将被装饰的函数作为自己的实参，并且将返回值赋值给此函数\n",
    "        #等价于add = logger(add)\n",
    "def add(x, y):  #通过@来使用装饰器，这种方式是非侵入式代码\n",
    "    pass\n",
    "\n",
    "@logger  ##sub = logger(sub) ==> sub = wrapper\n",
    "def sub(x,y):\n",
    "    pass\n",
    "\n",
    "\n",
    "##logger有没有执行？有\n",
    "##logger执行过几次？2次\n",
    "##wraps执行了几次?2次\n",
    "##wraps属性__name__被覆盖过几次？2次，各自的wrapper函数被覆盖\n",
    "##两次调用过的wrapper对象不一样\n",
    "\n",
    "print(add.__name__,sub.__name__)"
   ]
  },
  {
   "cell_type": "code",
   "execution_count": null,
   "metadata": {},
   "outputs": [],
   "source": []
  },
  {
   "cell_type": "code",
   "execution_count": 119,
   "metadata": {},
   "outputs": [
    {
     "data": {
      "text/plain": [
       "[2, 4, 6]"
      ]
     },
     "execution_count": 119,
     "metadata": {},
     "output_type": "execute_result"
    }
   ],
   "source": [
    "# lambda函数\n",
    "def fn(*args):\n",
    "    return [x+1 for x in args]\n",
    "\n",
    "(lambda *args: [x+1 for x in args])(1,3,5)\n",
    "\n",
    "#注意惰性求值\n",
    "(lambda *args: (x+1 for x in args))(1,3,5) #返回生成器对象\n",
    "\n",
    "#==>\n",
    "list((lambda *args: (x+1 for x in args))(1,3,5))"
   ]
  },
  {
   "cell_type": "code",
   "execution_count": 118,
   "metadata": {},
   "outputs": [
    {
     "data": {
      "text/plain": [
       "[5, 6, 7, 8, 9, 10, 11, 12, 13, 14, 15, 16, 17, 18, 19]"
      ]
     },
     "execution_count": 118,
     "metadata": {},
     "output_type": "execute_result"
    }
   ],
   "source": [
    "#注意以下几个例子\n",
    "(lambda *args:{x for x in args})(*range(10),*range(5,20))"
   ]
  },
  {
   "cell_type": "code",
   "execution_count": 121,
   "metadata": {},
   "outputs": [],
   "source": [
    "# (lambda *args:{x:x+1 for x in args})(*range(10),*range(5,20))"
   ]
  },
  {
   "cell_type": "code",
   "execution_count": 123,
   "metadata": {},
   "outputs": [],
   "source": [
    "# (lambda *args:{str(x):x+1 for x in args})(*range(10),*range(5,20))"
   ]
  },
  {
   "cell_type": "code",
   "execution_count": 125,
   "metadata": {},
   "outputs": [],
   "source": [
    "# (lambda *args:{str(x):(x+1,x+2,x+3) for x in args})(*range(10),*range(5,20))"
   ]
  },
  {
   "cell_type": "code",
   "execution_count": 127,
   "metadata": {},
   "outputs": [
    {
     "data": {
      "text/plain": [
       "{0, 1}"
      ]
     },
     "execution_count": 127,
     "metadata": {},
     "output_type": "execute_result"
    }
   ],
   "source": [
    "(lambda *args:{x%2 for x in args})(*range(10),*range(2,19))"
   ]
  },
  {
   "cell_type": "code",
   "execution_count": 132,
   "metadata": {},
   "outputs": [
    {
     "data": {
      "text/plain": [
       "{0: 1, 1: 2, 2: 3, 3: 4, 4: 5}"
      ]
     },
     "execution_count": 132,
     "metadata": {},
     "output_type": "execute_result"
    }
   ],
   "source": [
    "dict((lambda *args: ((x,x+1) for x in args))(*range(5)))"
   ]
  },
  {
   "cell_type": "code",
   "execution_count": 135,
   "metadata": {},
   "outputs": [
    {
     "data": {
      "text/plain": [
       "[('a', 100), ('b', 200), ('c', 300)]"
      ]
     },
     "execution_count": 135,
     "metadata": {},
     "output_type": "execute_result"
    }
   ],
   "source": [
    "#排序\n",
    "d={'a':100,'b':200,'c':300}\n",
    "sorted(d.items(),key = lambda item:item[1],reverse = False)"
   ]
  },
  {
   "cell_type": "code",
   "execution_count": 137,
   "metadata": {},
   "outputs": [
    {
     "name": "stdout",
     "output_type": "stream",
     "text": [
      "[('a', 100), ('b', 200), ('c', 300), (1, 101)]\n",
      "[('a', 100), ('b', 200), ('c', 300), (1, 101)]\n"
     ]
    }
   ],
   "source": [
    "d={'a':100,'b':200,'c':300,1:101}\n",
    "print(sorted(d.items(),key=str)) #上下等价\n",
    "print(sorted(d.items(),key=lambda x:str(x)))\n"
   ]
  },
  {
   "cell_type": "code",
   "execution_count": 138,
   "metadata": {},
   "outputs": [
    {
     "data": {
      "text/plain": [
       "[4, 3, 2, 1, 0]"
      ]
     },
     "execution_count": 138,
     "metadata": {},
     "output_type": "execute_result"
    }
   ],
   "source": [
    "sorted(range(5),key = lambda x:6-x) ##注意这个很坑，从小到大排序，但是显示的是从大到小"
   ]
  },
  {
   "cell_type": "code",
   "execution_count": 140,
   "metadata": {},
   "outputs": [
    {
     "data": {
      "text/plain": [
       "[1, 2, 3, 4]"
      ]
     },
     "execution_count": 140,
     "metadata": {},
     "output_type": "execute_result"
    }
   ],
   "source": [
    "##filter函数\n",
    "list(filter(None,range(5)))  #等价真假，然后默认过滤假"
   ]
  },
  {
   "cell_type": "code",
   "execution_count": 145,
   "metadata": {},
   "outputs": [
    {
     "ename": "TypeError",
     "evalue": "'list' object is not callable",
     "output_type": "error",
     "traceback": [
      "\u001b[1;31m---------------------------------------------------------------------------\u001b[0m",
      "\u001b[1;31mTypeError\u001b[0m                                 Traceback (most recent call last)",
      "\u001b[1;32m<ipython-input-145-1516ace557eb>\u001b[0m in \u001b[0;36m<module>\u001b[1;34m\u001b[0m\n\u001b[1;32m----> 1\u001b[1;33m \u001b[0mlist\u001b[0m\u001b[1;33m(\u001b[0m\u001b[0mfilter\u001b[0m\u001b[1;33m(\u001b[0m\u001b[1;33m[\u001b[0m\u001b[1;36m0\u001b[0m\u001b[1;33m,\u001b[0m\u001b[1;36m1\u001b[0m\u001b[1;33m]\u001b[0m\u001b[1;33m,\u001b[0m\u001b[1;33m[\u001b[0m\u001b[1;32mTrue\u001b[0m\u001b[1;33m,\u001b[0m\u001b[1;32mFalse\u001b[0m\u001b[1;33m,\u001b[0m\u001b[1;33m(\u001b[0m\u001b[1;33m)\u001b[0m\u001b[1;33m,\u001b[0m\u001b[1;33m{\u001b[0m\u001b[1;33m}\u001b[0m\u001b[1;33m,\u001b[0m\u001b[1;34m''\u001b[0m\u001b[1;33m,\u001b[0m\u001b[1;34m' '\u001b[0m\u001b[1;33m,\u001b[0m\u001b[1;34m'a'\u001b[0m\u001b[1;33m]\u001b[0m\u001b[1;33m)\u001b[0m\u001b[1;33m)\u001b[0m\u001b[1;33m\u001b[0m\u001b[1;33m\u001b[0m\u001b[0m\n\u001b[0m",
      "\u001b[1;31mTypeError\u001b[0m: 'list' object is not callable"
     ]
    }
   ],
   "source": [
    "\n",
    "list(filter([0,1],[True,False,(),{},'',' ','a']))"
   ]
  },
  {
   "cell_type": "code",
   "execution_count": 146,
   "metadata": {},
   "outputs": [
    {
     "data": {
      "text/plain": [
       "[0, 3, 6]"
      ]
     },
     "execution_count": 146,
     "metadata": {},
     "output_type": "execute_result"
    }
   ],
   "source": [
    "list(filter(lambda x:x%3 == 0, [0,1,2,3,6,5]))  #模3得0的才返回为真，其余为假被过滤"
   ]
  },
  {
   "cell_type": "code",
   "execution_count": 150,
   "metadata": {},
   "outputs": [
    {
     "data": {
      "text/plain": [
       "[1, 2, 3, 4, 5]"
      ]
     },
     "execution_count": 150,
     "metadata": {},
     "output_type": "execute_result"
    }
   ],
   "source": [
    "#map函数\n",
    "list(map(lambda x:x+1 ,range(5)))"
   ]
  },
  {
   "cell_type": "code",
   "execution_count": 153,
   "metadata": {},
   "outputs": [
    {
     "data": {
      "text/plain": [
       "{0: 1, 1: 2, 2: 3, 3: 4, 4: 5}"
      ]
     },
     "execution_count": 153,
     "metadata": {},
     "output_type": "execute_result"
    }
   ],
   "source": [
    "dict(map(lambda x:(x,x+1) ,range(5)))"
   ]
  },
  {
   "cell_type": "code",
   "execution_count": 154,
   "metadata": {},
   "outputs": [
    {
     "data": {
      "text/plain": [
       "{0: (1,), 1: (2,), 2: (3,), 3: (4,), 4: (5,)}"
      ]
     },
     "execution_count": 154,
     "metadata": {},
     "output_type": "execute_result"
    }
   ],
   "source": [
    "dict(map(lambda x:(x,(x+1,)) ,range(5)))"
   ]
  },
  {
   "cell_type": "code",
   "execution_count": 156,
   "metadata": {},
   "outputs": [
    {
     "data": {
      "text/plain": [
       "{'0': 5, '1': 4}"
      ]
     },
     "execution_count": 156,
     "metadata": {},
     "output_type": "execute_result"
    }
   ],
   "source": [
    "dict(map(lambda x:(str(x%2),x+1) ,range(5)))"
   ]
  },
  {
   "cell_type": "code",
   "execution_count": 157,
   "metadata": {},
   "outputs": [
    {
     "data": {
      "text/plain": [
       "{'a': 0, 'b': 1, 'c': 2, 'd': 3, 'e': 4, 'f': 5}"
      ]
     },
     "execution_count": 157,
     "metadata": {},
     "output_type": "execute_result"
    }
   ],
   "source": [
    "dict(map(lambda x,y: (x,y),'abcdef',range(10)))"
   ]
  },
  {
   "cell_type": "code",
   "execution_count": 159,
   "metadata": {},
   "outputs": [
    {
     "data": {
      "text/plain": [
       "'01234'"
      ]
     },
     "execution_count": 159,
     "metadata": {},
     "output_type": "execute_result"
    }
   ],
   "source": [
    "# \"\".join(range(5)) \n",
    "# ==> \n",
    "\"\".join(map(str, range(5)))  "
   ]
  },
  {
   "cell_type": "code",
   "execution_count": 164,
   "metadata": {},
   "outputs": [
    {
     "data": {
      "text/plain": [
       "[(0, 0, 0, 0), (1, 1, 1, 1), (2, 2, 2, 2), (3, 3, 3, 3), (4, 4, 4, 4)]"
      ]
     },
     "execution_count": 164,
     "metadata": {},
     "output_type": "execute_result"
    }
   ],
   "source": [
    "#zip函数\n",
    "list(zip(range(5), range(5), range(5), range(6)))"
   ]
  },
  {
   "cell_type": "code",
   "execution_count": 165,
   "metadata": {},
   "outputs": [
    {
     "data": {
      "text/plain": [
       "{'a': 2, 'b': 3, 'c': 4, 'd': 5, 'e': 6, 'f': 7, 'g': 8}"
      ]
     },
     "execution_count": 165,
     "metadata": {},
     "output_type": "execute_result"
    }
   ],
   "source": [
    "dict(zip('abcdefg',range(2,10)))"
   ]
  },
  {
   "cell_type": "code",
   "execution_count": 168,
   "metadata": {},
   "outputs": [
    {
     "ename": "ValueError",
     "evalue": "dictionary update sequence element #0 has length 1; 2 is required",
     "output_type": "error",
     "traceback": [
      "\u001b[1;31m---------------------------------------------------------------------------\u001b[0m",
      "\u001b[1;31mValueError\u001b[0m                                Traceback (most recent call last)",
      "\u001b[1;32m<ipython-input-168-d3438015e157>\u001b[0m in \u001b[0;36m<module>\u001b[1;34m\u001b[0m\n\u001b[1;32m----> 1\u001b[1;33m \u001b[0mdict\u001b[0m\u001b[1;33m(\u001b[0m\u001b[0mmap\u001b[0m\u001b[1;33m(\u001b[0m\u001b[1;32mlambda\u001b[0m \u001b[0mx\u001b[0m\u001b[1;33m:\u001b[0m \u001b[1;33m(\u001b[0m\u001b[0mstr\u001b[0m\u001b[1;33m(\u001b[0m\u001b[0mx\u001b[0m\u001b[1;33m[\u001b[0m\u001b[1;36m0\u001b[0m\u001b[1;33m]\u001b[0m\u001b[1;33m)\u001b[0m\u001b[1;33m)\u001b[0m\u001b[1;33m,\u001b[0m \u001b[0mzip\u001b[0m\u001b[1;33m(\u001b[0m\u001b[0mrange\u001b[0m\u001b[1;33m(\u001b[0m\u001b[1;36m10\u001b[0m\u001b[1;33m)\u001b[0m\u001b[1;33m,\u001b[0m\u001b[0mrange\u001b[0m\u001b[1;33m(\u001b[0m\u001b[1;36m10\u001b[0m\u001b[1;33m)\u001b[0m\u001b[1;33m)\u001b[0m\u001b[1;33m)\u001b[0m\u001b[1;33m)\u001b[0m\u001b[1;33m\u001b[0m\u001b[1;33m\u001b[0m\u001b[0m\n\u001b[0m",
      "\u001b[1;31mValueError\u001b[0m: dictionary update sequence element #0 has length 1; 2 is required"
     ]
    }
   ],
   "source": [
    "dict(map(lambda x: (str(x[0])), zip(range(10),range(10))))"
   ]
  },
  {
   "cell_type": "code",
   "execution_count": 169,
   "metadata": {},
   "outputs": [
    {
     "data": {
      "text/plain": [
       "'C:\\\\Users\\\\xxjww\\\\Desktop\\\\python\\\\python\\\\xjwlearn\\\\for_practice_anything'"
      ]
     },
     "execution_count": 169,
     "metadata": {},
     "output_type": "execute_result"
    }
   ],
   "source": [
    "pwd"
   ]
  },
  {
   "cell_type": "code",
   "execution_count": null,
   "metadata": {},
   "outputs": [],
   "source": []
  },
  {
   "cell_type": "code",
   "execution_count": null,
   "metadata": {},
   "outputs": [],
   "source": [
    "In [20]: f = open('test','r')                                          \n",
    "\n",
    "In [21]: x = f.read()                                                  \n",
    "\n",
    "In [22]: len(x)                                                        \n",
    "Out[22]: 4\n",
    "\n"
   ]
  },
  {
   "cell_type": "code",
   "execution_count": null,
   "metadata": {},
   "outputs": [],
   "source": []
  },
  {
   "cell_type": "code",
   "execution_count": null,
   "metadata": {},
   "outputs": [],
   "source": []
  },
  {
   "cell_type": "code",
   "execution_count": null,
   "metadata": {},
   "outputs": [],
   "source": []
  },
  {
   "cell_type": "code",
   "execution_count": null,
   "metadata": {},
   "outputs": [],
   "source": []
  },
  {
   "cell_type": "code",
   "execution_count": null,
   "metadata": {},
   "outputs": [],
   "source": []
  },
  {
   "cell_type": "code",
   "execution_count": null,
   "metadata": {},
   "outputs": [],
   "source": []
  },
  {
   "cell_type": "code",
   "execution_count": null,
   "metadata": {},
   "outputs": [],
   "source": []
  },
  {
   "cell_type": "code",
   "execution_count": null,
   "metadata": {},
   "outputs": [],
   "source": []
  },
  {
   "cell_type": "code",
   "execution_count": null,
   "metadata": {},
   "outputs": [],
   "source": []
  }
 ],
 "metadata": {
  "kernelspec": {
   "display_name": "Python 3",
   "language": "python",
   "name": "python3"
  },
  "language_info": {
   "codemirror_mode": {
    "name": "ipython",
    "version": 3
   },
   "file_extension": ".py",
   "mimetype": "text/x-python",
   "name": "python",
   "nbconvert_exporter": "python",
   "pygments_lexer": "ipython3",
   "version": "3.7.5"
  }
 },
 "nbformat": 4,
 "nbformat_minor": 2
}
