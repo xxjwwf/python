{
 "cells": [
  {
   "cell_type": "code",
   "execution_count": 10,
   "metadata": {
    "scrolled": true
   },
   "outputs": [
    {
     "data": {
      "text/plain": [
       "'\\t'"
      ]
     },
     "execution_count": 10,
     "metadata": {},
     "output_type": "execute_result"
    }
   ],
   "source": [
    "chr(0x9)"
   ]
  },
  {
   "cell_type": "code",
   "execution_count": 19,
   "metadata": {
    "scrolled": false
   },
   "outputs": [
    {
     "name": "stdout",
     "output_type": "stream",
     "text": [
      "True\n"
     ]
    }
   ],
   "source": [
    "print(flag1 is True)"
   ]
  },
  {
   "cell_type": "code",
   "execution_count": 27,
   "metadata": {
    "scrolled": false
   },
   "outputs": [
    {
     "name": "stdout",
     "output_type": "stream",
     "text": [
      "{1: 0, 2: 1, 3: 4, 4: 9, 5: 16, 6: 25, 7: 36, 8: 49, 9: 64, 10: 81}\n"
     ]
    }
   ],
   "source": [
    "print(dict(map((lambda x:(x+1,x**2)),range(10))))"
   ]
  },
  {
   "cell_type": "code",
   "execution_count": 1,
   "metadata": {},
   "outputs": [
    {
     "data": {
      "text/plain": [
       "'/home/python/projects/test369/pythons/xjwlearn/for_practice_anything'"
      ]
     },
     "execution_count": 1,
     "metadata": {},
     "output_type": "execute_result"
    }
   ],
   "source": [
    "pwd"
   ]
  },
  {
   "cell_type": "code",
   "execution_count": 2,
   "metadata": {},
   "outputs": [
    {
     "name": "stdout",
     "output_type": "stream",
     "text": [
      "/home/python/projects/test369/pythons/xjwlearn/for_practice_anything/files\n"
     ]
    }
   ],
   "source": [
    "cd files"
   ]
  },
  {
   "cell_type": "code",
   "execution_count": 58,
   "metadata": {},
   "outputs": [
    {
     "data": {
      "text/plain": [
       "'/tmp'"
      ]
     },
     "execution_count": 58,
     "metadata": {},
     "output_type": "execute_result"
    }
   ],
   "source": [
    "pwd"
   ]
  },
  {
   "cell_type": "code",
   "execution_count": 101,
   "metadata": {},
   "outputs": [
    {
     "name": "stdout",
     "output_type": "stream",
     "text": [
      "/tmp /tmp\n",
      "/home/python /home/python\n"
     ]
    }
   ],
   "source": [
    "p = Path('/magedu/mysql/install/mysql.tar.gz')\n",
    "print(p.cwd(), Path.cwd())\n",
    "print(p.home(), Path.home())"
   ]
  },
  {
   "cell_type": "code",
   "execution_count": 99,
   "metadata": {},
   "outputs": [
    {
     "ename": "FileNotFoundError",
     "evalue": "[Errno 2] No such file or directory: 'sample.txt'",
     "output_type": "error",
     "traceback": [
      "\u001b[0;31m---------------------------------------------------------------------------\u001b[0m",
      "\u001b[0;31mFileNotFoundError\u001b[0m                         Traceback (most recent call last)",
      "\u001b[0;32m<ipython-input-99-f9e9dbc3724c>\u001b[0m in \u001b[0;36m<module>\u001b[0;34m\u001b[0m\n\u001b[1;32m      3\u001b[0m \u001b[0;32mimport\u001b[0m \u001b[0mre\u001b[0m\u001b[0;34m\u001b[0m\u001b[0;34m\u001b[0m\u001b[0m\n\u001b[1;32m      4\u001b[0m \u001b[0;34m\u001b[0m\u001b[0m\n\u001b[0;32m----> 5\u001b[0;31m \u001b[0;32mwith\u001b[0m \u001b[0mopen\u001b[0m\u001b[0;34m(\u001b[0m\u001b[0;34m'sample.txt'\u001b[0m\u001b[0;34m)\u001b[0m \u001b[0;32mas\u001b[0m \u001b[0mS\u001b[0m\u001b[0;34m:\u001b[0m\u001b[0;34m\u001b[0m\u001b[0;34m\u001b[0m\u001b[0m\n\u001b[0m\u001b[1;32m      6\u001b[0m     \u001b[0mword_dict\u001b[0m\u001b[0;34m=\u001b[0m\u001b[0;34m{\u001b[0m\u001b[0;34m}\u001b[0m\u001b[0;34m\u001b[0m\u001b[0;34m\u001b[0m\u001b[0m\n\u001b[1;32m      7\u001b[0m     \u001b[0;32mfor\u001b[0m \u001b[0mline\u001b[0m \u001b[0;32min\u001b[0m \u001b[0mS\u001b[0m\u001b[0;34m:\u001b[0m\u001b[0;34m\u001b[0m\u001b[0;34m\u001b[0m\u001b[0m\n",
      "\u001b[0;31mFileNotFoundError\u001b[0m: [Errno 2] No such file or directory: 'sample.txt'"
     ]
    }
   ],
   "source": [
    "import time\n",
    "import datetime\n",
    "import re\n",
    "\n",
    "with open('sample.txt') as S:\n",
    "    word_dict={}\n",
    "    for line in S:\n",
    "        pattern = re.compile(r\"[a-z]*\", re.I) #定义匹配表达式，忽略大小写\n",
    "        word_list = pattern.findall(line)\n",
    "        for word in word_list:\n",
    "            if word not in word_dict:\n",
    "                word_dict[word] = 1\n",
    "            else:\n",
    "                word_dict[word] +=1\n",
    "    word_dict.pop('') #去除空字符\n",
    "    sort_list = list(sorted(word_dict.items(), key=lambda x:x[1],reverse=True))\n",
    "    print(sort_list[0:10])"
   ]
  },
  {
   "cell_type": "code",
   "execution_count": 182,
   "metadata": {
    "scrolled": true
   },
   "outputs": [
    {
     "name": "stdout",
     "output_type": "stream",
     "text": [
      "work_dir = /tmp\n"
     ]
    },
    {
     "data": {
      "text/plain": [
       "'/tmp/dst/'"
      ]
     },
     "execution_count": 182,
     "metadata": {},
     "output_type": "execute_result"
    }
   ],
   "source": [
    "import os\n",
    "from os import path\n",
    "from pathlib import Path\n",
    "import random\n",
    "import shutil\n",
    "\n",
    "x=1\n",
    "while x==1: #初始化一个工作目录\n",
    "    work_dir = input('work_dir = ')\n",
    "    if not work_dir.startswith('/'):\n",
    "        print('you should input a complete directory')\n",
    "    elif path.exists(work_dir):\n",
    "        os.chdir(work_dir)\n",
    "        break\n",
    "    else:\n",
    "        os.mkdir(work_dir)\n",
    "        os.chdir(work_dir)\n",
    "home=Path(work_dir)\n",
    "p = Path('a/b/c/d')\n",
    "p.mkdir(mode=0o700, parents=True, exist_ok=True)\n",
    "file_set=set()\n",
    "\n",
    "while len(file_set)<200: #先建立200个文件，使用集合平均分发到4个目录\n",
    "    file_set.add(''.join(random.sample('abcdefghijklmnopqrstuvwxyz', 4)))  \n",
    "for _ in range(50):\n",
    "    (p / file_set.pop()).touch()\n",
    "for dir in p.parents:\n",
    "    for _ in range(50):\n",
    "        if len(file_set) <= 0:\n",
    "            break\n",
    "        else:\n",
    "            (dir / file_set.pop()).touch()\n",
    "            \n",
    "def ignore(src, names):\n",
    "    ig = filter(lambda x: not x.startswith(('x','y','z')), names) # 只要x,y,z开头的\n",
    "    return set(ig)\n",
    "shutil.copytree('/tmp/a/','/tmp/dst/',ignore=ignore)\n",
    "        "
   ]
  },
  {
   "cell_type": "code",
   "execution_count": 151,
   "metadata": {},
   "outputs": [
    {
     "name": "stdout",
     "output_type": "stream",
     "text": [
      "/tmp/a/b/c\n",
      "/tmp/a/b\n",
      "/tmp/a\n",
      "/tmp\n",
      "/\n"
     ]
    }
   ],
   "source": [
    "p=Path('/tmp/a/b/c/d/')\n",
    "for x in p.parents:\n",
    "    print(x)"
   ]
  },
  {
   "cell_type": "code",
   "execution_count": null,
   "metadata": {},
   "outputs": [],
   "source": [
    "touch()?"
   ]
  },
  {
   "cell_type": "code",
   "execution_count": null,
   "metadata": {},
   "outputs": [],
   "source": []
  }
 ],
 "metadata": {
  "kernelspec": {
   "display_name": "Python 3",
   "language": "python",
   "name": "python3"
  },
  "language_info": {
   "codemirror_mode": {
    "name": "ipython",
    "version": 3
   },
   "file_extension": ".py",
   "mimetype": "text/x-python",
   "name": "python",
   "nbconvert_exporter": "python",
   "pygments_lexer": "ipython3",
   "version": "3.6.9"
  }
 },
 "nbformat": 4,
 "nbformat_minor": 2
}
