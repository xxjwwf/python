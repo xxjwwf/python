{
 "cells": [
  {
   "cell_type": "code",
   "execution_count": 1,
   "metadata": {},
   "outputs": [
    {
     "name": "stdout",
     "output_type": "stream",
     "text": [
      "inner 65\n",
      "A\n",
      "outer 65\n"
     ]
    }
   ],
   "source": [
    "def outer1(): #\n",
    "    o = 65\n",
    "    def inner():\n",
    "        print(\"inner {}\".format(o))\n",
    "        print(chr(o))\n",
    "    \n",
    "    inner()\n",
    "    print(\"outer {}\".format(o))\n",
    "outer1() "
   ]
  },
  {
   "cell_type": "code",
   "execution_count": 2,
   "metadata": {},
   "outputs": [
    {
     "name": "stdout",
     "output_type": "stream",
     "text": [
      "inner 97\n",
      "a\n",
      "outer 65\n"
     ]
    }
   ],
   "source": [
    "def outer2(): #\n",
    "    o = 65\n",
    "    def inner():\n",
    "        o = 97\n",
    "        print(\"inner {}\".format(o))\n",
    "        print(chr(o)) \n",
    "    \n",
    "    inner()\n",
    "    print(\"outer {}\".format(o))\n",
    "outer2() #"
   ]
  },
  {
   "cell_type": "code",
<<<<<<< HEAD
   "execution_count": 5,
   "metadata": {},
   "outputs": [
    {
     "ename": "UnboundLocalError",
     "evalue": "local variable 'x' referenced before assignment",
     "output_type": "error",
     "traceback": [
      "\u001b[0;31m---------------------------------------------------------------------------\u001b[0m",
      "\u001b[0;31mUnboundLocalError\u001b[0m                         Traceback (most recent call last)",
      "\u001b[0;32m<ipython-input-5-af72b677ed7b>\u001b[0m in \u001b[0;36m<module>\u001b[0;34m\u001b[0m\n\u001b[1;32m      5\u001b[0m \u001b[0;34m\u001b[0m\u001b[0m\n\u001b[1;32m      6\u001b[0m     \u001b[0mprint\u001b[0m\u001b[0;34m(\u001b[0m\u001b[0mx\u001b[0m\u001b[0;34m)\u001b[0m\u001b[0;34m\u001b[0m\u001b[0;34m\u001b[0m\u001b[0m\n\u001b[0;32m----> 7\u001b[0;31m \u001b[0mfoo\u001b[0m\u001b[0;34m(\u001b[0m\u001b[0;34m)\u001b[0m\u001b[0;34m\u001b[0m\u001b[0;34m\u001b[0m\u001b[0m\n\u001b[0m",
      "\u001b[0;32m<ipython-input-5-af72b677ed7b>\u001b[0m in \u001b[0;36mfoo\u001b[0;34m()\u001b[0m\n\u001b[1;32m      1\u001b[0m \u001b[0mx\u001b[0m \u001b[0;34m=\u001b[0m \u001b[0;36m5\u001b[0m\u001b[0;34m\u001b[0m\u001b[0;34m\u001b[0m\u001b[0m\n\u001b[1;32m      2\u001b[0m \u001b[0;32mdef\u001b[0m \u001b[0mfoo\u001b[0m\u001b[0;34m(\u001b[0m\u001b[0;34m)\u001b[0m\u001b[0;34m:\u001b[0m\u001b[0;34m\u001b[0m\u001b[0;34m\u001b[0m\u001b[0m\n\u001b[0;32m----> 3\u001b[0;31m     \u001b[0my\u001b[0m \u001b[0;34m=\u001b[0m \u001b[0mx\u001b[0m \u001b[0;34m+\u001b[0m \u001b[0;36m1\u001b[0m \u001b[0;31m# 报错吗\u001b[0m\u001b[0;34m\u001b[0m\u001b[0;34m\u001b[0m\u001b[0m\n\u001b[0m\u001b[1;32m      4\u001b[0m     \u001b[0mx\u001b[0m \u001b[0;34m+=\u001b[0m \u001b[0;36m1\u001b[0m \u001b[0;31m# 打开这一句报错吗？为什么？换成x = 1行\u001b[0m\u001b[0;34m\u001b[0m\u001b[0;34m\u001b[0m\u001b[0m\n\u001b[1;32m      5\u001b[0m \u001b[0;34m\u001b[0m\u001b[0m\n",
      "\u001b[0;31mUnboundLocalError\u001b[0m: local variable 'x' referenced before assignment"
=======
   "execution_count": 6,
   "metadata": {},
   "outputs": [
    {
     "name": "stdout",
     "output_type": "stream",
     "text": [
      "5\n"
>>>>>>> 0e970721f2e51c37870041440a0bd142dbbcd893
     ]
    }
   ],
   "source": [
    "x = 5\n",
    "def foo():\n",
    "    y = x + 1 # 报错吗\n",
    "    #x += 1 # 打开这一句报错，换成x = 1行,赋值即定义，x=x+1,此语句表示将要本地定义变量x，因为赋值语句先要计算右边，所以先要引用x，\n",
    "    #而本地并没有定义x，因此会报错\n",
<<<<<<< HEAD
    "\n",
=======
>>>>>>> 0e970721f2e51c37870041440a0bd142dbbcd893
    "    print(x)\n",
    "foo()"
   ]
  },
  {
   "cell_type": "code",
<<<<<<< HEAD
   "execution_count": 1,
   "metadata": {},
   "outputs": [
    {
     "data": {
      "text/plain": [
       "12"
      ]
     },
     "execution_count": 1,
     "metadata": {},
     "output_type": "execute_result"
    }
   ],
   "source": [
    "def gcd(x, y):\n",
    "    \"\"\"求最大公约数\"\"\"\n",
    "    (x, y) = (y, x) if x > y else (x, y)\n",
    "    for factor in range(x, 0, -1):\n",
    "        if x % factor == 0 and y % factor == 0:\n",
    "            return factor\n",
    "gcd(12,120)"
=======
   "execution_count": 8,
   "metadata": {},
   "outputs": [
    {
     "name": "stdout",
     "output_type": "stream",
     "text": [
      "6\n"
     ]
    }
   ],
   "source": [
    "x = 5\n",
    "def foo():\n",
    "    global x # 全局变量\n",
    "    x += 1\n",
    "    print(x)\n",
    "foo()"
>>>>>>> 0e970721f2e51c37870041440a0bd142dbbcd893
   ]
  },
  {
   "cell_type": "code",
<<<<<<< HEAD
   "execution_count": 3,
   "metadata": {},
   "outputs": [
    {
     "data": {
      "text/plain": [
       "120"
      ]
     },
     "execution_count": 3,
     "metadata": {},
     "output_type": "execute_result"
    }
   ],
   "source": [
    "def lcm(x, y):\n",
    "    \"\"\"求最小公倍数\"\"\"\n",
    "    return x * y // gcd(x, y)\n",
    "lcm(12,120)"
=======
   "execution_count": 20,
   "metadata": {},
   "outputs": [
    {
     "ename": "NameError",
     "evalue": "name 'x' is not defined",
     "output_type": "error",
     "traceback": [
      "\u001b[0;31m---------------------------------------------------------------------------\u001b[0m",
      "\u001b[0;31mNameError\u001b[0m                                 Traceback (most recent call last)",
      "\u001b[0;32m<ipython-input-20-3984eb09ae28>\u001b[0m in \u001b[0;36m<module>\u001b[0;34m\u001b[0m\n\u001b[1;32m      4\u001b[0m     \u001b[0mx\u001b[0m \u001b[0;34m+=\u001b[0m \u001b[0;36m1\u001b[0m\u001b[0;34m\u001b[0m\u001b[0;34m\u001b[0m\u001b[0m\n\u001b[1;32m      5\u001b[0m     \u001b[0mprint\u001b[0m\u001b[0;34m(\u001b[0m\u001b[0mx\u001b[0m\u001b[0;34m)\u001b[0m\u001b[0;34m\u001b[0m\u001b[0;34m\u001b[0m\u001b[0m\n\u001b[0;32m----> 6\u001b[0;31m \u001b[0mfoo\u001b[0m\u001b[0;34m(\u001b[0m\u001b[0;34m)\u001b[0m\u001b[0;34m\u001b[0m\u001b[0;34m\u001b[0m\u001b[0m\n\u001b[0m",
      "\u001b[0;32m<ipython-input-20-3984eb09ae28>\u001b[0m in \u001b[0;36mfoo\u001b[0;34m()\u001b[0m\n\u001b[1;32m      2\u001b[0m \u001b[0;32mdef\u001b[0m \u001b[0mfoo\u001b[0m\u001b[0;34m(\u001b[0m\u001b[0;34m)\u001b[0m\u001b[0;34m:\u001b[0m\u001b[0;34m\u001b[0m\u001b[0;34m\u001b[0m\u001b[0m\n\u001b[1;32m      3\u001b[0m     \u001b[0;32mglobal\u001b[0m \u001b[0mx\u001b[0m\u001b[0;34m\u001b[0m\u001b[0;34m\u001b[0m\u001b[0m\n\u001b[0;32m----> 4\u001b[0;31m     \u001b[0mx\u001b[0m \u001b[0;34m+=\u001b[0m \u001b[0;36m1\u001b[0m\u001b[0;34m\u001b[0m\u001b[0;34m\u001b[0m\u001b[0m\n\u001b[0m\u001b[1;32m      5\u001b[0m     \u001b[0mprint\u001b[0m\u001b[0;34m(\u001b[0m\u001b[0mx\u001b[0m\u001b[0;34m)\u001b[0m\u001b[0;34m\u001b[0m\u001b[0;34m\u001b[0m\u001b[0m\n\u001b[1;32m      6\u001b[0m \u001b[0mfoo\u001b[0m\u001b[0;34m(\u001b[0m\u001b[0;34m)\u001b[0m\u001b[0;34m\u001b[0m\u001b[0;34m\u001b[0m\u001b[0m\n",
      "\u001b[0;31mNameError\u001b[0m: name 'x' is not defined"
     ]
    }
   ],
   "source": [
    "del x\n",
    "def foo():\n",
    "    global x\n",
    "    x += 1\n",
    "    print(x)\n",
    "foo()"
>>>>>>> 0e970721f2e51c37870041440a0bd142dbbcd893
   ]
  },
  {
   "cell_type": "code",
<<<<<<< HEAD
   "execution_count": 7,
   "metadata": {},
   "outputs": [
    {
     "data": {
      "text/plain": [
       "True"
      ]
     },
     "execution_count": 7,
     "metadata": {},
     "output_type": "execute_result"
    }
   ],
   "source": [
    "def is_plain(num):\n",
    "    temp=num\n",
    "    total=0\n",
    "    while temp >0:\n",
    "        total=total*10+temp%10\n",
    "        temp //= 10\n",
    "    return num == total\n",
    "\n",
    "is_plain(1220221)"
=======
   "execution_count": 13,
   "metadata": {},
   "outputs": [
    {
     "name": "stdout",
     "output_type": "stream",
     "text": [
      "1 2\n"
     ]
    }
   ],
   "source": [
    "def outer():\n",
    "    x=[0]\n",
    "    def inner():\n",
    "        x[0]+=1\n",
    "        return x[0]\n",
    "    return inner\n",
    "a = outer()\n",
    "print(a(),a())"
   ]
  },
  {
   "cell_type": "code",
   "execution_count": 14,
   "metadata": {},
   "outputs": [
    {
     "name": "stdout",
     "output_type": "stream",
     "text": [
      "1 2\n",
      "101\n"
     ]
    }
   ],
   "source": [
    "def counter():\n",
    "    global count\n",
    "    count = 0\n",
    "    def inc():\n",
    "        global count\n",
    "        count += 1\n",
    "        return count\n",
    "    return inc\n",
    "foo = counter()\n",
    "print(foo(), foo())\n",
    "count = 100\n",
    "print(foo())"
   ]
  },
  {
   "cell_type": "code",
   "execution_count": 15,
   "metadata": {},
   "outputs": [
    {
     "name": "stdout",
     "output_type": "stream",
     "text": [
      "1\n",
      "1\n"
     ]
    },
    {
     "ename": "NameError",
     "evalue": "name 'xyz' is not defined",
     "output_type": "error",
     "traceback": [
      "\u001b[0;31m---------------------------------------------------------------------------\u001b[0m",
      "\u001b[0;31mNameError\u001b[0m                                 Traceback (most recent call last)",
      "\u001b[0;32m<ipython-input-15-b32fbf17e248>\u001b[0m in \u001b[0;36m<module>\u001b[0;34m\u001b[0m\n\u001b[1;32m      3\u001b[0m \u001b[0mfoo\u001b[0m\u001b[0;34m(\u001b[0m\u001b[0;34m)\u001b[0m \u001b[0;31m# 打印什么？\u001b[0m\u001b[0;34m\u001b[0m\u001b[0;34m\u001b[0m\u001b[0m\n\u001b[1;32m      4\u001b[0m \u001b[0mfoo\u001b[0m\u001b[0;34m(\u001b[0m\u001b[0;34m)\u001b[0m \u001b[0;31m# 打印什么？\u001b[0m\u001b[0;34m\u001b[0m\u001b[0;34m\u001b[0m\u001b[0m\n\u001b[0;32m----> 5\u001b[0;31m \u001b[0mprint\u001b[0m\u001b[0;34m(\u001b[0m\u001b[0mxyz\u001b[0m\u001b[0;34m)\u001b[0m \u001b[0;31m# 打印什么？说明什么\u001b[0m\u001b[0;34m\u001b[0m\u001b[0;34m\u001b[0m\u001b[0m\n\u001b[0m",
      "\u001b[0;31mNameError\u001b[0m: name 'xyz' is not defined"
     ]
    }
   ],
   "source": [
    "def foo(xyz=1):\n",
    "    print(xyz)\n",
    "foo() # 打印什么？\n",
    "foo() # 打印什么？\n",
    "print(xyz) # 打印什么？说明什么"
   ]
  },
  {
   "cell_type": "code",
   "execution_count": 16,
   "metadata": {},
   "outputs": [
    {
     "name": "stdout",
     "output_type": "stream",
     "text": [
      "[1]\n",
      "[1, 1]\n"
     ]
    },
    {
     "ename": "NameError",
     "evalue": "name 'xyz' is not defined",
     "output_type": "error",
     "traceback": [
      "\u001b[0;31m---------------------------------------------------------------------------\u001b[0m",
      "\u001b[0;31mNameError\u001b[0m                                 Traceback (most recent call last)",
      "\u001b[0;32m<ipython-input-16-36c9d833b885>\u001b[0m in \u001b[0;36m<module>\u001b[0;34m\u001b[0m\n\u001b[1;32m      4\u001b[0m \u001b[0mfoo\u001b[0m\u001b[0;34m(\u001b[0m\u001b[0;34m)\u001b[0m \u001b[0;31m# 打印什么？\u001b[0m\u001b[0;34m\u001b[0m\u001b[0;34m\u001b[0m\u001b[0m\n\u001b[1;32m      5\u001b[0m \u001b[0mfoo\u001b[0m\u001b[0;34m(\u001b[0m\u001b[0;34m)\u001b[0m \u001b[0;31m# 打印什么？\u001b[0m\u001b[0;34m\u001b[0m\u001b[0;34m\u001b[0m\u001b[0m\n\u001b[0;32m----> 6\u001b[0;31m \u001b[0mprint\u001b[0m\u001b[0;34m(\u001b[0m\u001b[0mxyz\u001b[0m\u001b[0;34m)\u001b[0m \u001b[0;31m# 打印什么？说明什么\u001b[0m\u001b[0;34m\u001b[0m\u001b[0;34m\u001b[0m\u001b[0m\n\u001b[0m",
      "\u001b[0;31mNameError\u001b[0m: name 'xyz' is not defined"
     ]
    }
   ],
   "source": [
    "def foo(xyz=[]):\n",
    "    xyz.append(1)\n",
    "    print(xyz)\n",
    "foo() # 打印什么？\n",
    "foo() # 打印什么？\n",
    "print(xyz) # 打印什么？说明什么"
>>>>>>> 0e970721f2e51c37870041440a0bd142dbbcd893
   ]
  },
  {
   "cell_type": "code",
<<<<<<< HEAD
   "execution_count": 45,
=======
   "execution_count": 17,
>>>>>>> 0e970721f2e51c37870041440a0bd142dbbcd893
   "metadata": {},
   "outputs": [
    {
     "name": "stdout",
     "output_type": "stream",
     "text": [
<<<<<<< HEAD
      "1.12 µs ± 13.8 ns per loop (mean ± std. dev. of 7 runs, 1000000 loops each)\n"
=======
      "([],)\n",
      "([5, 5],)\n",
      "([],)\n",
      "([],)\n"
>>>>>>> 0e970721f2e51c37870041440a0bd142dbbcd893
     ]
    }
   ],
   "source": [
<<<<<<< HEAD
    "%%timeit\n",
    "\n",
    "def is_prime(num):\n",
    "    \"\"\"判断是否是质数\"\"\"  \n",
    "    for i in range(2,num):\n",
    "        temp=int(i**0.5)\n",
    "        for factor in range(2,temp+1):\n",
    "            if i%factor == 0:\n",
    "                break\n",
    "            elif i%factor !=0:\n",
    "                continue\n",
    "        else:\n",
    "            return True\n",
    "            \n",
    "                \n",
    "        \n",
    "        \n",
    "is_prime(1000)"
=======
    "def x(a=[]):\n",
    "    a += [5]\n",
    "print(x.__defaults__)\n",
    "x()\n",
    "x()\n",
    "print(x.__defaults__)\n",
    "\n",
    "def y(a=[]):\n",
    "    a = a + [5]\n",
    "print(y.__defaults__)\n",
    "y()\n",
    "y()\n",
    "print(y.__defaults__)"
   ]
  },
  {
   "cell_type": "code",
   "execution_count": 19,
   "metadata": {},
   "outputs": [
    {
     "name": "stdout",
     "output_type": "stream",
     "text": [
      "2 1\n",
      "3 3\n",
      "4 5\n",
      "5 7\n",
      "6 9\n",
      "\n"
     ]
    }
   ],
   "source": [
    "lst = [1, 3, 5, 7, 9]\n",
    "it = iter(lst) \n",
    "for i, x in enumerate(it, 2):\n",
    "    print(i, x)\n",
    "#print(next(it)) # StopIteration\n",
    "print()"
   ]
  },
  {
   "cell_type": "code",
   "execution_count": 20,
   "metadata": {},
   "outputs": [],
   "source": [
    "lst = [1, 3, 5, 7, 9]\n",
    "it = iter(lst) # 返回一个迭代器对象\n",
    "print(next(it))\n",
    "print(next(it))"
   ]
  },
  {
   "cell_type": "code",
   "execution_count": 54,
   "metadata": {},
   "outputs": [
    {
     "name": "stdout",
     "output_type": "stream",
     "text": [
      "{11: 3, 4: 2, 6: 1, 8: 1, 9: 1, 3: 2}\n",
      "[(11, 3), (4, 2), (3, 2), (6, 1), (8, 1), (9, 1)]\n"
     ]
    }
   ],
   "source": [
    "import random\n",
    "def get_num(num):\n",
    "    D1={}\n",
    "    for _ in range(num):\n",
    "        n=random.randint(1,11)\n",
    "        if n not in D1:\n",
    "            D1[n]=1\n",
    "        else:\n",
    "            D1[n]+=1\n",
    "    return D1\n",
    "\n",
    "def sort_dict(D1):\n",
    "    print(D1)\n",
    "    temp={}\n",
    "    for k, v in D1.items():\n",
    "        temp.setdefault(v,[])\n",
    "        temp[v].append(k)\n",
    "    resv=[(k,v) for v in sorted(temp,reverse=True) for k in temp[v]]\n",
    "    print(resv)\n",
    "\n",
    "sort_dict(get_num(10))"
>>>>>>> 0e970721f2e51c37870041440a0bd142dbbcd893
   ]
  },
  {
   "cell_type": "code",
<<<<<<< HEAD
   "execution_count": 43,
   "metadata": {},
   "outputs": [
    {
     "name": "stderr",
     "output_type": "stream",
     "text": [
      "UsageError: Line magic function `%%timeit` not found.\n"
=======
   "execution_count": 36,
   "metadata": {},
   "outputs": [
    {
     "name": "stdout",
     "output_type": "stream",
     "text": [
      "12 2\n",
      "{2: [12]}\n",
      "13 2\n",
      "{2: [12, 13]}\n",
      "14 1\n",
      "{2: [12, 13], 1: [14]}\n",
      "15 3\n",
      "{2: [12, 13], 1: [14], 3: [15]}\n",
      "[(15, 3), (12, 2), (13, 2)]\n"
>>>>>>> 0e970721f2e51c37870041440a0bd142dbbcd893
     ]
    }
   ],
   "source": [
<<<<<<< HEAD
    "%%timeit\n",
    "#使用筛法来过滤出质数\n",
    "n = 1000\n",
    "sum = 0\n",
    "prime = []\n",
    "for i in range(n+1):\n",
    "    prime.append(True)\n",
    "for i in range(2,n+1):\n",
    "    if prime[i]:\n",
    "        j = i+i\n",
    "        while j<= n:\n",
    "            prime[j] = False\n",
    "            j += i"
=======
    "\n",
    "num_count={12:2,13:2,14:1,15:3}\n",
    "d_temp={}\n",
    "for k, v in num_count.items():\n",
    "    print(k,v)\n",
    "    d_temp.setdefault(v, [])\n",
    "    d_temp[v].append(k)\n",
    "    print(d_temp)\n",
    "res1 = [(k, v) for v in sorted(d_temp, reverse=True) for k in d_temp[v]]\n",
    "print(res1[:3])"
>>>>>>> 0e970721f2e51c37870041440a0bd142dbbcd893
   ]
  },
  {
   "cell_type": "code",
<<<<<<< HEAD
   "execution_count": 44,
   "metadata": {},
   "outputs": [
    {
     "data": {
      "text/plain": [
       "False"
      ]
     },
     "execution_count": 44,
     "metadata": {},
     "output_type": "execute_result"
    }
   ],
   "source": [
    "def is_prime(num):\n",
    "    \"\"\"判断一个数是不是素数\"\"\"\n",
    "    for factor in range(2, num):\n",
    "        if num % factor == 0:\n",
    "            return False\n",
    "    return True if num != 1 else False\n",
    "\n",
    "is_prime(12)"
=======
   "execution_count": 10,
   "metadata": {},
   "outputs": [
    {
     "name": "stdout",
     "output_type": "stream",
     "text": [
      "随机数个数为：10\n",
      "随机数范围是0~？：10\n",
      "{6: 1, 10: 1, 2: 1, 3: 1, 8: 1, 0: 1, 4: 1, 5: 1, 1: 2}\n",
      "[(1, 2), (6, 1), (10, 1), (2, 1), (3, 1), (8, 1), (0, 1), (4, 1), (5, 1)]\n"
     ]
    }
   ],
   "source": [
    "import random\n",
    "def get_num(m,n):\n",
    "    num_dict={}\n",
    "    for _ in range(m):\n",
    "        num=random.randint(0,n)\n",
    "        if num not in num_dict:\n",
    "            num_dict[num] = 1  #第一次添加至字典的元素，设置重复次数为1\n",
    "    else:\n",
    "        num_dict[num]+=1  #后续重复的逐步加1\n",
    "    return num_dict \n",
    "\n",
    "def sort_dict(D1):\n",
    "    temp={}\n",
    "    for k, v in D1.items():\n",
    "        temp.setdefault(v,[])\n",
    "        temp[v].append(k)\n",
    "    resv=[(k,v) for v in sorted(temp,reverse=True) for k in temp[v]]\n",
    "    print(resv)\n",
    "\n",
    "m=int(input('随机数个数为：'))\n",
    "n=int(input('随机数范围是0~？：'))\n",
    "sort_dict(get_num(m,n))"
   ]
  },
  {
   "cell_type": "code",
   "execution_count": 18,
   "metadata": {},
   "outputs": [
    {
     "name": "stdout",
     "output_type": "stream",
     "text": [
      "{6: 1, 10: 1, 2: 1, 3: 1, 8: 1, 0: 1, 4: 1, 5: 1, 1: 2}\n",
      "[(1, 2), (6, 1), (10, 1), (2, 1), (3, 1), (8, 1), (0, 1), (4, 1), (5, 1)]\n"
     ]
    }
   ],
   "source": [
    "num_dict={6: 1, 10: 1, 2: 1, 3: 1, 8: 1, 0: 1, 4: 1, 5: 1, 1: 2}\n",
    "print(num_dict)\n",
    "resv=sorted(num_dict.items(),key=lambda num_dict:num_dict[1],reverse=True)\n",
    "print(resv)"
>>>>>>> 0e970721f2e51c37870041440a0bd142dbbcd893
   ]
  },
  {
   "cell_type": "code",
   "execution_count": null,
   "metadata": {},
   "outputs": [],
<<<<<<< HEAD
   "source": []
=======
   "source": [
    "#求质数\n"
   ]
>>>>>>> 0e970721f2e51c37870041440a0bd142dbbcd893
  },
  {
   "cell_type": "code",
   "execution_count": null,
   "metadata": {},
   "outputs": [],
   "source": []
  }
 ],
 "metadata": {
  "kernelspec": {
   "display_name": "Python 3",
   "language": "python",
   "name": "python3"
  },
  "language_info": {
   "codemirror_mode": {
    "name": "ipython",
    "version": 3
   },
   "file_extension": ".py",
   "mimetype": "text/x-python",
   "name": "python",
   "nbconvert_exporter": "python",
   "pygments_lexer": "ipython3",
<<<<<<< HEAD
   "version": "3.7.5"
=======
   "version": "3.6.9"
>>>>>>> 0e970721f2e51c37870041440a0bd142dbbcd893
  }
 },
 "nbformat": 4,
 "nbformat_minor": 2
}
