{
 "cells": [
  {
   "cell_type": "code",
   "execution_count": 6,
   "metadata": {},
   "outputs": [
    {
     "name": "stdout",
     "output_type": "stream",
     "text": [
      "[1, 1, 2, 3, 5, 8, 13, 21, 34, 55]\n"
     ]
    }
   ],
   "source": [
    "a = [1, 1]\n",
    "for i in range(2,10):\n",
    "#     a += [a[i-2] + a[i-1]] #建议使用下面的方式，此方式会产生新列表表\n",
    "    a.append(a[i-2]+a[i-1])\n",
    "print(a)"
   ]
  },
  {
   "cell_type": "code",
   "execution_count": 10,
   "metadata": {},
   "outputs": [
    {
     "name": "stdout",
     "output_type": "stream",
     "text": [
      "[1, 1, 1]\n"
     ]
    }
   ],
   "source": [
    "L1 = [1]\n",
    "L2 = list(L1*3)\n",
    "print(L2)"
   ]
  },
  {
   "cell_type": "code",
   "execution_count": 15,
   "metadata": {},
   "outputs": [
    {
     "data": {
      "text/plain": [
       "[[0, 0, 0], [0, 0, 0], [0, 0, 0], [0, 0, 0], [0, 0, 0]]"
      ]
     },
     "execution_count": 15,
     "metadata": {},
     "output_type": "execute_result"
    }
   ],
   "source": [
    "[[0] * 3 for i in range(5)]\n",
    "# L1[0][1] = 123\n",
    "# print(L1)"
   ]
  },
  {
   "cell_type": "code",
   "execution_count": 22,
   "metadata": {},
   "outputs": [
    {
     "name": "stdout",
     "output_type": "stream",
     "text": [
      "True\n",
      "140113043499080 140113043499976\n",
      "[1, 2, [2, 99, 4, 'a'], 5] [1, 2, [2, 99, 4, 'a'], 5]\n",
      "140113043499080\n",
      "140113043499976\n"
     ]
    }
   ],
   "source": [
    ">>> a = [1,2,[2,3,4,'a'],5]\n",
    ">>> b=a.copy()\n",
    ">>> print(a==b)  ##b从a列表copy后两个列表是等价的\n",
    ">>> print(id(a), id(b))\n",
    ">>> a[2][1] = 99\n",
    ">>> print(a, b)\n",
    ">>> print(id(a))\n",
    ">>> print(id(b))"
   ]
  },
  {
   "cell_type": "code",
   "execution_count": 18,
   "metadata": {},
   "outputs": [
    {
     "name": "stdout",
     "output_type": "stream",
     "text": [
      "140113043043144 140113043499720 140113043043144\n"
     ]
    }
   ],
   "source": [
    "a = [1,2]\n",
    "b = a.copy()\n",
    "c = a\n",
    "print(id(a), id(b), id(c))"
   ]
  },
  {
   "cell_type": "code",
   "execution_count": 28,
   "metadata": {},
   "outputs": [
    {
     "data": {
      "text/plain": [
       "7"
      ]
     },
     "execution_count": 28,
     "metadata": {},
     "output_type": "execute_result"
    }
   ],
   "source": [
    "def logger(fn):\n",
    "    def wrapper(*kargs, **kwargs):\n",
    "        ret = fn(*kargs, **kwargs)\n",
    "        return ret\n",
    "    return wrapper\n",
    "\n",
    "# @logger\n",
    "def add(x, y):\n",
    "    return x + y\n",
    "\n",
    "x = logger(add)\n",
    "x(3, 4)"
   ]
  },
  {
   "cell_type": "code",
   "execution_count": 1,
   "metadata": {},
   "outputs": [
    {
     "data": {
      "text/plain": [
       "4"
      ]
     },
     "execution_count": 1,
     "metadata": {},
     "output_type": "execute_result"
    }
   ],
   "source": [
    "f = open('./files/test.txt', 'a')\n",
    "f.write('啊abc')"
   ]
  },
  {
   "cell_type": "code",
   "execution_count": 2,
   "metadata": {},
   "outputs": [],
   "source": [
    "f.close()"
   ]
  },
  {
   "cell_type": "code",
   "execution_count": 4,
   "metadata": {},
   "outputs": [
    {
     "name": "stdout",
     "output_type": "stream",
     "text": [
      "啊abc"
     ]
    }
   ],
   "source": [
    "cat ./files/test.txt"
   ]
  },
  {
   "cell_type": "code",
   "execution_count": 5,
   "metadata": {},
   "outputs": [
    {
     "data": {
      "text/plain": [
       "'啊abc'"
      ]
     },
     "execution_count": 5,
     "metadata": {},
     "output_type": "execute_result"
    }
   ],
   "source": [
    "f1 = open('./files/test.txt', 'r')\n",
    "f1.read()"
   ]
  },
  {
   "cell_type": "code",
   "execution_count": 8,
   "metadata": {},
   "outputs": [
    {
     "name": "stdout",
     "output_type": "stream",
     "text": [
      "3\n"
     ]
    },
    {
     "data": {
      "text/plain": [
       "b''"
      ]
     },
     "execution_count": 8,
     "metadata": {},
     "output_type": "execute_result"
    }
   ],
   "source": [
    "f = open('./files/test.txt', 'wb+')\n",
    "f.write(b'abc')\n",
    "print(f.tell())# 显示文件指针当前所在\n"
   ]
  },
  {
   "cell_type": "code",
   "execution_count": 11,
   "metadata": {},
   "outputs": [
    {
     "data": {
      "text/plain": [
       "b'abc'"
      ]
     },
     "execution_count": 11,
     "metadata": {},
     "output_type": "execute_result"
    }
   ],
   "source": [
    ">>> f.close()\n",
    ">>> f = open('./files/test.txt', 'rb+')\n",
    ">>> f.read()"
   ]
  },
  {
   "cell_type": "code",
   "execution_count": 14,
   "metadata": {},
   "outputs": [
    {
     "data": {
      "text/plain": [
       "'啊'"
      ]
     },
     "execution_count": 14,
     "metadata": {},
     "output_type": "execute_result"
    }
   ],
   "source": [
    "f = open('./files/test.txt', 'rt+')\n",
    "f.write('啊')\n",
    "f.read()\n",
    "f.close()\n",
    "f = open('./files/test.txt', 'r')\n",
    "f.read()"
   ]
  },
  {
   "cell_type": "code",
   "execution_count": 17,
   "metadata": {},
   "outputs": [
    {
     "name": "stdout",
     "output_type": "stream",
     "text": [
      "<class 'str'>\n"
     ]
    }
   ],
   "source": [
    "print(type(('\\n'.join(map(str, range(101, 120))))))"
   ]
  },
  {
   "cell_type": "code",
   "execution_count": 3,
   "metadata": {},
   "outputs": [
    {
     "name": "stdout",
     "output_type": "stream",
     "text": [
      "<class 'str'> /etc/a/b\n"
     ]
    }
   ],
   "source": [
    ">>> from os import path\n",
    ">>> p = path.join('/etc','a','b')\n",
    ">>> print(type(p), p)"
   ]
  },
  {
   "cell_type": "code",
   "execution_count": 7,
   "metadata": {},
   "outputs": [
    {
     "name": "stdout",
     "output_type": "stream",
     "text": [
      "/etc/sysconfig/network/\n",
      "('/etc/sysconfig/network', '')\n"
     ]
    }
   ],
   "source": [
    "from os import path\n",
    "p = path.join('/etc', 'sysconfig', 'network/')\n",
    "print(p)\n",
    "print(path.split(p))"
   ]
  },
  {
   "cell_type": "code",
   "execution_count": 8,
   "metadata": {},
   "outputs": [
    {
     "data": {
      "text/plain": [
       "''"
      ]
     },
     "execution_count": 8,
     "metadata": {},
     "output_type": "execute_result"
    }
   ],
   "source": [
    "path.basename(p)"
   ]
  },
  {
   "cell_type": "code",
   "execution_count": 18,
   "metadata": {},
   "outputs": [
    {
     "name": "stdout",
     "output_type": "stream",
     "text": [
      "/etc/sysconfig/network\n"
     ]
    }
   ],
   "source": [
    "from os import path\n",
    "p = path.join('/etc', 'sysconfig', 'network')\n",
    "print(path.abspath(p))"
   ]
  },
  {
   "cell_type": "code",
   "execution_count": 21,
   "metadata": {},
   "outputs": [
    {
     "name": "stdout",
     "output_type": "stream",
     "text": [
      "/etc/sysconfig\n"
     ]
    }
   ],
   "source": [
    "p = '/etc/sysconfig/network'\n",
    "print(path.dirname(p))\n"
   ]
  },
  {
   "cell_type": "code",
   "execution_count": 25,
   "metadata": {},
   "outputs": [
    {
     "name": "stdout",
     "output_type": "stream",
     "text": [
      "/etc/sysconfig/network/scipts\n",
      "/etc/sysconfig/network\n",
      "/etc/sysconfig\n",
      "/etc\n",
      "/\n"
     ]
    }
   ],
   "source": [
    "p1 = path.abspath('/etc/sysconfig/network/scipts')\n",
    "print(p1)\n",
    "while p1 != path.dirname(p1):\n",
    "    p1 = path.dirname(p1)\n",
    "    print(p1)"
   ]
  },
  {
   "cell_type": "code",
   "execution_count": 33,
   "metadata": {},
   "outputs": [
    {
     "name": "stdout",
     "output_type": "stream",
     "text": [
      "p1= .\n",
      "p2= a/b/c/d/e\n",
      "p3= /etc/sysconfig/network/ifcfg\n"
     ]
    }
   ],
   "source": [
    "from pathlib import Path\n",
    "# （1）生成当前目录字符串\n",
    "p1 = Path()\n",
    "print('p1=', p1)\n",
    "# （2）在当前目录下生目录字符串\n",
    "p2 = Path('a', 'b', 'c', 'd/e') #当前目录下的a/b/c/d/e目录\n",
    "print('p2=', p2)\n",
    "# （3）复合使用\n",
    "p3 = Path('/etc/', Path('sysconfig'), 'network/ifcfg')\n",
    "print('p3=', p3)"
   ]
  },
  {
   "cell_type": "code",
   "execution_count": 35,
   "metadata": {},
   "outputs": [
    {
     "name": "stdout",
     "output_type": "stream",
     "text": [
      "b/a c c/b/a\n",
      "('c', 'b', 'a')\n",
      "c/b/a/d/e/f/g/h\n"
     ]
    }
   ],
   "source": [
    "p = Path()\n",
    "p = p / 'a'\n",
    "p1 = 'b' / p\n",
    "p2 = Path('c')\n",
    "p3 = p2 / p1\n",
    "print(p1, p2, p3)\n",
    "print(p3.parts)\n",
    "print(p3.joinpath('d', 'e/f', Path('g/h')))"
   ]
  },
  {
   "cell_type": "code",
   "execution_count": 38,
   "metadata": {},
   "outputs": [
    {
     "name": "stdout",
     "output_type": "stream",
     "text": [
      "/magedu/mysql/install\n",
      "/magedu/mysql/install\n",
      "/magedu/mysql\n",
      "/magedu\n",
      "/\n"
     ]
    }
   ],
   "source": [
    "p = Path('/magedu/mysql/install/mysql.tar.gz')\n",
    "print(p.parent)\n",
    "for x in p.parents: # 可迭代对象\n",
    "    print(x)\n",
    "# print([x for x in p.parents])"
   ]
  },
  {
   "cell_type": "code",
   "execution_count": 40,
   "metadata": {},
   "outputs": [
    {
     "name": "stdout",
     "output_type": "stream",
     "text": [
      "mysql.tar.gz\n",
      ".gz\n",
      "['.tar', '.gz']\n",
      "mysql.tar\n"
     ]
    }
   ],
   "source": [
    "p1 = p / 'mysql.tar.gz'\n",
    "print(p1.name)\n",
    "print(p1.suffix)\n",
    "print(p1.suffixes)\n",
    "print(p1.stem)"
   ]
  },
  {
   "cell_type": "code",
   "execution_count": 42,
   "metadata": {},
   "outputs": [
    {
     "data": {
      "text/plain": [
       "['.tar', '.gz']"
      ]
     },
     "execution_count": 42,
     "metadata": {},
     "output_type": "execute_result"
    }
   ],
   "source": [
    "Path('a.ta1r/mysql.tar.gz').suffixes"
   ]
  },
  {
   "cell_type": "code",
   "execution_count": 45,
   "metadata": {},
   "outputs": [
    {
     "name": "stdout",
     "output_type": "stream",
     "text": [
      "/magedu/mysql/install\n",
      "mysql\n",
      "mysql\n",
      "\n",
      "[]\n",
      "/magedu/mysql/install/redis\n",
      "/magedu/mysql/install/redis.zip\n"
     ]
    }
   ],
   "source": [
    "from pathlib import Path\n",
    "p = Path('/magedu/mysql/install/mysql/')\n",
    "print(p.parent)\n",
    "print(p.name)\n",
    "print(p.stem)\n",
    "print(p.suffix)\n",
    "print(p.suffixes)\n",
    "print(p.with_name('redis'))\n",
    "print(p.with_name('redis').with_suffix('.zip'))"
   ]
  },
  {
   "cell_type": "code",
   "execution_count": 46,
   "metadata": {},
   "outputs": [
    {
     "name": "stdout",
     "output_type": "stream",
     "text": [
      "/home/python/projects/test369/pythons/xjwlearn/for_practice_anything /home/python/projects/test369/pythons/xjwlearn/for_practice_anything\n",
      "/home/python /home/python\n"
     ]
    }
   ],
   "source": [
    "p = Path('/magedu/mysql/install/mysql.tar.gz')\n",
    "print(p.cwd(), Path.cwd())\n",
    "print(p.home(), Path.home())"
   ]
  },
  {
   "cell_type": "code",
   "execution_count": 60,
   "metadata": {},
   "outputs": [
    {
     "name": "stdout",
     "output_type": "stream",
     "text": [
      "<generator object Path.glob at 0x7f56ee7519e8>\n",
      "[PosixPath('/home/python/projects/test369/pythons/xjwlearn/for_practice_anything/untitled.txt')]\n"
     ]
    },
    {
     "data": {
      "text/plain": [
       "[]"
      ]
     },
     "execution_count": 60,
     "metadata": {},
     "output_type": "execute_result"
    }
   ],
   "source": [
    "p1 = Path('/home/python/projects/test369/pythons/xjwlearn/for_practice_anything')\n",
    "print(p1.glob('*.txt'))\n",
    "print(list(p1.glob('*.txt')))\n",
    "\n",
    "Path('a')\n",
    "Path('a').exists()\n",
    "Path('a').glob('*.gz') #这样不会递归查找\n",
    "\n",
    "#递归查找\n",
    "list(Path('a').glob('**/*'))\n",
    "list(Path('a').rglob('*.gz'))\n"
   ]
  },
  {
   "cell_type": "code",
   "execution_count": 54,
   "metadata": {},
   "outputs": [
    {
     "data": {
      "text/plain": [
       "'/home/python/projects/test369/pythons/xjwlearn/for_practice_anything'"
      ]
     },
     "execution_count": 54,
     "metadata": {},
     "output_type": "execute_result"
    }
   ],
   "source": [
    "pwd"
   ]
  },
  {
   "cell_type": "code",
   "execution_count": null,
   "metadata": {},
   "outputs": [],
   "source": []
  }
 ],
 "metadata": {
  "kernelspec": {
   "display_name": "Python 3",
   "language": "python",
   "name": "python3"
  },
  "language_info": {
   "codemirror_mode": {
    "name": "ipython",
    "version": 3
   },
   "file_extension": ".py",
   "mimetype": "text/x-python",
   "name": "python",
   "nbconvert_exporter": "python",
   "pygments_lexer": "ipython3",
   "version": "3.6.9"
  }
 },
 "nbformat": 4,
 "nbformat_minor": 2
}
