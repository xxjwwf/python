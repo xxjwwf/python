{
 "cells": [
  {
   "cell_type": "code",
   "execution_count": 1,
   "metadata": {},
   "outputs": [
    {
     "name": "stdout",
     "output_type": "stream",
     "text": [
      "<class 'tuple'>\n",
      "<class 'tuple'>\n"
     ]
    }
   ],
   "source": [
    "t1 = 1, 2\n",
    "print(type(t1)) # 什么类型\n",
    "t2 = (1, 2)\n",
    "print(type(t2))"
   ]
  },
  {
   "cell_type": "code",
   "execution_count": 3,
   "metadata": {},
   "outputs": [
    {
     "ename": "ValueError",
     "evalue": "too many values to unpack (expected 2)",
     "output_type": "error",
     "traceback": [
      "\u001b[0;31m---------------------------------------------------------------------------\u001b[0m",
      "\u001b[0;31mValueError\u001b[0m                                Traceback (most recent call last)",
      "\u001b[0;32m<ipython-input-3-d232b4e1dace>\u001b[0m in \u001b[0;36m<module>\u001b[0;34m\u001b[0m\n\u001b[0;32m----> 1\u001b[0;31m \u001b[0ma\u001b[0m\u001b[0;34m,\u001b[0m\u001b[0mb\u001b[0m \u001b[0;34m=\u001b[0m \u001b[0;34m{\u001b[0m\u001b[0;36m10\u001b[0m\u001b[0;34m,\u001b[0m\u001b[0;36m20\u001b[0m\u001b[0;34m,\u001b[0m\u001b[0;36m30\u001b[0m\u001b[0;34m}\u001b[0m \u001b[0;31m# 非线性结构\u001b[0m\u001b[0;34m\u001b[0m\u001b[0;34m\u001b[0m\u001b[0m\n\u001b[0m\u001b[1;32m      2\u001b[0m \u001b[0mprint\u001b[0m\u001b[0;34m(\u001b[0m\u001b[0ma\u001b[0m\u001b[0;34m,\u001b[0m\u001b[0mb\u001b[0m\u001b[0;34m)\u001b[0m\u001b[0;34m\u001b[0m\u001b[0;34m\u001b[0m\u001b[0m\n",
      "\u001b[0;31mValueError\u001b[0m: too many values to unpack (expected 2)"
     ]
    }
   ],
   "source": [
    "a,b = {10,20,30} # 非线性结构\n",
    "print(a,b)"
   ]
  },
  {
   "cell_type": "code",
   "execution_count": 7,
   "metadata": {},
   "outputs": [
    {
     "name": "stdout",
     "output_type": "stream",
     "text": [
      "[1, 2, 3, 4] 5\n"
     ]
    }
   ],
   "source": [
    "*rest, b = [1, 2, 3, 4, 5]\n",
    "print(rest, b)\n"
   ]
  },
  {
   "cell_type": "code",
   "execution_count": 6,
   "metadata": {},
   "outputs": [
    {
     "ename": "SyntaxError",
     "evalue": "starred assignment target must be in a list or tuple (<ipython-input-6-471040b909fa>, line 4)",
     "output_type": "error",
     "traceback": [
      "\u001b[0;36m  File \u001b[0;32m\"<ipython-input-6-471040b909fa>\"\u001b[0;36m, line \u001b[0;32m4\u001b[0m\n\u001b[0;31mSyntaxError\u001b[0m\u001b[0;31m:\u001b[0m starred assignment target must be in a list or tuple\n"
     ]
    }
   ],
   "source": [
    "*rest = [1, 2, 3, 4, 5]\n",
    "print(rest) # 内容是什么？"
   ]
  },
  {
   "cell_type": "code",
   "execution_count": 10,
   "metadata": {},
   "outputs": [
    {
     "name": "stdout",
     "output_type": "stream",
     "text": [
      "1 [2, 3, 4] 5\n"
     ]
    }
   ],
   "source": [
    "a, *r1,  b = [1, 2, 3, 4, 5] \n",
    "print(a,r1,b)"
   ]
  },
  {
   "cell_type": "code",
   "execution_count": 11,
   "metadata": {},
   "outputs": [
    {
     "name": "stdout",
     "output_type": "stream",
     "text": [
      "[2, 3, 4]\n"
     ]
    }
   ],
   "source": [
    "a, *_, b = [1, 2, 3, 4, 5]\n",
    "print(_) #"
   ]
  },
  {
   "cell_type": "code",
   "execution_count": 12,
   "metadata": {},
   "outputs": [
    {
     "name": "stdout",
     "output_type": "stream",
     "text": [
      "3\n",
      "[2]\n",
      "3\n"
     ]
    }
   ],
   "source": [
    "_, *b, _ = [1, 2, 3]\n",
    "print(_) # 第一个_是什么\n",
    "print(b) # 是什么\n",
    "print(_) # 第二个_是什么"
   ]
  },
  {
   "cell_type": "code",
   "execution_count": 13,
   "metadata": {
    "scrolled": true
   },
   "outputs": [
    {
     "name": "stdout",
     "output_type": "stream",
     "text": [
      "4\n"
     ]
    }
   ],
   "source": [
    "nums = [1, (2, 3, 4), 5]\n",
    "print(nums[1][2])"
   ]
  },
  {
   "cell_type": "code",
   "execution_count": 14,
   "metadata": {},
   "outputs": [
    {
     "name": "stdout",
     "output_type": "stream",
     "text": [
      "1 3 8\n"
     ]
    }
   ],
   "source": [
    "x=list(range(10))\n",
    "_,x2,_,x4,*_,a,_ = x\n",
    "print(x2,x4,a)"
   ]
  },
  {
   "cell_type": "code",
   "execution_count": 15,
   "metadata": {},
   "outputs": [
    {
     "name": "stdout",
     "output_type": "stream",
     "text": [
      "140241425354440\n"
     ]
    }
   ],
   "source": [
    "L1=[1]\n",
    "print(id(L1))"
   ]
  },
  {
   "cell_type": "code",
   "execution_count": 17,
   "metadata": {},
   "outputs": [
    {
     "name": "stdout",
     "output_type": "stream",
     "text": [
      "140241425354440\n"
     ]
    }
   ],
   "source": [
    "L1.append(2)\n",
    "print(id(L1))"
   ]
  },
  {
   "cell_type": "code",
   "execution_count": 22,
   "metadata": {},
   "outputs": [
    {
     "name": "stdout",
     "output_type": "stream",
     "text": [
      "{'a': 2}\n"
     ]
    }
   ],
   "source": [
    "x=dict(a=2)\n",
    "print(x)"
   ]
  },
  {
   "cell_type": "code",
   "execution_count": 25,
   "metadata": {},
   "outputs": [
    {
     "name": "stdout",
     "output_type": "stream",
     "text": [
      "{'a': 1, 'red': 3}\n"
     ]
    }
   ],
   "source": [
    "d = {}\n",
    "d['a'] = 1\n",
    "d.update(red=1)\n",
    "# d.update(['red',2])\n",
    "d.update({'red':3})\n",
    "print(d)"
   ]
  },
  {
   "cell_type": "code",
   "execution_count": 27,
   "metadata": {},
   "outputs": [
    {
     "data": {
      "text/plain": [
       "[[0], [1], [2], [3], [4], [5], [6], [7], [8], [9]]"
      ]
     },
     "execution_count": 27,
     "metadata": {},
     "output_type": "execute_result"
    }
   ],
   "source": [
    "[[x] for x in range(10)] #"
   ]
  },
  {
   "cell_type": "code",
   "execution_count": 28,
   "metadata": {},
   "outputs": [
    {
     "data": {
      "text/plain": [
       "{0: (0, 1),\n",
       " 1: (1, 2),\n",
       " 2: (2, 3),\n",
       " 3: (3, 4),\n",
       " 4: (4, 5),\n",
       " 5: (5, 6),\n",
       " 6: (6, 7),\n",
       " 7: (7, 8),\n",
       " 8: (8, 9),\n",
       " 9: (9, 10)}"
      ]
     },
     "execution_count": 28,
     "metadata": {},
     "output_type": "execute_result"
    }
   ],
   "source": [
    "{x:(x,x+1) for x in range(10)}"
   ]
  },
  {
   "cell_type": "code",
   "execution_count": 30,
   "metadata": {},
   "outputs": [
    {
     "data": {
      "text/plain": [
       "{0: [0, 1],\n",
       " 1: [1, 2],\n",
       " 2: [2, 3],\n",
       " 3: [3, 4],\n",
       " 4: [4, 5],\n",
       " 5: [5, 6],\n",
       " 6: [6, 7],\n",
       " 7: [7, 8],\n",
       " 8: [8, 9],\n",
       " 9: [9, 10]}"
      ]
     },
     "execution_count": 30,
     "metadata": {},
     "output_type": "execute_result"
    }
   ],
   "source": [
    "{x:[x,x+1] for x in range(10)} #"
   ]
  },
  {
   "cell_type": "code",
   "execution_count": 31,
   "metadata": {},
   "outputs": [
    {
     "name": "stdout",
     "output_type": "stream",
     "text": [
      "['a', 'b']\n",
      "[('a', 100), ('b', 'abc')]\n"
     ]
    }
   ],
   "source": [
    "print(sorted({'a':100, 'b':'abc'}))\n",
    "print(sorted({'a':100, 'b':'abc'}.items()))"
   ]
  },
  {
   "cell_type": "code",
   "execution_count": 34,
   "metadata": {},
   "outputs": [
    {
     "name": "stdout",
     "output_type": "stream",
     "text": [
      "[3, 3, 3, 2, 1, 1]\n"
     ]
    }
   ],
   "source": [
    "x={12:3,13:3,11:2,10:1,15:3,9:1}\n",
    "print(sorted(x.values(),key=int,reverse=True))"
   ]
  },
  {
   "cell_type": "code",
   "execution_count": 77,
   "metadata": {},
   "outputs": [
    {
     "name": "stdout",
     "output_type": "stream",
     "text": [
      "2\n",
      "3\n",
      "5\n",
      "7\n",
      "10\n",
      "[True, True, True, True, False, True, False, True, False, False, True]\n"
     ]
    }
   ],
   "source": [
    "#求质数，注意除去0和1\n",
    "n=10\n",
    "L1=[]\n",
    "for _ in range(n+1):\n",
    "\tL1.append(True)\n",
    "for i in range(2,n+1):\n",
    "    if L1[i]:\n",
    "        print(i)\n",
    "        j=i+i\n",
    "    while j< n or j==1 or j==0:\n",
    "        L1[j]=False\n",
    "        j+=i\n",
    "print(L1)"
   ]
  },
  {
   "cell_type": "code",
   "execution_count": 52,
   "metadata": {},
   "outputs": [
    {
     "name": "stdout",
     "output_type": "stream",
     "text": [
      "1\n",
      "2\n"
     ]
    },
    {
     "data": {
      "text/plain": [
       "(None, None)"
      ]
     },
     "execution_count": 52,
     "metadata": {},
     "output_type": "execute_result"
    }
   ],
   "source": [
    "print(1),print(2)"
   ]
  },
  {
   "cell_type": "code",
   "execution_count": 54,
   "metadata": {},
   "outputs": [],
   "source": [
    "set1={1,2,3,'(a,b)'}"
   ]
  },
  {
   "cell_type": "code",
   "execution_count": 56,
   "metadata": {},
   "outputs": [
    {
     "name": "stdout",
     "output_type": "stream",
     "text": [
      "<class 'tuple'>\n",
      "<class 'tuple'>\n"
     ]
    }
   ],
   "source": [
    "t=1,2\n",
    "print(type(t))\n",
    "t2 = (1, 2)\n",
    "print(type(t2))"
   ]
  },
  {
   "cell_type": "code",
   "execution_count": 61,
   "metadata": {},
   "outputs": [
    {
     "name": "stdout",
     "output_type": "stream",
     "text": [
      "x y\n",
      "10 20\n"
     ]
    }
   ],
   "source": [
    "a,b = {'x':10,'y':11}\n",
    "print(a,b)\n",
    "(a,b)=1,2\n",
    "a,b = {10,20}\n",
    "print(a,b)"
   ]
  },
  {
   "cell_type": "code",
   "execution_count": 62,
   "metadata": {},
   "outputs": [
    {
     "ename": "ValueError",
     "evalue": "too many values to unpack (expected 2)",
     "output_type": "error",
     "traceback": [
      "\u001b[0;31m---------------------------------------------------------------------------\u001b[0m",
      "\u001b[0;31mValueError\u001b[0m                                Traceback (most recent call last)",
      "\u001b[0;32m<ipython-input-62-f3d4d311a7ae>\u001b[0m in \u001b[0;36m<module>\u001b[0;34m\u001b[0m\n\u001b[0;32m----> 1\u001b[0;31m \u001b[0ma\u001b[0m\u001b[0;34m,\u001b[0m\u001b[0mb\u001b[0m \u001b[0;34m=\u001b[0m \u001b[0;34m(\u001b[0m\u001b[0;36m10\u001b[0m\u001b[0;34m,\u001b[0m\u001b[0;36m20\u001b[0m\u001b[0;34m,\u001b[0m\u001b[0;36m30\u001b[0m\u001b[0;34m)\u001b[0m\u001b[0;34m\u001b[0m\u001b[0;34m\u001b[0m\u001b[0m\n\u001b[0m",
      "\u001b[0;31mValueError\u001b[0m: too many values to unpack (expected 2)"
     ]
    }
   ],
   "source": [
    "a,b = (10,20,30)  "
   ]
  },
  {
   "cell_type": "code",
   "execution_count": 88,
   "metadata": {},
   "outputs": [
    {
     "name": "stdout",
     "output_type": "stream",
     "text": [
      "num=13\n",
      "2\n",
      "3\n",
      "5\n",
      "7\n",
      "11\n",
      "13\n",
      "13 is prime\n"
     ]
    }
   ],
   "source": [
    "\n",
    "def is_prime(num):\n",
    "    L1=[]\n",
    "    L1.append(False) #排除0和1，从2开始计算素数\n",
    "    L1.append(False)\n",
    "    for _ in range(num+1):\n",
    "        L1.append(True)\n",
    "    for i in range(2,num+1):\n",
    "        if L1[i]:\n",
    "            print(i)\n",
    "            j=i+i\n",
    "            while j <= num:\n",
    "                L1[j]=False\n",
    "                j+=i\n",
    "    if L1[num]:\n",
    "        print(num,'is prime')\n",
    "    else:\n",
    "        print(num,'is not not_prime')\n",
    "num=int(input('num='))\n",
    "is_prime(num)"
   ]
  },
  {
   "cell_type": "code",
   "execution_count": 90,
   "metadata": {},
   "outputs": [
    {
     "name": "stdout",
     "output_type": "stream",
     "text": [
      "1 [2, 3, 4, 5] 6\n",
      "<class 'list'>\n"
     ]
    }
   ],
   "source": [
    "a,*b,c = [1,2,3,4,5,6]\n",
    "print(a,b,c)\n",
    "print(type(b))"
   ]
  },
  {
   "cell_type": "code",
   "execution_count": 92,
   "metadata": {},
   "outputs": [
    {
     "ename": "SyntaxError",
     "evalue": "starred assignment target must be in a list or tuple (<ipython-input-92-c72690853598>, line 6)",
     "output_type": "error",
     "traceback": [
      "\u001b[0;36m  File \u001b[0;32m\"<ipython-input-92-c72690853598>\"\u001b[0;36m, line \u001b[0;32m6\u001b[0m\n\u001b[0;31mSyntaxError\u001b[0m\u001b[0;31m:\u001b[0m starred assignment target must be in a list or tuple\n"
     ]
    }
   ],
   "source": [
    "a, *_, b = [1, 2, 3, 4, 5]\n",
    "print(_) #\n",
    "*rest = [1, 2, 3, 4, 5]\n",
    "print(rest)"
   ]
  },
  {
   "cell_type": "code",
   "execution_count": 93,
   "metadata": {},
   "outputs": [
    {
     "name": "stdout",
     "output_type": "stream",
     "text": [
      "3\n"
     ]
    }
   ],
   "source": [
    "a,b,a = [1,2,3]\n",
    "print(a)"
   ]
  },
  {
   "cell_type": "code",
   "execution_count": 98,
   "metadata": {},
   "outputs": [],
   "source": [
    "s3 = set([1])"
   ]
  },
  {
   "cell_type": "code",
   "execution_count": 100,
   "metadata": {},
   "outputs": [
    {
     "ename": "TypeError",
     "evalue": "unhashable type: 'list'",
     "output_type": "error",
     "traceback": [
      "\u001b[0;31m---------------------------------------------------------------------------\u001b[0m",
      "\u001b[0;31mTypeError\u001b[0m                                 Traceback (most recent call last)",
      "\u001b[0;32m<ipython-input-100-8b7b4cdc45db>\u001b[0m in \u001b[0;36m<module>\u001b[0;34m\u001b[0m\n\u001b[0;32m----> 1\u001b[0;31m \u001b[0ms3\u001b[0m\u001b[0;34m=\u001b[0m\u001b[0;34m{\u001b[0m\u001b[0;34m[\u001b[0m\u001b[0;36m1\u001b[0m\u001b[0;34m]\u001b[0m\u001b[0;34m}\u001b[0m\u001b[0;34m\u001b[0m\u001b[0;34m\u001b[0m\u001b[0m\n\u001b[0m",
      "\u001b[0;31mTypeError\u001b[0m: unhashable type: 'list'"
     ]
    }
   ],
   "source": [
    "s3={[1]}"
   ]
  },
  {
   "cell_type": "code",
   "execution_count": 105,
   "metadata": {},
   "outputs": [
    {
     "name": "stdout",
     "output_type": "stream",
     "text": [
      "set() {1, 2, 3} {'c', 'b', 'a'} {'c', 'f', 'g', 'e', 'd', 'b', 'a'}\n"
     ]
    }
   ],
   "source": [
    "s1=set()\n",
    "# s2=set(1)\n",
    "s3=set([1,2,3])\n",
    "s4=set({'a','b','c'})\n",
    "s5=set('abcdefg')\n",
    "print(s1,s3,s4,s5)"
   ]
  },
  {
   "cell_type": "code",
   "execution_count": 109,
   "metadata": {},
   "outputs": [
    {
     "name": "stdout",
     "output_type": "stream",
     "text": [
      "<class 'dict'>\n"
     ]
    }
   ],
   "source": [
    "s5={}  ##这是字典的初始化方式，因此s5是个字典\n",
    "print(type(s5))\n",
    "s1={11}\n",
    "s2={1,'a'}\n",
    "# s3={[1],2,3}  #列表不能hash，因此此语句报错，去掉元素[1]即可\n",
    "s4={1,(2,)}  "
   ]
  },
  {
   "cell_type": "code",
   "execution_count": 110,
   "metadata": {},
   "outputs": [],
   "source": [
    "s4.update(s2)"
   ]
  },
  {
   "cell_type": "code",
   "execution_count": 111,
   "metadata": {},
   "outputs": [
    {
     "name": "stdout",
     "output_type": "stream",
     "text": [
      "{'a', 1, (2,)}\n"
     ]
    }
   ],
   "source": [
    "print(s4)"
   ]
  },
  {
   "cell_type": "code",
   "execution_count": 113,
   "metadata": {},
   "outputs": [],
   "source": [
    "s4.update([1,2,3])"
   ]
  },
  {
   "cell_type": "code",
   "execution_count": 115,
   "metadata": {},
   "outputs": [
    {
     "name": "stdout",
     "output_type": "stream",
     "text": [
      "{1, 2, 3, 999}\n",
      "{1, 2, 3, 33, 999, 11, 22}\n",
      "{1, 2, 3, 33, 999, 11, 333, 111, 22, 222}\n",
      "{1, 2, 3, 33, 'c', 'f', 999, 'e', 11, 333, 111, 22, 'd', 'b', 'a', 222}\n"
     ]
    }
   ],
   "source": [
    "s1={1}\n",
    "s2={2}\n",
    "s3={3}\n",
    "s4={999}\n",
    "s4.update(s1,s2,s3)\n",
    "print(s4)\n",
    "s4.update([11,22,33])\n",
    "print(s4)\n",
    "s4.update({111,222,333})\n",
    "print(s4)\n",
    "s4.update('abcdef')\n",
    "print(s4)"
   ]
  },
  {
   "cell_type": "code",
   "execution_count": 116,
   "metadata": {},
   "outputs": [
    {
     "name": "stdout",
     "output_type": "stream",
     "text": [
      "{1, 2, 3, 33, 'c', 'f', 999, 'e', 11, 333, 111, 'xiejiawen', 22, 'd', 'b', 'a', 222}\n"
     ]
    }
   ],
   "source": [
    "s4.add('xiejiawen')\n",
    "print(s4)"
   ]
  },
  {
   "cell_type": "code",
   "execution_count": 121,
   "metadata": {},
   "outputs": [
    {
     "name": "stdout",
     "output_type": "stream",
     "text": [
      "{3, 'c', 33, 'f', 999, 'e', 11, 333, 111, 'xiejiawen', 22, 'd', 'b', 'a', 222}\n"
     ]
    }
   ],
   "source": [
    "s4={1, 2, 3, 33, 'c', 'f', 999, 'e', 11, 333, 111, 'xiejiawen', 22, 'd', 'b', 'a', 222}\n",
    "s4.remove(1)\n",
    "# s4.discard(1,2)\n",
    "s4.discard(2)\n",
    "s4.discard(2)\n",
    "print(s4)"
   ]
  },
  {
   "cell_type": "code",
   "execution_count": 127,
   "metadata": {},
   "outputs": [
    {
     "name": "stdout",
     "output_type": "stream",
     "text": [
      "{3, 'f', 'c', 999, 'e', 11, 333, 111, 'xiejiawen', 22, 'd', 'b', 'a', 222}\n"
     ]
    }
   ],
   "source": [
    "s4={3, 'c', 33, 'f', 999, 'e', 11, 333, 111, 'xiejiawen', 22, 'd', 'b', 'a', 222}\n",
    "s4.pop()\n",
    "print(s4)"
   ]
  },
  {
   "cell_type": "code",
   "execution_count": 128,
   "metadata": {},
   "outputs": [
    {
     "name": "stdout",
     "output_type": "stream",
     "text": [
      "{3, 'f', 'c', 999, 'e', 11, 333, 111, 'xiejiawen', 22, 'd', 'b', 'a', 222}\n"
     ]
    }
   ],
   "source": [
    "s4={3, 'c', 33, 'f', 999, 'e', 11, 333, 111, 'xiejiawen', 22, 'd', 'b', 'a', 222}\n",
    "s4.pop()\n",
    "print(s4)"
   ]
  },
  {
   "cell_type": "code",
   "execution_count": 135,
   "metadata": {},
   "outputs": [
    {
     "data": {
      "text/plain": [
       "{1, 2, 3}"
      ]
     },
     "execution_count": 135,
     "metadata": {},
     "output_type": "execute_result"
    }
   ],
   "source": [
    "s1={1}\n",
    "s2={2}\n",
    "s3={3}\n",
    "s3.union(s1,s2)"
   ]
  },
  {
   "cell_type": "code",
   "execution_count": 133,
   "metadata": {},
   "outputs": [
    {
     "name": "stdout",
     "output_type": "stream",
     "text": [
      "{3}\n"
     ]
    }
   ],
   "source": [
    "s3.union([4,5,6])\n",
    "print(s3)"
   ]
  },
  {
   "cell_type": "code",
   "execution_count": 137,
   "metadata": {},
   "outputs": [
    {
     "name": "stdout",
     "output_type": "stream",
     "text": [
      "{1, 2, 3}\n"
     ]
    }
   ],
   "source": [
    "s3.update(s1,s2)\n",
    "print(s3)"
   ]
  },
  {
   "cell_type": "code",
   "execution_count": 142,
   "metadata": {},
   "outputs": [
    {
     "name": "stdout",
     "output_type": "stream",
     "text": [
      "{1, 3}\n"
     ]
    }
   ],
   "source": [
    "s1={1}\n",
    "s3={3}\n",
    "s3 |= s1\n",
    "print(s3)"
   ]
  },
  {
   "cell_type": "code",
   "execution_count": 155,
   "metadata": {},
   "outputs": [
    {
     "name": "stdout",
     "output_type": "stream",
     "text": [
      "{1, 2, 3, 4, 5}\n"
     ]
    }
   ],
   "source": [
    "s1={1,2,3,4,5}\n",
    "s2={2,3,4,5,6,999}\n",
    "s3={3,4,5,6,7}\n",
    "s1.intersection(s2)\n",
    "print(s1)"
   ]
  },
  {
   "cell_type": "code",
   "execution_count": 156,
   "metadata": {},
   "outputs": [],
   "source": [
    "s2.intersection_update(s1,s3)"
   ]
  },
  {
   "cell_type": "code",
   "execution_count": 152,
   "metadata": {},
   "outputs": [
    {
     "data": {
      "text/plain": [
       "{6, 999}"
      ]
     },
     "execution_count": 152,
     "metadata": {},
     "output_type": "execute_result"
    }
   ],
   "source": [
    "s2.difference(s1)"
   ]
  },
  {
   "cell_type": "code",
   "execution_count": 154,
   "metadata": {},
   "outputs": [
    {
     "name": "stdout",
     "output_type": "stream",
     "text": [
      "{999}\n"
     ]
    }
   ],
   "source": [
    "s2.difference_update(s1,s3)\n",
    "print(s2)"
   ]
  },
  {
   "cell_type": "code",
   "execution_count": 162,
   "metadata": {},
   "outputs": [
    {
     "name": "stdout",
     "output_type": "stream",
     "text": [
      "{2, 999, 7}\n"
     ]
    }
   ],
   "source": [
    "s1={1,2,3,4,5}\n",
    "s2={2,3,4,5,6,999}\n",
    "s3={3,4,5,6,7}\n",
    "# s2.symmetric_difference(s3)\n",
    "s2.symmetric_difference_update(s3)\n",
    "print(s2)"
   ]
  },
  {
   "cell_type": "code",
   "execution_count": 172,
   "metadata": {},
   "outputs": [
    {
     "name": "stdout",
     "output_type": "stream",
     "text": [
      "{}\n",
      "{'name': 'xiejiawen', 'age': 25, 'sex': 'male'}\n",
      "{'a': 2, 'b': 3, 'fundation': 'hangzhou', 'country': 'China'}\n",
      "{'name': 'xiejiawen', 'age': 25, 'sex': 'male', 'profession': 'cs'}\n"
     ]
    }
   ],
   "source": [
    ">>> d1={}  #这是字典专用的初始化格式，集合虽然也是以大括号包围，但是不能这样初始化\n",
    ">>> d2=dict(name='xiejiawen',age=25,sex='male')\n",
    ">>> d3=dict([('a',2),('b',3)],fundation='hangzhou',country='China')\n",
    ">>> d4=dict(d2,profession='cs')\n",
    ">>> print(d1)\n",
    ">>> print(d2)\n",
    ">>> print(d3)\n",
    ">>> print(d4)\n"
   ]
  },
  {
   "cell_type": "code",
   "execution_count": 175,
   "metadata": {},
   "outputs": [
    {
     "name": "stdout",
     "output_type": "stream",
     "text": [
      "<class 'dict'> {'name': 'xiejiawen', 'name2': '111'}\n"
     ]
    }
   ],
   "source": [
    "d6={'name':'xiejiawen','name2':'111'}\n",
    "print(type(d6),d6)"
   ]
  },
  {
   "cell_type": "code",
   "execution_count": 178,
   "metadata": {},
   "outputs": [
    {
     "name": "stdout",
     "output_type": "stream",
     "text": [
      "{0: None, 1: None, 2: None, 3: None, 4: None}\n"
     ]
    }
   ],
   "source": [
    "a=dict.fromkeys(range(5))\n",
    "print(a)"
   ]
  },
  {
   "cell_type": "code",
   "execution_count": 207,
   "metadata": {},
   "outputs": [
    {
     "name": "stdout",
     "output_type": "stream",
     "text": [
      "{'a': 3, 'b': 98, 'fundation': 'hangzhou', 'country': 'China', 'c': 99}\n"
     ]
    }
   ],
   "source": [
    "d3={'a': 2, 'b': 3, 'fundation': 'hangzhou', 'country': 'China'}\n",
    "# # d3['country']\n",
    "# d3.get('a',999)\n",
    "# # d3.setdefault('b',987)\n",
    "# d3.setdefault('c',996)\n",
    "# print(d3)\n",
    "d3['a']=97\n",
    "d3.update(b=98,c=99)\n",
    "d3.update({'a':3})\n",
    "print(d3)\n"
   ]
  },
  {
   "cell_type": "code",
   "execution_count": 208,
   "metadata": {},
   "outputs": [
    {
     "data": {
      "text/plain": [
       "{'name': 'xiejiawen', 'name2': '111'}"
      ]
     },
     "execution_count": 208,
     "metadata": {},
     "output_type": "execute_result"
    }
   ],
   "source": [
    "d6"
   ]
  },
  {
   "cell_type": "code",
   "execution_count": 212,
   "metadata": {},
   "outputs": [
    {
     "data": {
      "text/plain": [
       "'xiejiawen'"
      ]
     },
     "execution_count": 212,
     "metadata": {},
     "output_type": "execute_result"
    }
   ],
   "source": [
    "d6.pop('name','zhangsan')"
   ]
  },
  {
   "cell_type": "code",
   "execution_count": 213,
   "metadata": {},
   "outputs": [
    {
     "data": {
      "text/plain": [
       "('name2', '111')"
      ]
     },
     "execution_count": 213,
     "metadata": {},
     "output_type": "execute_result"
    }
   ],
   "source": [
    "d6.popitem()"
   ]
  },
  {
   "cell_type": "code",
   "execution_count": 216,
   "metadata": {},
   "outputs": [
    {
     "data": {
      "text/plain": [
       "{}"
      ]
     },
     "execution_count": 216,
     "metadata": {},
     "output_type": "execute_result"
    }
   ],
   "source": [
    "d6.clear()\n",
    "d6"
   ]
  },
  {
   "cell_type": "code",
   "execution_count": 217,
   "metadata": {},
   "outputs": [
    {
     "data": {
      "text/plain": [
       "{'a': 3, 'b': 98, 'fundation': 'hangzhou', 'country': 'China', 'c': 99}"
      ]
     },
     "execution_count": 217,
     "metadata": {},
     "output_type": "execute_result"
    }
   ],
   "source": [
    "d3"
   ]
  },
  {
   "cell_type": "code",
   "execution_count": 218,
   "metadata": {},
   "outputs": [
    {
     "name": "stdout",
     "output_type": "stream",
     "text": [
      "a\n",
      "b\n",
      "fundation\n",
      "country\n",
      "c\n"
     ]
    }
   ],
   "source": [
    "for i in d3:\n",
    "    print(i)"
   ]
  },
  {
   "cell_type": "code",
   "execution_count": 220,
   "metadata": {},
   "outputs": [
    {
     "name": "stdout",
     "output_type": "stream",
     "text": [
      "a\n",
      "b\n",
      "fundation\n",
      "country\n",
      "c\n"
     ]
    }
   ],
   "source": [
    "for j in d3.keys():\n",
    "    print(j)"
   ]
  },
  {
   "cell_type": "code",
   "execution_count": 224,
   "metadata": {},
   "outputs": [
    {
     "data": {
      "text/plain": [
       "{'a': 3, 'b': 98, 'fundation': 'hangzhou', 'country': 'China', 'c': 99}"
      ]
     },
     "execution_count": 224,
     "metadata": {},
     "output_type": "execute_result"
    }
   ],
   "source": [
    "d3"
   ]
  },
  {
   "cell_type": "code",
   "execution_count": 225,
   "metadata": {},
   "outputs": [
    {
     "name": "stdout",
     "output_type": "stream",
     "text": [
      "('c', 99)\n",
      "('country', 'China')\n",
      "('fundation', 'hangzhou')\n",
      "('b', 98)\n",
      "('a', 3)\n"
     ]
    }
   ],
   "source": [
    "while d3:\n",
    "    print(d3.popitem())"
   ]
  },
  {
   "cell_type": "code",
   "execution_count": 232,
   "metadata": {},
   "outputs": [
    {
     "name": "stdout",
     "output_type": "stream",
     "text": [
      "aaa\n",
      "None\n",
      "bbb\n",
      "None\n",
      "None\n"
     ]
    }
   ],
   "source": [
    "def pp():\n",
    "    def print_a():\n",
    "        print('aaa')\n",
    "    def print_b():\n",
    "        print('bbb')\n",
    "    print(print_a())\n",
    "    print(print_b())\n",
    "x=pp\n",
    "print(x())"
   ]
  },
  {
   "cell_type": "code",
   "execution_count": null,
   "metadata": {},
   "outputs": [],
   "source": []
  }
 ],
 "metadata": {
  "kernelspec": {
   "display_name": "Python 3",
   "language": "python",
   "name": "python3"
  },
  "language_info": {
   "codemirror_mode": {
    "name": "ipython",
    "version": 3
   },
   "file_extension": ".py",
   "mimetype": "text/x-python",
   "name": "python",
   "nbconvert_exporter": "python",
   "pygments_lexer": "ipython3",
   "version": "3.6.9"
  }
 },
 "nbformat": 4,
 "nbformat_minor": 2
}
