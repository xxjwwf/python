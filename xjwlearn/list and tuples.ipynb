{
 "cells": [
  {
   "cell_type": "code",
   "execution_count": 1,
   "metadata": {},
   "outputs": [
    {
     "name": "stdout",
     "output_type": "stream",
     "text": [
      "1 2 3\n",
      "-2 -3 -4\n",
      "3 -4 -4 -3\n"
     ]
    }
   ],
   "source": [
    "#地板除法，向下取整\n",
    "print(3//2, 5//2, 7//2)\n",
    "print(-3//2, -5//2, -7//2)\n",
    "print(7//2, 7//-2, -7//2, -(7//2))"
   ]
  },
  {
   "cell_type": "code",
   "execution_count": 3,
   "metadata": {},
   "outputs": [
    {
     "name": "stdout",
     "output_type": "stream",
     "text": [
      "int ------------\n",
      "1 1 1\n",
      "-1 -1 -1 1\n"
     ]
    }
   ],
   "source": [
    "#int取整，只截取整数部分\n",
    "print('int ------------')\n",
    "print(int(1.4), int(1.5), int(1.6))\n",
    "print(int(-1.4), int(-1.5), int(-1.6),int(1.99999))"
   ]
  },
  {
   "cell_type": "code",
   "execution_count": 5,
   "metadata": {},
   "outputs": [
    {
     "name": "stdout",
     "output_type": "stream",
     "text": [
      "2 -3\n",
      "3 -2\n"
     ]
    }
   ],
   "source": [
    "#floor 向下取整，ceil向上取整\n",
    "import math\n",
    "print(math.floor(2.5), math.floor(-2.5))\n",
    "print(math.ceil(2.5), math.ceil(-2.5))"
   ]
  },
  {
   "cell_type": "code",
   "execution_count": 10,
   "metadata": {},
   "outputs": [
    {
     "data": {
      "text/plain": [
       "(2, 2, 4)"
      ]
     },
     "execution_count": 10,
     "metadata": {},
     "output_type": "execute_result"
    }
   ],
   "source": [
    "#四舍五入，取偶\n",
    "round(1.5),round(2.5),round(3.5)"
   ]
  },
  {
   "cell_type": "code",
   "execution_count": 170,
   "metadata": {},
   "outputs": [
    {
     "name": "stdout",
     "output_type": "stream",
     "text": [
      "1\n",
      "2\n",
      "4\n",
      "8\n",
      "16\n",
      "32\n",
      "64\n",
      "128\n",
      "256\n",
      "512\n",
      "1024\n",
      "\n"
     ]
    }
   ],
   "source": [
    "##幂运算\n",
    "for i in range(11):\n",
    "    a=pow(2,i)\n",
    "    print(a)\n",
    "print()"
   ]
  },
  {
   "cell_type": "code",
   "execution_count": 15,
   "metadata": {},
   "outputs": [
    {
     "name": "stdout",
     "output_type": "stream",
     "text": [
      "1.4142\n",
      "1.7321\n",
      "2.0000\n",
      "2.2361\n",
      "2.4495\n",
      "2.6458\n",
      "2.8284\n",
      "3.0000\n",
      "3.1623\n",
      "3.3166\n",
      "3.4641\n",
      "3.6056\n",
      "3.7417\n",
      "3.8730\n",
      "4.0000\n",
      "4.1231\n",
      "4.2426\n",
      "4.3589\n",
      "\n"
     ]
    }
   ],
   "source": [
    "##开方运算\n",
    "import math\n",
    "for i in range(2,20):\n",
    "    a=math.sqrt(i)\n",
    "    print('%5.4f'% a)\n",
    "print()"
   ]
  },
  {
   "cell_type": "code",
   "execution_count": 42,
   "metadata": {},
   "outputs": [
    {
     "name": "stdout",
     "output_type": "stream",
     "text": [
      "100\n",
      "99\n",
      "0\n"
     ]
    }
   ],
   "source": [
    "#犹豫我在之前设置了list变量，因此后面就不能使用list函数来构造列表了，很坑爹\n",
    "#取消变量的方式为del list\n",
    "#del list\n",
    "L1=list(range(100))\n",
    "print(len(L1))  #len()函数能够直接返回列表长度，不用遍历列表\n",
    "print(max(L1))\n",
    "print(min(L1))"
   ]
  },
  {
   "cell_type": "code",
   "execution_count": 45,
   "metadata": {},
   "outputs": [
    {
     "name": "stdout",
     "output_type": "stream",
     "text": [
      "abc\n"
     ]
    }
   ],
   "source": [
    "ls3 = [2, 'ab', [3, 'abc'], (5, 30, 50)] \n",
    "print(ls3[2][1])"
   ]
  },
  {
   "cell_type": "code",
   "execution_count": 46,
   "metadata": {},
   "outputs": [
    {
     "data": {
      "text/plain": [
       "[2, 'ab', [3, 'abc'], (5, 30, 50)]"
      ]
     },
     "execution_count": 46,
     "metadata": {},
     "output_type": "execute_result"
    }
   ],
   "source": [
    "ls3"
   ]
  },
  {
   "cell_type": "code",
   "execution_count": 55,
   "metadata": {},
   "outputs": [
    {
     "data": {
      "text/plain": [
       "2"
      ]
     },
     "execution_count": 55,
     "metadata": {},
     "output_type": "execute_result"
    }
   ],
   "source": [
    "ls3.index([3,'abc'],2)"
   ]
  },
  {
   "cell_type": "code",
   "execution_count": 58,
   "metadata": {},
   "outputs": [
    {
     "data": {
      "text/plain": [
       "1"
      ]
     },
     "execution_count": 58,
     "metadata": {},
     "output_type": "execute_result"
    }
   ],
   "source": [
    "ls3.index('ab')"
   ]
  },
  {
   "cell_type": "code",
   "execution_count": 61,
   "metadata": {},
   "outputs": [
    {
     "data": {
      "text/plain": [
       "3"
      ]
     },
     "execution_count": 61,
     "metadata": {},
     "output_type": "execute_result"
    }
   ],
   "source": [
    "ls3.index((5,30,50))"
   ]
  },
  {
   "cell_type": "code",
   "execution_count": 62,
   "metadata": {},
   "outputs": [],
   "source": [
    "ls3.extend(range(1,10))"
   ]
  },
  {
   "cell_type": "code",
   "execution_count": 63,
   "metadata": {},
   "outputs": [
    {
     "data": {
      "text/plain": [
       "[2, 'ab', [3, 'abc'], (5, 30, 50), 1, 2, 3, 4, 5, 6, 7, 8, 9]"
      ]
     },
     "execution_count": 63,
     "metadata": {},
     "output_type": "execute_result"
    }
   ],
   "source": [
    "ls3"
   ]
  },
  {
   "cell_type": "code",
   "execution_count": 64,
   "metadata": {},
   "outputs": [],
   "source": [
    "ls4=list()"
   ]
  },
  {
   "cell_type": "code",
   "execution_count": 65,
   "metadata": {},
   "outputs": [
    {
     "data": {
      "text/plain": [
       "[]"
      ]
     },
     "execution_count": 65,
     "metadata": {},
     "output_type": "execute_result"
    }
   ],
   "source": [
    "ls4"
   ]
  },
  {
   "cell_type": "code",
   "execution_count": 67,
   "metadata": {},
   "outputs": [
    {
     "data": {
      "text/plain": [
       "[100, 1, 1, 1]"
      ]
     },
     "execution_count": 67,
     "metadata": {},
     "output_type": "execute_result"
    }
   ],
   "source": [
    "ls5=[1]*4\n",
    "ls5[0]=100\n",
    "ls5"
   ]
  },
  {
   "cell_type": "code",
   "execution_count": 73,
   "metadata": {},
   "outputs": [
    {
     "data": {
      "text/plain": [
       "[[2], 200, [2], [2]]"
      ]
     },
     "execution_count": 73,
     "metadata": {},
     "output_type": "execute_result"
    }
   ],
   "source": [
    "ls6=[[1]]*4          #修改引用类型下的下的元素并不会修改引用类型的内存地址，因此这样就会修改所有与这个引用类型地址相同的引用类型\n",
    "ls6[0][0]=100\n",
    "ls6[1]=200\n",
    "ls6[2][0]=2\n",
    "ls6"
   ]
  },
  {
   "cell_type": "code",
   "execution_count": 95,
   "metadata": {},
   "outputs": [
    {
     "name": "stdout",
     "output_type": "stream",
     "text": [
      "8\n",
      "7\n",
      "6\n",
      "5\n",
      "4\n",
      "3\n",
      "2\n",
      "1\n",
      "0\n"
     ]
    }
   ],
   "source": [
    "list1=list(range(9))\n",
    "# print(list1)\n",
    "for j in range(-1,-10,-1):\n",
    "    print(list1[j])"
   ]
  },
  {
   "cell_type": "code",
   "execution_count": 104,
   "metadata": {},
   "outputs": [
    {
     "name": "stdout",
     "output_type": "stream",
     "text": [
      "True\n",
      "[0, 1, 100, 3, 4, 5, 6, 7, 8]\n"
     ]
    }
   ],
   "source": [
    "ls7=list1      #引用\n",
    "ls7[2]=100\n",
    "print(ls7==list1)\n",
    "print(list1)"
   ]
  },
  {
   "cell_type": "code",
   "execution_count": 105,
   "metadata": {},
   "outputs": [
    {
     "name": "stdout",
     "output_type": "stream",
     "text": [
      "True\n",
      "False\n"
     ]
    }
   ],
   "source": [
    "a = list(range(4))   ##浅拷贝\n",
    "b = a.copy()\n",
    "print(a == b)\n",
    "a[2] = 10\n",
    "print(a == b)"
   ]
  },
  {
   "cell_type": "code",
   "execution_count": 109,
   "metadata": {},
   "outputs": [
    {
     "name": "stdout",
     "output_type": "stream",
     "text": [
      "True\n",
      "False\n",
      "True\n",
      "True\n",
      "[1, [2, 100, 4], 5]\n",
      "[1, [2, 100, 4], 5]\n"
     ]
    }
   ],
   "source": [
    "a = [1, [2, 3, 4], 5]\n",
    "b = a.copy()\n",
    "print(a == b)\n",
    "a[2] = 10\n",
    "print(a == b)\n",
    "a[2] = b[2]\n",
    "print(a == b)\n",
    "a[1][1] = 100\n",
    "print(a == b)\n",
    "print(a)\n",
    "print(b)"
   ]
  },
  {
   "cell_type": "code",
   "execution_count": 113,
   "metadata": {},
   "outputs": [
    {
     "name": "stdout",
     "output_type": "stream",
     "text": [
      "False\n",
      "[1, [2, 100, 4], 5]\n",
      "[1, [2, 50, 4], 5]\n"
     ]
    }
   ],
   "source": [
    "import copy\n",
    "c = copy.deepcopy(a)\n",
    "c[1][1] = 50\n",
    "print(a == c)\n",
    "print(a)\n",
    "print(c)"
   ]
  },
  {
   "cell_type": "code",
   "execution_count": 115,
   "metadata": {},
   "outputs": [
    {
     "name": "stdout",
     "output_type": "stream",
     "text": [
      "in the bar..\n",
      "in the foo..\n"
     ]
    }
   ],
   "source": [
    "def bar():\n",
    "    print(\"in the bar..\")\n",
    "def foo(func):\n",
    "    func()\n",
    "    print(\"in the foo..\")\n",
    "\n",
    "foo(bar)"
   ]
  },
  {
   "cell_type": "code",
   "execution_count": 119,
   "metadata": {},
   "outputs": [
    {
     "name": "stdout",
     "output_type": "stream",
     "text": [
      "2\n",
      "1\n"
     ]
    }
   ],
   "source": [
    "import sys\n",
    "y=1\n",
    "print(sys.getrefcount(x))\n",
    "print(sys.getrefcount([]))"
   ]
  },
  {
   "cell_type": "code",
   "execution_count": 123,
   "metadata": {},
   "outputs": [
    {
     "name": "stdout",
     "output_type": "stream",
     "text": [
      "1\n",
      "6\n",
      "5\n",
      "3\n",
      "5\n",
      "5\n",
      "4\n",
      "6\n",
      "1\n",
      "4\n",
      "------------------------------\n",
      "3\n",
      "4\n",
      "3\n",
      "4\n",
      "1\n",
      "2\n",
      "4\n",
      "4\n",
      "1\n",
      "2\n",
      "------------------------------\n"
     ]
    }
   ],
   "source": [
    "import random\n",
    "for i in range(10):\n",
    "    print(random.randint(1,6))\n",
    "print('-'*30)\n",
    "for i in range(10):\n",
    "    print(random.randrange(1, 5))\n",
    "print('-' * 30)"
   ]
  },
  {
   "cell_type": "code",
   "execution_count": 124,
   "metadata": {},
   "outputs": [
    {
     "data": {
      "text/plain": [
       "(1, 1, 1, 1, 1)"
      ]
     },
     "execution_count": 124,
     "metadata": {},
     "output_type": "execute_result"
    }
   ],
   "source": [
    "t3 = (1,) * 5\n",
    "t3"
   ]
  },
  {
   "cell_type": "code",
   "execution_count": 128,
   "metadata": {},
   "outputs": [
    {
     "name": "stdout",
     "output_type": "stream",
     "text": [
      "([1], [1], [1])\n"
     ]
    },
    {
     "data": {
      "text/plain": [
       "([100], [100], [100])"
      ]
     },
     "execution_count": 128,
     "metadata": {},
     "output_type": "execute_result"
    }
   ],
   "source": [
    "t2 = ([1],) * 3\n",
    "print(t2)\n",
    "t2[1][0] = 100\n",
    "t2"
   ]
  },
  {
   "cell_type": "code",
   "execution_count": 132,
   "metadata": {},
   "outputs": [
    {
     "name": "stdout",
     "output_type": "stream",
     "text": [
      "hello !\n",
      "magedu.com\n"
     ]
    }
   ],
   "source": [
    "s5 = \"hello !\\nmagedu.com\"\n",
    "print(s5)"
   ]
  },
  {
   "cell_type": "code",
   "execution_count": 2,
   "metadata": {},
   "outputs": [],
   "source": [
    "ord?"
   ]
  },
  {
   "cell_type": "code",
   "execution_count": 5,
   "metadata": {},
   "outputs": [
    {
     "data": {
      "text/plain": [
       "bytearray(b'Acba')"
      ]
     },
     "execution_count": 5,
     "metadata": {},
     "output_type": "execute_result"
    }
   ],
   "source": [
    "b = bytearray()\n",
    "b.append(97)\n",
    "b.append(99)\n",
    "b.insert(1,98)\n",
    "b.extend([65,66,67])\n",
    "b.remove(66)\n",
    "b.pop()\n",
    "b.reverse()\n",
    "b"
   ]
  },
  {
   "cell_type": "code",
   "execution_count": 10,
   "metadata": {},
   "outputs": [
    {
     "name": "stdout",
     "output_type": "stream",
     "text": [
      "aaabbbcc\n"
     ]
    }
   ],
   "source": [
    "x='aaabbbccc'\n",
    "print(x[:-1])"
   ]
  },
  {
   "cell_type": "code",
   "execution_count": 11,
   "metadata": {
    "scrolled": true
   },
   "outputs": [
    {
     "name": "stdout",
     "output_type": "stream",
     "text": [
      "67\n"
     ]
    }
   ],
   "source": [
    "print('0123456789'[-4:8])"
   ]
  },
  {
   "cell_type": "code",
   "execution_count": 12,
   "metadata": {},
   "outputs": [
    {
     "name": "stdout",
     "output_type": "stream",
     "text": [
      "[0, 1, 2] [0, 1, 2]\n",
      "140304039864200 140304039780104\n",
      "[100, 1, 2] [0, 1, 2]\n"
     ]
    }
   ],
   "source": [
    "x = [0, 1, 2]\n",
    "y = x[:]\n",
    "print(x, y)\n",
    "print(id(x), id(y))\n",
    "x[0] = 100\n",
    "print(x, y)"
   ]
  },
  {
   "cell_type": "code",
   "execution_count": 14,
   "metadata": {},
   "outputs": [
    {
     "ename": "TypeError",
     "evalue": "'int' object is not subscriptable",
     "output_type": "error",
     "traceback": [
      "\u001b[0;31m---------------------------------------------------------------------------\u001b[0m",
      "\u001b[0;31mTypeError\u001b[0m                                 Traceback (most recent call last)",
      "\u001b[0;32m<ipython-input-14-a6420e55e2f0>\u001b[0m in \u001b[0;36m<module>\u001b[0;34m\u001b[0m\n\u001b[1;32m      2\u001b[0m \u001b[0mz\u001b[0m \u001b[0;34m=\u001b[0m \u001b[0;32mNone\u001b[0m\u001b[0;34m\u001b[0m\u001b[0;34m\u001b[0m\u001b[0m\n\u001b[1;32m      3\u001b[0m \u001b[0mz\u001b[0m \u001b[0;34m=\u001b[0m \u001b[0;36m1\u001b[0m\u001b[0;34m\u001b[0m\u001b[0;34m\u001b[0m\u001b[0m\n\u001b[0;32m----> 4\u001b[0;31m \u001b[0mx\u001b[0m \u001b[0;34m=\u001b[0m \u001b[0mz\u001b[0m\u001b[0;34m[\u001b[0m\u001b[0;34m:\u001b[0m\u001b[0;34m]\u001b[0m \u001b[0;31m# 可以吗\u001b[0m\u001b[0;34m\u001b[0m\u001b[0;34m\u001b[0m\u001b[0m\n\u001b[0m",
      "\u001b[0;31mTypeError\u001b[0m: 'int' object is not subscriptable"
     ]
    }
   ],
   "source": [
    "x = [0, 1, 2]\n",
    "z = None\n",
    "z = 1\n",
    "x = z[:] # 可以吗"
   ]
  },
  {
   "cell_type": "code",
   "execution_count": 17,
   "metadata": {},
   "outputs": [
    {
     "data": {
      "text/plain": [
       "[0, 70]"
      ]
     },
     "execution_count": 17,
     "metadata": {},
     "output_type": "execute_result"
    }
   ],
   "source": [
    "x = [0, 1, 2, 3, 4]\n",
    "z = list()\n",
    "z[:] = x\n",
    "#z[1:2] = 10 # 可以吗？\n",
    "z[1:2] = (10,)\n",
    "z[3:] = (20,)\n",
    "z[1:] = (40, 50 ,60, 70)\n",
    "z[1:-1] = ()\n",
    "z"
   ]
  },
  {
   "cell_type": "code",
   "execution_count": 22,
   "metadata": {},
   "outputs": [
    {
     "name": "stdout",
     "output_type": "stream",
     "text": [
      "[1, 2, 'aaa', (2, 2), 'mn']\n"
     ]
    }
   ],
   "source": [
    "a = [1,2,['1',2],(2,2),'mn']\n",
    "len(a)\n",
    "a[2]='aaa'\n",
    "print(a)"
   ]
  },
  {
   "cell_type": "code",
   "execution_count": 23,
   "metadata": {},
   "outputs": [
    {
     "name": "stdout",
     "output_type": "stream",
     "text": [
      "['a', 'abc', 1, 2, [1, 2]]\n"
     ]
    }
   ],
   "source": [
    "L1=['a','abc',1,2]\n",
    "L1.append([1,2])\n",
    "print(L1)"
   ]
  },
  {
   "cell_type": "code",
   "execution_count": 24,
   "metadata": {},
   "outputs": [
    {
     "name": "stdout",
     "output_type": "stream",
     "text": [
      "[1, 1, 2]\n"
     ]
    }
   ],
   "source": [
    "L2=[1,1]\n",
    "add=L2[0]+L2[1]\n",
    "L2.append(add)\n",
    "print(L2)"
   ]
  },
  {
   "cell_type": "code",
   "execution_count": 25,
   "metadata": {},
   "outputs": [
    {
     "data": {
      "text/plain": [
       "[1, 1, 2]"
      ]
     },
     "execution_count": 25,
     "metadata": {},
     "output_type": "execute_result"
    }
   ],
   "source": [
    "L2"
   ]
  },
  {
   "cell_type": "code",
   "execution_count": 30,
   "metadata": {},
   "outputs": [
    {
     "data": {
      "text/plain": [
       "[1, 1, 3, 3, 4, 2, 5, 4]"
      ]
     },
     "execution_count": 30,
     "metadata": {},
     "output_type": "execute_result"
    }
   ],
   "source": [
    "L2.insert(-1,5)\n",
    "L2"
   ]
  },
  {
   "cell_type": "code",
   "execution_count": 35,
   "metadata": {},
   "outputs": [
    {
     "name": "stdout",
     "output_type": "stream",
     "text": [
      "[1, 'a', 2, 3]\n",
      "[1, 'a', 2, 'b', 3]\n",
      "[1, 'a', 2, 'b', 3, 'c']\n",
      "[1, 'a', 2, 'b', 3, 'c', 'd']\n",
      "['a', 1, 'a', 2, 'b', 3, 'c', 'd']\n"
     ]
    }
   ],
   "source": [
    ">>> L2=[1,2,3]\n",
    ">>> L2.insert(1,'a')\n",
    ">>> print(L2)\n",
    ">>> L2.insert(-1,'b')\n",
    ">>> print(L2)\n",
    ">>> L2.insert(5,'c')\n",
    ">>> print(L2)\n",
    "L2.insert(100,'d')\n",
    "print(L2)\n",
    "L2.insert(-100,'a')\n",
    "print(L2)"
   ]
  },
  {
   "cell_type": "code",
   "execution_count": 36,
   "metadata": {},
   "outputs": [
    {
     "name": "stdout",
     "output_type": "stream",
     "text": [
      "[1, 2, 0, 1, 2]\n"
     ]
    }
   ],
   "source": [
    ">>> L1=[1,2]\n",
    ">>> L1.extend(range(3))\n",
    ">>> print(L1)"
   ]
  },
  {
   "cell_type": "code",
   "execution_count": 37,
   "metadata": {},
   "outputs": [
    {
     "name": "stdout",
     "output_type": "stream",
     "text": [
      "[1, 2, 'a', 'b']\n"
     ]
    }
   ],
   "source": [
    ">>> L1=[1,2]\n",
    ">>> L2=['a','b']\n",
    ">>> L3=L1+L2\n",
    ">>> print(L3)"
   ]
  },
  {
   "cell_type": "code",
   "execution_count": 40,
   "metadata": {},
   "outputs": [
    {
     "data": {
      "text/plain": [
       "[1, 1, 1]"
      ]
     },
     "execution_count": 40,
     "metadata": {},
     "output_type": "execute_result"
    }
   ],
   "source": [
    ">>> L1=[1]\n",
    "L1*3\n",
    "def main():\n",
    "names = ['关羽', '张飞', '赵云', '马超', '黄忠']\n",
    "subjs = ['语文', '数学', '英语']\n",
    "scores = [[0] * 3 for i in range(5)]\n",
    "for row, name in enumerate(names):\n",
    "print('请输入%s的成绩' % name)\n",
    "for col, subj in enumerate(subjs):\n",
    "scores[row][col] = float(input(subj + ': '))\n",
    "print(scores)\n",
    "\n"
   ]
  },
  {
   "cell_type": "code",
   "execution_count": 46,
   "metadata": {},
   "outputs": [
    {
     "data": {
      "text/plain": [
       "[[0, 0, 0], [0, 0, 0], [0, 0, 0], [0, 0, 0], [0, 0, 0]]"
      ]
     },
     "execution_count": 46,
     "metadata": {},
     "output_type": "execute_result"
    }
   ],
   "source": [
    "[[0] * 3 for i in range(5)]\n"
   ]
  },
  {
   "cell_type": "code",
   "execution_count": 47,
   "metadata": {},
   "outputs": [
    {
     "data": {
      "text/plain": [
       "[1, 1, 1]"
      ]
     },
     "execution_count": 47,
     "metadata": {},
     "output_type": "execute_result"
    }
   ],
   "source": [
    "L2"
   ]
  },
  {
   "cell_type": "code",
   "execution_count": 48,
   "metadata": {},
   "outputs": [],
   "source": [
    "L2.remove(1)"
   ]
  },
  {
   "cell_type": "code",
   "execution_count": 49,
   "metadata": {},
   "outputs": [
    {
     "data": {
      "text/plain": [
       "[1, 1]"
      ]
     },
     "execution_count": 49,
     "metadata": {},
     "output_type": "execute_result"
    }
   ],
   "source": [
    "L2"
   ]
  },
  {
   "cell_type": "code",
   "execution_count": 50,
   "metadata": {},
   "outputs": [
    {
     "data": {
      "text/plain": [
       "1"
      ]
     },
     "execution_count": 50,
     "metadata": {},
     "output_type": "execute_result"
    }
   ],
   "source": [
    "L2.pop(1)"
   ]
  },
  {
   "cell_type": "code",
   "execution_count": 51,
   "metadata": {},
   "outputs": [
    {
     "name": "stdout",
     "output_type": "stream",
     "text": [
      "\u001b[H\u001b[2J"
     ]
    }
   ],
   "source": [
    "clear(L2)"
   ]
  },
  {
   "cell_type": "code",
   "execution_count": 52,
   "metadata": {},
   "outputs": [
    {
     "data": {
      "text/plain": [
       "[1]"
      ]
     },
     "execution_count": 52,
     "metadata": {},
     "output_type": "execute_result"
    }
   ],
   "source": [
    "L2"
   ]
  },
  {
   "cell_type": "code",
   "execution_count": 53,
   "metadata": {},
   "outputs": [
    {
     "name": "stdout",
     "output_type": "stream",
     "text": [
      "\u001b[H\u001b[2J"
     ]
    }
   ],
   "source": [
    "clear(L2)"
   ]
  },
  {
   "cell_type": "code",
   "execution_count": 56,
   "metadata": {},
   "outputs": [
    {
     "data": {
      "text/plain": [
       "[]"
      ]
     },
     "execution_count": 56,
     "metadata": {},
     "output_type": "execute_result"
    }
   ],
   "source": [
    "L2.clear()\n",
    "L2"
   ]
  },
  {
   "cell_type": "code",
   "execution_count": 60,
   "metadata": {},
   "outputs": [
    {
     "data": {
      "text/plain": [
       "[]"
      ]
     },
     "execution_count": 60,
     "metadata": {},
     "output_type": "execute_result"
    }
   ],
   "source": [
    "L1=[1,2,3,4,5]\n",
    "L1.clear()\n",
    "L1"
   ]
  },
  {
   "cell_type": "code",
   "execution_count": 67,
   "metadata": {},
   "outputs": [
    {
     "name": "stdout",
     "output_type": "stream",
     "text": [
      "True\n"
     ]
    }
   ],
   "source": [
    "L1=[100, 20, 31]\n",
    "L1.sort()\n",
    "L1\n",
    "print(100 in L1)"
   ]
  },
  {
   "cell_type": "code",
   "execution_count": 70,
   "metadata": {},
   "outputs": [],
   "source": [
    "if 'a' in ['a','b','c','d']:\n",
    "    pass"
   ]
  },
  {
   "cell_type": "code",
   "execution_count": 71,
   "metadata": {},
   "outputs": [
    {
     "name": "stdout",
     "output_type": "stream",
     "text": [
      "20\n",
      "31\n",
      "100\n"
     ]
    }
   ],
   "source": [
    "for i in L1:\n",
    "    print(i)"
   ]
  },
  {
   "cell_type": "code",
   "execution_count": 129,
   "metadata": {},
   "outputs": [
    {
     "name": "stdout",
     "output_type": "stream",
     "text": [
      "[1, 1, 2, 3, 5, 8, 13, 21, 34, 55, 89]\n"
     ]
    }
   ],
   "source": [
    "a=[1,1]\n",
    "for i in range(1,100):\n",
    "    if a[i]+a[i-1] <= 100:\n",
    "        a+=[a[i]+a[i-1]]\n",
    "    else:\n",
    "        break\n",
    "print(a)"
   ]
  },
  {
   "cell_type": "code",
   "execution_count": 97,
   "metadata": {},
   "outputs": [
    {
     "name": "stdout",
     "output_type": "stream",
     "text": [
      "[1, 1, 2, 3, 5, 8, 13, 21, 34, 55, 89, 144]\n"
     ]
    }
   ],
   "source": [
    "list=[1,1]\n",
    "for i in range(20):\n",
    "    if list[len(list)-1] <= 100:\n",
    "        list.append(list[i]+list[i+1])\n",
    "    else:\n",
    "        break\n",
    "print(list)"
   ]
  },
  {
   "cell_type": "code",
   "execution_count": 106,
   "metadata": {},
   "outputs": [
    {
     "name": "stdout",
     "output_type": "stream",
     "text": [
      "[1, 1, 2, 3, 5, 8, 13, 21, 34, 55, 89, 144]\n"
     ]
    }
   ],
   "source": [
    "list=[1,1]\n",
    "for i in range(2,20):\n",
    "    if list[len(list)-1] <= 100:\n",
    "        list+=[list[i-1]+list[i-2]]\n",
    "    else:\n",
    "        break\n",
    "print(list)"
   ]
  },
  {
   "cell_type": "code",
   "execution_count": 103,
   "metadata": {},
   "outputs": [
    {
     "name": "stdout",
     "output_type": "stream",
     "text": [
      "[1, 1, 2, 3, 5, 8, 13, 21, 34, 55, 89, 144, 233, 377, 610, 987, 1597, 2584, 4181, 6765]\n"
     ]
    }
   ],
   "source": [
    "    f = [1 , 1]\n",
    "    for i in range(2, 20):\n",
    "        f += [f[i - 1] + f[i - 2]]\n",
    "        # f.append(f[i - 1] + f[i - 2])\n",
    "    print(f)"
   ]
  },
  {
   "cell_type": "code",
   "execution_count": 104,
   "metadata": {},
   "outputs": [
    {
     "name": "stdout",
     "output_type": "stream",
     "text": [
      "[1, 1, 2, 3, 5, 8, 13, 21, 34, 55, 89, 144]\n"
     ]
    }
   ],
   "source": [
    "list=[1,1]\n",
    "for i in range(2,20):\n",
    "    if list[len(list)-1] <= 100:\n",
    "        list.append(list[i-1]+list[i-2])\n",
    "    else:\n",
    "        break\n",
    "print(list)"
   ]
  },
  {
   "cell_type": "code",
   "execution_count": 130,
   "metadata": {},
   "outputs": [
    {
     "name": "stdout",
     "output_type": "stream",
     "text": [
      "140304039936584\n",
      "140304108558472\n"
     ]
    }
   ],
   "source": [
    "# del list\n",
    "a=list(range(10))\n",
    "b=list(range(10))\n",
    "\n",
    "print(id(a))\n",
    "print(id(b))"
   ]
  },
  {
   "cell_type": "code",
   "execution_count": 115,
   "metadata": {},
   "outputs": [
    {
     "name": "stdout",
     "output_type": "stream",
     "text": [
      "True\n",
      "False\n"
     ]
    }
   ],
   "source": [
    "a = list(range(4))\n",
    "b = a.copy()\n",
    "print(a == b)\n",
    "a[2] = 10  ##对于字面常量，copy()完全复制出了两份，因此重新对a[2]赋值不会影响到b列表，因此后面两个列表是不等价的\n",
    "print(a == b)"
   ]
  },
  {
   "cell_type": "code",
   "execution_count": 125,
   "metadata": {},
   "outputs": [
    {
     "name": "stdout",
     "output_type": "stream",
     "text": [
      "True\n",
      "True\n",
      "140304049202120\n",
      "140304049203016\n"
     ]
    }
   ],
   "source": [
    ">>> a = [1,2,[2,3,4,'a'],5]\n",
    ">>> b=a.copy()\n",
    ">>> print(a==b)  ##b从a列表copy后两个列表是等价的\n",
    ">>> a[2][0] = 'hello' ##这次修改的是a列表的某个列表元素中的元素，由于修改列表的元素不会对列表的地址产生修改，因此a[2]在内存中指向的仍然是原来的列表，只是这个列表的元素发生了变化，而b列表也是指向这个列表，因此这时两个列表是等价的\n",
    ">>> print(a==b)\n",
    "print(id(a))\n",
    "print(id(b))"
   ]
  },
  {
   "cell_type": "code",
   "execution_count": 128,
   "metadata": {},
   "outputs": [
    {
     "name": "stdout",
     "output_type": "stream",
     "text": [
      "9331040\n",
      "9331040\n",
      "140304039791304\n",
      "140304039938824\n"
     ]
    }
   ],
   "source": [
    "import copy\n",
    "a = [1, [2, 3], 4]\n",
    "b = copy.deepcopy(a)\n",
    "print(id(a[0]))\n",
    "print(id(b[0]))\n",
    "print(id(a[1]))\n",
    "print(id(b[1]))"
   ]
  },
  {
   "cell_type": "code",
   "execution_count": 135,
   "metadata": {},
   "outputs": [
    {
     "data": {
      "text/plain": [
       "['a', 'c']"
      ]
     },
     "execution_count": 135,
     "metadata": {},
     "output_type": "execute_result"
    }
   ],
   "source": [
    "import random\n",
    "random.sample(['a', 'b', 'c', 'd'], 2)"
   ]
  },
  {
   "cell_type": "code",
   "execution_count": 147,
   "metadata": {},
   "outputs": [
    {
     "data": {
      "text/plain": [
       "61"
      ]
     },
     "execution_count": 147,
     "metadata": {},
     "output_type": "execute_result"
    }
   ],
   "source": [
    "random.getrandbits(8)"
   ]
  },
  {
   "cell_type": "code",
   "execution_count": 152,
   "metadata": {},
   "outputs": [
    {
     "data": {
      "text/plain": [
       "0.9779333058149386"
      ]
     },
     "execution_count": 152,
     "metadata": {},
     "output_type": "execute_result"
    }
   ],
   "source": [
    "import random\n",
    "random.random()"
   ]
  },
  {
   "cell_type": "code",
   "execution_count": 154,
   "metadata": {},
   "outputs": [
    {
     "name": "stdout",
     "output_type": "stream",
     "text": [
      "([1], [1], [1])\n",
      "([100], [100], [100])\n"
     ]
    }
   ],
   "source": [
    "t2 = ([1],) * 3\n",
    "print(t2)\n",
    "t2[0][0] = 100\n",
    "print(t2)"
   ]
  },
  {
   "cell_type": "code",
   "execution_count": 155,
   "metadata": {},
   "outputs": [
    {
     "name": "stdout",
     "output_type": "stream",
     "text": [
      "c:\\windows\\nt\n"
     ]
    }
   ],
   "source": [
    "s7 = R\"c:\\windows\\nt\"\n",
    "print(s7)"
   ]
  },
  {
   "cell_type": "code",
   "execution_count": 3,
   "metadata": {},
   "outputs": [
    {
     "name": "stdout",
     "output_type": "stream",
     "text": [
      "1-2-3-4\n"
     ]
    }
   ],
   "source": [
    "print('-'.join('1234'))"
   ]
  },
  {
   "cell_type": "code",
   "execution_count": 166,
   "metadata": {},
   "outputs": [],
   "source": [
    "L2.insert?"
   ]
  },
  {
   "cell_type": "code",
   "execution_count": 1,
   "metadata": {},
   "outputs": [
    {
     "data": {
      "text/plain": [
       "2500"
      ]
     },
     "execution_count": 1,
     "metadata": {},
     "output_type": "execute_result"
    }
   ],
   "source": [
    "sum(range(1,100,2))"
   ]
  },
  {
   "cell_type": "code",
   "execution_count": 5,
   "metadata": {},
   "outputs": [
    {
     "data": {
      "text/plain": [
       "15"
      ]
     },
     "execution_count": 5,
     "metadata": {},
     "output_type": "execute_result"
    }
   ],
   "source": [
    "L1=[1,2,3,4,5]\n",
    "sum(L1)"
   ]
  },
  {
   "cell_type": "code",
   "execution_count": null,
   "metadata": {},
   "outputs": [],
   "source": []
  }
 ],
 "metadata": {
  "kernelspec": {
   "display_name": "Python 3",
   "language": "python",
   "name": "python3"
  },
  "language_info": {
   "codemirror_mode": {
    "name": "ipython",
    "version": 3
   },
   "file_extension": ".py",
   "mimetype": "text/x-python",
   "name": "python",
   "nbconvert_exporter": "python",
   "pygments_lexer": "ipython3",
   "version": "3.6.9"
  }
 },
 "nbformat": 4,
 "nbformat_minor": 2
}
