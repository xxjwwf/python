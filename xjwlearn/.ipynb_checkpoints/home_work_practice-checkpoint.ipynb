{
 "cells": [
  {
   "cell_type": "code",
   "execution_count": 6,
   "metadata": {},
   "outputs": [
    {
     "name": "stdout",
     "output_type": "stream",
     "text": [
      "[5, 13, 25, 18, 7, 15, 25, 15]\n"
     ]
    }
   ],
   "source": [
    "#利用已有列表来生成新列表\n",
    "lst = [1,4,9,16,2,5,10,15]\n",
    "lst_new=[]\n",
    "for i in range(len(lst)-1):\n",
    "    lst_new.append(lst[i]+lst[i+1])\n",
    "else:\n",
    "    lst_new.append(lst[len(lst)-1])    ##最后一个元素直接添加\n",
    "print(lst_new)\n",
    "    "
   ]
  },
  {
   "cell_type": "code",
   "execution_count": 12,
   "metadata": {},
   "outputs": [
    {
     "name": "stdout",
     "output_type": "stream",
     "text": [
      "(5, 3) (1, 2) (17, 2)\n"
     ]
    }
   ],
   "source": [
    "#生成随机整数，并且排序\n",
    "import random\n",
    "sort_dict={}\n",
    "for i in range(20):\n",
    "    n1=random.randint(1,21)\n",
    "    if n1 not in sort_dict:\n",
    "        sort_dict[n1]=1     #初次进入字典的元素赋值为1\n",
    "    else:\n",
    "        sort_dict[n1]+=1    #后续相同的元素值每次加1\n",
    "L1=sorted(sort_dict.items(),key=lambda sort_dict:sort_dict[1],reverse=True)  #排序列表\n",
    "print(L1[0],L1[1],L1[2])"
   ]
  },
  {
   "cell_type": "code",
   "execution_count": 20,
   "metadata": {},
   "outputs": [
    {
     "name": "stdout",
     "output_type": "stream",
     "text": [
      "000001.cxvljorqzm\n",
      "000002.yisrqdwucl\n",
      "000003.rlyxsijoqk\n",
      "000004.jnlmoeasbw\n",
      "000005.ifnlhgqvze\n",
      "000006.otnukyjilg\n",
      "000007.axhecznwik\n",
      "000008.sepmrybxkf\n",
      "000009.wblyzghckj\n",
      "000010.jeprbuomaz\n",
      "000011.ixntkmvowa\n",
      "000012.zxdysubtpq\n",
      "000013.wxmeqdfjil\n",
      "000014.wjuqkinsxd\n",
      "000015.panyuhtebz\n",
      "000016.udghtjoecs\n",
      "000017.yopgmxdbnt\n",
      "000018.trnyqlgzci\n",
      "000019.buqlmdkpoc\n",
      "000020.gsxflawvoy\n",
      "000021.bfvywlocjz\n",
      "000022.lokcximhep\n",
      "000023.aktyixbceg\n",
      "000024.nsobfjumig\n",
      "000025.kujmecoqvl\n",
      "000026.xuayodlrcv\n",
      "000027.pvdqofmnxk\n",
      "000028.vmdeipwubo\n",
      "000029.yzinowpdft\n",
      "000030.ezjgfkpubv\n",
      "000031.cbgrsqxnve\n",
      "000032.drolfnihay\n",
      "000033.wtagfrxszm\n",
      "000034.yxdruscmtq\n",
      "000035.xrqmbdfiln\n",
      "000036.sqjdvynhfo\n",
      "000037.ngrjvzmetd\n",
      "000038.mkpzyrgdjx\n",
      "000039.lxtzjchnid\n",
      "000040.xbuyzaksne\n",
      "000041.itjzekvlur\n",
      "000042.tpeufgcamz\n",
      "000043.ycmbtqdinj\n",
      "000044.pmkzguclvf\n",
      "000045.ygzdvefwus\n",
      "000046.cvlnszgkuy\n",
      "000047.blpuinvkze\n",
      "000048.rlnedoxypf\n",
      "000049.zxsepcrjio\n",
      "000050.wlcovjrmap\n",
      "000051.jbtalwskgr\n",
      "000052.rjmflqzbyg\n",
      "000053.tubazwjdlx\n",
      "000054.lcoiftyqxw\n",
      "000055.akwpjgubsr\n",
      "000056.hvsuiamlrc\n",
      "000057.pdtvhaufbs\n",
      "000058.blcevukpza\n",
      "000059.zgusmdwcvl\n",
      "000060.vrxqeaftch\n",
      "000061.keuqocmvhd\n",
      "000062.rkficjzmwx\n",
      "000063.ngwprhdyox\n",
      "000064.trhfedpzwa\n",
      "000065.kuclndxpgm\n",
      "000066.bpgxyeinzw\n",
      "000067.hcxgarwtpy\n",
      "000068.dckfebtrgx\n",
      "000069.ydsnkzmhlc\n",
      "000070.ierybnhxvf\n",
      "000071.zbpqldvuox\n",
      "000072.npvqwlehct\n",
      "000073.djxlgveryb\n",
      "000074.nmrvcxyptz\n",
      "000075.fgbwmrokxp\n",
      "000076.slaqkvorxg\n",
      "000077.dxmkglfosp\n",
      "000078.obltysgfrn\n",
      "000079.kncsqwoxed\n",
      "000080.qtkdenzpfb\n",
      "000081.uijmzhqfgr\n",
      "000082.gvzoqpnwcl\n",
      "000083.rmvpbqctka\n",
      "000084.phdcfvkuxg\n",
      "000085.txnaiupqdo\n",
      "000086.uxbyzrifas\n",
      "000087.lpscbuhgqn\n",
      "000088.tengyiacjo\n",
      "000089.tvaeilgrny\n",
      "000090.tpwyivudjn\n",
      "000091.kudgixfzlj\n",
      "000092.iwctbgfpuh\n",
      "000093.kmaivubxwf\n",
      "000094.mgdstpaoxz\n",
      "000095.xurfqziwmy\n",
      "000096.ofdkmvzxhy\n",
      "000097.lqkwtozvfx\n",
      "000098.zqhtrmunwk\n",
      "000099.bauhmwlcjd\n",
      "000100.ojwaqzstfp\n"
     ]
    }
   ],
   "source": [
    "#生成ID号,六位数字加上十位字母\n",
    "import random\n",
    "for i in range(1,101):\n",
    "    str1='%06d' % i\n",
    "    str2=''.join(random.sample('abcdefghijklmnopqrstuvwxyz',10))\n",
    "    print('{}.{}'.format(str1,str2))\n",
    "#     print(string1,string2,sep='.')"
   ]
  },
  {
   "cell_type": "code",
   "execution_count": 24,
   "metadata": {},
   "outputs": [
    {
     "name": "stdout",
     "output_type": "stream",
     "text": [
      "[('xt', 3), ('he', 2), ('cm', 2), ('cp', 2), ('ms', 2), ('ym', 2), ('th', 2), ('rq', 2), ('bv', 1), ('ev', 1), ('tu', 1), ('qv', 1), ('zf', 1), ('wp', 1), ('yu', 1), ('da', 1), ('ib', 1), ('nu', 1), ('ot', 1), ('fk', 1), ('ql', 1), ('fi', 1), ('dn', 1), ('ni', 1), ('pt', 1), ('ok', 1), ('rm', 1), ('ds', 1), ('bn', 1), ('om', 1), ('cs', 1), ('kp', 1), ('oy', 1), ('xh', 1), ('up', 1), ('yn', 1), ('ns', 1), ('rc', 1), ('qf', 1), ('tc', 1), ('gy', 1), ('wn', 1), ('tg', 1), ('ty', 1), ('ij', 1), ('sd', 1), ('fp', 1), ('py', 1), ('al', 1), ('eb', 1), ('xv', 1), ('rl', 1), ('dr', 1), ('fv', 1), ('lc', 1), ('do', 1), ('oc', 1), ('gd', 1), ('gf', 1), ('ue', 1), ('vz', 1), ('rx', 1), ('kj', 1), ('px', 1), ('fm', 1), ('sf', 1), ('ci', 1), ('qe', 1), ('nk', 1), ('jz', 1), ('xl', 1), ('or', 1), ('ap', 1), ('lu', 1), ('fa', 1), ('tm', 1), ('ls', 1), ('xf', 1), ('yv', 1), ('mx', 1), ('xd', 1), ('ye', 1), ('cf', 1), ('sr', 1), ('zn', 1), ('us', 1), ('vw', 1), ('nc', 1), ('bq', 1), ('ie', 1), ('dt', 1)]\n"
     ]
    }
   ],
   "source": [
    "#生成随机字母组合并且统计出现的次数\n",
    "import random\n",
    "sort_dict={}\n",
    "for i in range(100):\n",
    "    str1=''.join(random.sample('abcdefghijklmnopqrstuvwxyz',2))\n",
    "    if str1 not in sort_dict:\n",
    "        sort_dict[str1]=1\n",
    "    else:\n",
    "        sort_dict[str1]+=1\n",
    "L1=sorted(sort_dict.items(),key=lambda sort_dict:sort_dict[1],reverse=True)\n",
    "print(L1)"
   ]
  },
  {
   "cell_type": "code",
   "execution_count": null,
   "metadata": {},
   "outputs": [],
   "source": []
  }
 ],
 "metadata": {
  "kernelspec": {
   "display_name": "Python 3",
   "language": "python",
   "name": "python3"
  },
  "language_info": {
   "codemirror_mode": {
    "name": "ipython",
    "version": 3
   },
   "file_extension": ".py",
   "mimetype": "text/x-python",
   "name": "python",
   "nbconvert_exporter": "python",
   "pygments_lexer": "ipython3",
   "version": "3.6.9"
  }
 },
 "nbformat": 4,
 "nbformat_minor": 2
}
