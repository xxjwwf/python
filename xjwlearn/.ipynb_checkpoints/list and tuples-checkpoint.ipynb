{
 "cells": [
  {
   "cell_type": "code",
   "execution_count": 1,
   "metadata": {},
   "outputs": [
    {
     "name": "stdout",
     "output_type": "stream",
     "text": [
      "1 2 3\n",
      "-2 -3 -4\n",
      "3 -4 -4 -3\n"
     ]
    }
   ],
   "source": [
    "#地板除法，向下取整\n",
    "print(3//2, 5//2, 7//2)\n",
    "print(-3//2, -5//2, -7//2)\n",
    "print(7//2, 7//-2, -7//2, -(7//2))"
   ]
  },
  {
   "cell_type": "code",
   "execution_count": 3,
   "metadata": {},
   "outputs": [
    {
     "name": "stdout",
     "output_type": "stream",
     "text": [
      "int ------------\n",
      "1 1 1\n",
      "-1 -1 -1 1\n"
     ]
    }
   ],
   "source": [
    "#int取整，只截取整数部分\n",
    "print('int ------------')\n",
    "print(int(1.4), int(1.5), int(1.6))\n",
    "print(int(-1.4), int(-1.5), int(-1.6),int(1.99999))"
   ]
  },
  {
   "cell_type": "code",
   "execution_count": 5,
   "metadata": {},
   "outputs": [
    {
     "name": "stdout",
     "output_type": "stream",
     "text": [
      "2 -3\n",
      "3 -2\n"
     ]
    }
   ],
   "source": [
    "#floor 向下取整，ceil向上取整\n",
    "import math\n",
    "print(math.floor(2.5), math.floor(-2.5))\n",
    "print(math.ceil(2.5), math.ceil(-2.5))"
   ]
  },
  {
   "cell_type": "code",
   "execution_count": 10,
   "metadata": {},
   "outputs": [
    {
     "data": {
      "text/plain": [
       "(2, 2, 4)"
      ]
     },
     "execution_count": 10,
     "metadata": {},
     "output_type": "execute_result"
    }
   ],
   "source": [
    "#四舍五入，取偶\n",
    "round(1.5),round(2.5),round(3.5)"
   ]
  },
  {
   "cell_type": "code",
   "execution_count": 11,
   "metadata": {},
   "outputs": [
    {
     "name": "stdout",
     "output_type": "stream",
     "text": [
      "1\n",
      "3\n",
      "9\n",
      "27\n",
      "81\n",
      "243\n",
      "729\n",
      "2187\n",
      "6561\n",
      "19683\n",
      "\n"
     ]
    }
   ],
   "source": [
    "##幂运算\n",
    "for i in range(10):\n",
    "    a=pow(3,i)\n",
    "    print(a)\n",
    "print()"
   ]
  },
  {
   "cell_type": "code",
   "execution_count": 15,
   "metadata": {},
   "outputs": [
    {
     "name": "stdout",
     "output_type": "stream",
     "text": [
      "1.4142\n",
      "1.7321\n",
      "2.0000\n",
      "2.2361\n",
      "2.4495\n",
      "2.6458\n",
      "2.8284\n",
      "3.0000\n",
      "3.1623\n",
      "3.3166\n",
      "3.4641\n",
      "3.6056\n",
      "3.7417\n",
      "3.8730\n",
      "4.0000\n",
      "4.1231\n",
      "4.2426\n",
      "4.3589\n",
      "\n"
     ]
    }
   ],
   "source": [
    "##开方运算\n",
    "import math\n",
    "for i in range(2,20):\n",
    "    a=math.sqrt(i)\n",
    "    print('%5.4f'% a)\n",
    "print()"
   ]
  },
  {
   "cell_type": "code",
   "execution_count": 42,
   "metadata": {},
   "outputs": [
    {
     "name": "stdout",
     "output_type": "stream",
     "text": [
      "100\n",
      "99\n",
      "0\n"
     ]
    }
   ],
   "source": [
    "#犹豫我在之前设置了list变量，因此后面就不能使用list函数来构造列表了，很坑爹\n",
    "#取消变量的方式为del list\n",
    "#del list\n",
    "L1=list(range(100))\n",
    "print(len(L1))  #len()函数能够直接返回列表长度，不用遍历列表\n",
    "print(max(L1))\n",
    "print(min(L1))"
   ]
  },
  {
   "cell_type": "code",
   "execution_count": 45,
   "metadata": {},
   "outputs": [
    {
     "name": "stdout",
     "output_type": "stream",
     "text": [
      "abc\n"
     ]
    }
   ],
   "source": [
    "ls3 = [2, 'ab', [3, 'abc'], (5, 30, 50)] \n",
    "print(ls3[2][1])"
   ]
  },
  {
   "cell_type": "code",
   "execution_count": 46,
   "metadata": {},
   "outputs": [
    {
     "data": {
      "text/plain": [
       "[2, 'ab', [3, 'abc'], (5, 30, 50)]"
      ]
     },
     "execution_count": 46,
     "metadata": {},
     "output_type": "execute_result"
    }
   ],
   "source": [
    "ls3"
   ]
  },
  {
   "cell_type": "code",
   "execution_count": 55,
   "metadata": {},
   "outputs": [
    {
     "data": {
      "text/plain": [
       "2"
      ]
     },
     "execution_count": 55,
     "metadata": {},
     "output_type": "execute_result"
    }
   ],
   "source": [
    "ls3.index([3,'abc'],2)"
   ]
  },
  {
   "cell_type": "code",
   "execution_count": 58,
   "metadata": {},
   "outputs": [
    {
     "data": {
      "text/plain": [
       "1"
      ]
     },
     "execution_count": 58,
     "metadata": {},
     "output_type": "execute_result"
    }
   ],
   "source": [
    "ls3.index('ab')"
   ]
  },
  {
   "cell_type": "code",
   "execution_count": 61,
   "metadata": {},
   "outputs": [
    {
     "data": {
      "text/plain": [
       "3"
      ]
     },
     "execution_count": 61,
     "metadata": {},
     "output_type": "execute_result"
    }
   ],
   "source": [
    "ls3.index((5,30,50))"
   ]
  },
  {
   "cell_type": "code",
   "execution_count": 62,
   "metadata": {},
   "outputs": [],
   "source": [
    "ls3.extend(range(1,10))"
   ]
  },
  {
   "cell_type": "code",
   "execution_count": 63,
   "metadata": {},
   "outputs": [
    {
     "data": {
      "text/plain": [
       "[2, 'ab', [3, 'abc'], (5, 30, 50), 1, 2, 3, 4, 5, 6, 7, 8, 9]"
      ]
     },
     "execution_count": 63,
     "metadata": {},
     "output_type": "execute_result"
    }
   ],
   "source": [
    "ls3"
   ]
  },
  {
   "cell_type": "code",
   "execution_count": 64,
   "metadata": {},
   "outputs": [],
   "source": [
    "ls4=list()"
   ]
  },
  {
   "cell_type": "code",
   "execution_count": 65,
   "metadata": {},
   "outputs": [
    {
     "data": {
      "text/plain": [
       "[]"
      ]
     },
     "execution_count": 65,
     "metadata": {},
     "output_type": "execute_result"
    }
   ],
   "source": [
    "ls4"
   ]
  },
  {
   "cell_type": "code",
   "execution_count": 67,
   "metadata": {},
   "outputs": [
    {
     "data": {
      "text/plain": [
       "[100, 1, 1, 1]"
      ]
     },
     "execution_count": 67,
     "metadata": {},
     "output_type": "execute_result"
    }
   ],
   "source": [
    "ls5=[1]*4\n",
    "ls5[0]=100\n",
    "ls5"
   ]
  },
  {
   "cell_type": "code",
   "execution_count": 73,
   "metadata": {},
   "outputs": [
    {
     "data": {
      "text/plain": [
       "[[2], 200, [2], [2]]"
      ]
     },
     "execution_count": 73,
     "metadata": {},
     "output_type": "execute_result"
    }
   ],
   "source": [
    "ls6=[[1]]*4          #修改引用类型下的下的元素并不会修改引用类型的内存地址，因此这样就会修改所有与这个引用类型地址相同的引用类型\n",
    "ls6[0][0]=100\n",
    "ls6[1]=200\n",
    "ls6[2][0]=2\n",
    "ls6"
   ]
  },
  {
   "cell_type": "code",
   "execution_count": 95,
   "metadata": {},
   "outputs": [
    {
     "name": "stdout",
     "output_type": "stream",
     "text": [
      "8\n",
      "7\n",
      "6\n",
      "5\n",
      "4\n",
      "3\n",
      "2\n",
      "1\n",
      "0\n"
     ]
    }
   ],
   "source": [
    "list1=list(range(9))\n",
    "# print(list1)\n",
    "for j in range(-1,-10,-1):\n",
    "    print(list1[j])"
   ]
  },
  {
   "cell_type": "code",
   "execution_count": 104,
   "metadata": {},
   "outputs": [
    {
     "name": "stdout",
     "output_type": "stream",
     "text": [
      "True\n",
      "[0, 1, 100, 3, 4, 5, 6, 7, 8]\n"
     ]
    }
   ],
   "source": [
    "ls7=list1      #引用\n",
    "ls7[2]=100\n",
    "print(ls7==list1)\n",
    "print(list1)"
   ]
  },
  {
   "cell_type": "code",
   "execution_count": 105,
   "metadata": {},
   "outputs": [
    {
     "name": "stdout",
     "output_type": "stream",
     "text": [
      "True\n",
      "False\n"
     ]
    }
   ],
   "source": [
    "a = list(range(4))   ##浅拷贝\n",
    "b = a.copy()\n",
    "print(a == b)\n",
    "a[2] = 10\n",
    "print(a == b)"
   ]
  },
  {
   "cell_type": "code",
   "execution_count": 109,
   "metadata": {},
   "outputs": [
    {
     "name": "stdout",
     "output_type": "stream",
     "text": [
      "True\n",
      "False\n",
      "True\n",
      "True\n",
      "[1, [2, 100, 4], 5]\n",
      "[1, [2, 100, 4], 5]\n"
     ]
    }
   ],
   "source": [
    "a = [1, [2, 3, 4], 5]\n",
    "b = a.copy()\n",
    "print(a == b)\n",
    "a[2] = 10\n",
    "print(a == b)\n",
    "a[2] = b[2]\n",
    "print(a == b)\n",
    "a[1][1] = 100\n",
    "print(a == b)\n",
    "print(a)\n",
    "print(b)"
   ]
  },
  {
   "cell_type": "code",
   "execution_count": 113,
   "metadata": {},
   "outputs": [
    {
     "name": "stdout",
     "output_type": "stream",
     "text": [
      "False\n",
      "[1, [2, 100, 4], 5]\n",
      "[1, [2, 50, 4], 5]\n"
     ]
    }
   ],
   "source": [
    "import copy\n",
    "c = copy.deepcopy(a)\n",
    "c[1][1] = 50\n",
    "print(a == c)\n",
    "print(a)\n",
    "print(c)"
   ]
  },
  {
   "cell_type": "code",
   "execution_count": 115,
   "metadata": {},
   "outputs": [
    {
     "name": "stdout",
     "output_type": "stream",
     "text": [
      "in the bar..\n",
      "in the foo..\n"
     ]
    }
   ],
   "source": [
    "def bar():\n",
    "    print(\"in the bar..\")\n",
    "def foo(func):\n",
    "    func()\n",
    "    print(\"in the foo..\")\n",
    "\n",
    "foo(bar)"
   ]
  },
  {
   "cell_type": "code",
   "execution_count": 119,
   "metadata": {},
   "outputs": [
    {
     "name": "stdout",
     "output_type": "stream",
     "text": [
      "2\n",
      "1\n"
     ]
    }
   ],
   "source": [
    "import sys\n",
    "y=1\n",
    "print(sys.getrefcount(x))\n",
    "print(sys.getrefcount([]))"
   ]
  },
  {
   "cell_type": "code",
   "execution_count": 123,
   "metadata": {},
   "outputs": [
    {
     "name": "stdout",
     "output_type": "stream",
     "text": [
      "1\n",
      "6\n",
      "5\n",
      "3\n",
      "5\n",
      "5\n",
      "4\n",
      "6\n",
      "1\n",
      "4\n",
      "------------------------------\n",
      "3\n",
      "4\n",
      "3\n",
      "4\n",
      "1\n",
      "2\n",
      "4\n",
      "4\n",
      "1\n",
      "2\n",
      "------------------------------\n"
     ]
    }
   ],
   "source": [
    "import random\n",
    "for i in range(10):\n",
    "    print(random.randint(1,6))\n",
    "print('-'*30)\n",
    "for i in range(10):\n",
    "    print(random.randrange(1, 5))\n",
    "print('-' * 30)"
   ]
  },
  {
   "cell_type": "code",
   "execution_count": 124,
   "metadata": {},
   "outputs": [
    {
     "data": {
      "text/plain": [
       "(1, 1, 1, 1, 1)"
      ]
     },
     "execution_count": 124,
     "metadata": {},
     "output_type": "execute_result"
    }
   ],
   "source": [
    "t3 = (1,) * 5\n",
    "t3"
   ]
  },
  {
   "cell_type": "code",
   "execution_count": 128,
   "metadata": {},
   "outputs": [
    {
     "name": "stdout",
     "output_type": "stream",
     "text": [
      "([1], [1], [1])\n"
     ]
    },
    {
     "data": {
      "text/plain": [
       "([100], [100], [100])"
      ]
     },
     "execution_count": 128,
     "metadata": {},
     "output_type": "execute_result"
    }
   ],
   "source": [
    "t2 = ([1],) * 3\n",
    "print(t2)\n",
    "t2[1][0] = 100\n",
    "t2"
   ]
  },
  {
   "cell_type": "code",
   "execution_count": 132,
   "metadata": {},
   "outputs": [
    {
     "name": "stdout",
     "output_type": "stream",
     "text": [
      "hello !\n",
      "magedu.com\n"
     ]
    }
   ],
   "source": [
    "s5 = \"hello !\\nmagedu.com\"\n",
    "print(s5)"
   ]
  },
  {
   "cell_type": "code",
   "execution_count": null,
   "metadata": {},
   "outputs": [],
   "source": []
  }
 ],
 "metadata": {
  "kernelspec": {
   "display_name": "Python 3",
   "language": "python",
   "name": "python3"
  },
  "language_info": {
   "codemirror_mode": {
    "name": "ipython",
    "version": 3
   },
   "file_extension": ".py",
   "mimetype": "text/x-python",
   "name": "python",
   "nbconvert_exporter": "python",
   "pygments_lexer": "ipython3",
   "version": "3.6.9"
  }
 },
 "nbformat": 4,
 "nbformat_minor": 2
}
