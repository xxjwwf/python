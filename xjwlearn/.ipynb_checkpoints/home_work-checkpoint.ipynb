{
 "cells": [
  {
   "cell_type": "code",
   "execution_count": 24,
   "metadata": {},
   "outputs": [
    {
     "name": "stdout",
     "output_type": "stream",
     "text": [
      "[('re', 2), ('sm', 2), ('ba', 2), ('pk', 2), ('ns', 2), ('wo', 2), ('fc', 2), ('rh', 2), ('uc', 2), ('xa', 1), ('xp', 1), ('gh', 1), ('ck', 1), ('qc', 1), ('pt', 1), ('tl', 1), ('ir', 1), ('vw', 1), ('ow', 1), ('mo', 1), ('zy', 1), ('po', 1), ('xi', 1), ('iy', 1), ('tv', 1), ('vj', 1), ('wj', 1), ('vs', 1), ('ou', 1), ('bd', 1), ('sk', 1), ('pf', 1), ('kd', 1), ('vk', 1), ('ua', 1), ('ia', 1), ('rn', 1), ('cu', 1), ('ps', 1), ('ti', 1), ('kz', 1), ('zj', 1), ('dl', 1), ('pm', 1), ('ft', 1), ('jo', 1), ('sn', 1), ('tg', 1), ('gc', 1), ('ve', 1), ('hy', 1), ('py', 1), ('bo', 1), ('yj', 1), ('dv', 1), ('xh', 1), ('vo', 1), ('tk', 1), ('do', 1), ('lk', 1), ('gp', 1), ('uk', 1), ('qf', 1), ('kg', 1), ('eu', 1), ('rj', 1), ('at', 1), ('nu', 1), ('um', 1), ('ea', 1), ('sh', 1), ('nj', 1), ('af', 1), ('yt', 1), ('rm', 1), ('mr', 1), ('ax', 1), ('dc', 1), ('lr', 1), ('te', 1), ('ip', 1), ('bv', 1), ('dj', 1), ('zq', 1), ('ma', 1), ('jp', 1), ('pq', 1), ('kc', 1), ('ey', 1), ('bl', 1), ('dm', 1)]\n"
     ]
    }
   ],
   "source": [
    "import random\n",
    "L1=[]\n",
    "sort_dict={}\n",
    "for i in range(100):\n",
    "    str1=''.join(random.sample(['a', 'b', 'c', 'd', 'e', 'f', 'g', 'h', 'i', 'j', 'k', 'l', 'm', 'n', 'o', 'p', 'q', 'r', 's', 't', 'u', 'v', 'w', 'x', 'y', 'z'],2))\n",
    "    L1.append(str1)\n",
    "for j in L1:              ##统计列表中的数据并导入至字典，重复的数据value加1\n",
    "    if j in sort_dict:\n",
    "        sort_dict[j]+=1\n",
    "    else:\n",
    "        sort_dict[j]=1\n",
    "L2 = sorted(sort_dict.items(),key=lambda sort_dict:sort_dict[1],reverse=True)\n",
    "print(L2)\n",
    "\n",
    "####################将相同的元素分别放入不同的集合，然后使用集合的交集运算这样就可以直接得出重复次数最大的字符串(这样比较耗资源，弃用)\n",
    "####################建立新列表，列表中的元素都是子列表，有相同的元素就添加至列表，最后求列表的长度\n"
   ]
  },
  {
   "cell_type": "code",
   "execution_count": 16,
   "metadata": {},
   "outputs": [
    {
     "data": {
      "text/plain": [
       "{'aaa': 2}"
      ]
     },
     "execution_count": 16,
     "metadata": {},
     "output_type": "execute_result"
    }
   ],
   "source": [
    "d1={'aaa':1}\n",
    "d1['aaa']=2\n",
    "d1"
   ]
  },
  {
   "cell_type": "code",
   "execution_count": 174,
   "metadata": {},
   "outputs": [
    {
     "name": "stdout",
     "output_type": "stream",
     "text": [
      "{'in': 2, 'qy': 1, 'or': 1, 'il': 1, 'th': 2, 'us': 1, 'ib': 1, 'vp': 1, 'qf': 1, 'ry': 1, 'tp': 1, 'pd': 1, 'jc': 1, 'rv': 1, 'gb': 1, 'vl': 1, 'mg': 1, 'gn': 1, 'aq': 1, 'zr': 1, 'oj': 1, 'mu': 2, 'by': 1, 'tl': 1, 'cd': 1, 'px': 2, 'nt': 1, 'fl': 1, 'la': 1, 'yq': 1, 'sq': 1, 'eo': 1, 'he': 1, 'yg': 1, 'pj': 2, 'dh': 1, 'ty': 1, 'yh': 1, 'mh': 1, 'xr': 1, 'pi': 1, 'rj': 1, 'ei': 1, 'pg': 1, 'om': 1, 'rm': 1, 'kr': 1, 'zy': 1, 'hp': 2, 'gr': 1, 'xq': 1, 'my': 1, 'md': 1, 'uz': 1, 'mj': 1, 'ck': 1, 'bp': 1, 'al': 1, 'oe': 1, 'fy': 1, 'bc': 1, 'dj': 1, 'lo': 1, 'wr': 1, 'jh': 1, 'xd': 1, 'xh': 1, 'kj': 1, 'su': 1, 'xg': 1, 'ap': 1, 'qw': 1, 'ws': 1, 'bs': 1, 'ql': 1, 'wk': 1, 'ze': 1, 'ni': 1, 'vc': 2, 'ow': 1, 'hw': 1, 'fu': 1, 'er': 1, 'ya': 1, 'ut': 1, 'zw': 1, 'rd': 1, 'vb': 1, 'oi': 1, 'vx': 1, 'ji': 1, 'ri': 1, 'rc': 1}\n",
      "93\n",
      "[('in', 2), ('th', 2), ('mu', 2), ('px', 2), ('pj', 2), ('hp', 2), ('vc', 2), ('qy', 1), ('or', 1), ('il', 1), ('us', 1), ('ib', 1), ('vp', 1), ('qf', 1), ('ry', 1), ('tp', 1), ('pd', 1), ('jc', 1), ('rv', 1), ('gb', 1), ('vl', 1), ('mg', 1), ('gn', 1), ('aq', 1), ('zr', 1), ('oj', 1), ('by', 1), ('tl', 1), ('cd', 1), ('nt', 1), ('fl', 1), ('la', 1), ('yq', 1), ('sq', 1), ('eo', 1), ('he', 1), ('yg', 1), ('dh', 1), ('ty', 1), ('yh', 1), ('mh', 1), ('xr', 1), ('pi', 1), ('rj', 1), ('ei', 1), ('pg', 1), ('om', 1), ('rm', 1), ('kr', 1), ('zy', 1), ('gr', 1), ('xq', 1), ('my', 1), ('md', 1), ('uz', 1), ('mj', 1), ('ck', 1), ('bp', 1), ('al', 1), ('oe', 1), ('fy', 1), ('bc', 1), ('dj', 1), ('lo', 1), ('wr', 1), ('jh', 1), ('xd', 1), ('xh', 1), ('kj', 1), ('su', 1), ('xg', 1), ('ap', 1), ('qw', 1), ('ws', 1), ('bs', 1), ('ql', 1), ('wk', 1), ('ze', 1), ('ni', 1), ('ow', 1), ('hw', 1), ('fu', 1), ('er', 1), ('ya', 1), ('ut', 1), ('zw', 1), ('rd', 1), ('vb', 1), ('oi', 1), ('vx', 1), ('ji', 1), ('ri', 1), ('rc', 1)]\n"
     ]
    }
   ],
   "source": [
    "L1=[]\n",
    "sort_dict={}\n",
    "for i in range(100):\n",
    "    str1=''.join(random.sample(['a', 'b', 'c', 'd', 'e', 'f', 'g', 'h', 'i', 'j', 'k', 'l', 'm', 'n', 'o', 'p', 'q', 'r', 's', 't', 'u', 'v', 'w', 'x', 'y', 'z'],2))\n",
    "    if str1 not in sort_dict:\n",
    "        sort_dict[str1]=1\n",
    "    else:\n",
    "        sort_dict[str1]+=1\n",
    "L2 = sorted(sort_dict.items(),key=lambda sort_dict:sort_dict[1],reverse=True)\n",
    "print(L2)       \n",
    "# sort_dict=dict.fromkeys(L1,1)  #不重复导入数据\n",
    "# sort_dict2={j:sort_dict[j]+2 for j in L1 if j in sort_dict }  ##生成式右边先执行，因此所有的元素都会加1\n",
    "# sort_dict={j:1 for j in L1 if j not in sort_dict}\n",
    "# print(sort_dict)\n",
    "# L2 = sorted(sort_dict.items(),key=lambda sort_dict:sort_dict[1],reverse=True)\n",
    "# print(len(L2))"
   ]
  },
  {
   "cell_type": "code",
   "execution_count": 93,
   "metadata": {},
   "outputs": [
    {
     "name": "stdout",
     "output_type": "stream",
     "text": [
      "['000001.zoklqvafgn', '000002.mynupsahqj', '000003.ycsfalzuoe', '000004.lseybqhzjk', '000005.nrgvpcbjed', '000006.axbdsrjvgk', '000007.kraxhjqzbc', '000008.yehkvpgwsf', '000009.ltewxnmifv', '000010.navwcqfmyk', '000011.prbxgdhtko', '000012.pksnxrlguc', '000013.zrjlqypkms', '000014.lsjyqcuozv', '000015.dcmusikeab', '000016.idahtpmrwc', '000017.xqbeosdrky', '000018.qjxyehcmis', '000019.rcnowpyivq', '000020.ezvajlrkfn', '000021.fnxjlrwumg', '000022.boxeyqintv', '000023.oefwcbdgiy', '000024.oitlwrcqjb', '000025.fpgxuybtma', '000026.gshzxkonqb', '000027.azhogkpbvx', '000028.plrudfngqm', '000029.ewihxufqps', '000030.rwbytjfiag', '000031.txihclynsg', '000032.wesmgjvfbo', '000033.ivfjatdcpx', '000034.kzlxwqtofp', '000035.nvimcshxet', '000036.cnptyzvfrg', '000037.xicuabmrnq', '000038.npqkjbiroe', '000039.rjknpbaioq', '000040.tnpwixqkau', '000041.ihpwgasmxu', '000042.qehxkuondc', '000043.ewicplvurq', '000044.lxhizrswkt', '000045.nmjwobvtky', '000046.ucovbqnzik', '000047.qndhgterzm', '000048.refpxzihvy', '000049.pqctguswmj', '000050.ekhsyubnxj', '000051.sebfrupzhn', '000052.hvxsbizldt', '000053.diyuhfqxjb', '000054.zgsjcrifbu', '000055.exwaqdujkc', '000056.fieqwcythz', '000057.clfqdoxurm', '000058.kchtbfyveg', '000059.fhnegqlacs', '000060.wrsxtloyvn', '000061.xoldrvecpb', '000062.qhujicxrdl', '000063.fkmrtzojsw', '000064.trkdxcgnea', '000065.gdektajxys', '000066.lsrnfqmwxj', '000067.bjmclrweau', '000068.uqmskpyrnl', '000069.rixhulgdzk', '000070.nckxteizju', '000071.endfbxhwyl', '000072.cmwyfluasq', '000073.xbtplivjgs', '000074.qprzdxfnab', '000075.cdytswjqvf', '000076.zsubeklvcy', '000077.ntbhmvxaij', '000078.jgboptlyaz', '000079.vmcpwhtfzy', '000080.negktcdaux', '000081.becqmxtsfa', '000082.wuvnyhozmj', '000083.krxzwqfpeh', '000084.xradjmiuvg', '000085.zwlmoivsun', '000086.fnosraxgtu', '000087.rfcnwmgzuy', '000088.xjevbwtyng', '000089.fyaoenvshg', '000090.ygazujetpx', '000091.eqrbahuclz', '000092.ilgwmpeuas', '000093.nomedwzryg', '000094.dnizosujce', '000095.ulsoevzymp', '000096.laxpyhgcbk', '000097.nxeflvbacg', '000098.ihdtvkzfuj', '000099.cgwnmqjbfu', '000100.rkfpdzmnsw']\n"
     ]
    }
   ],
   "source": [
    "L1=[]\n",
    "for i in range(1,101):\n",
    "    str1='%.06d' % i\n",
    "    str2=''.join(random.sample(['a', 'b', 'c', 'd', 'e', 'f', 'g', 'h', 'i', 'j', 'k', 'l', 'm', 'n', 'o', 'p', 'q', 'r', 's', 't', 'u', 'v', 'w', 'x', 'y', 'z'],10))\n",
    "    L1.append('{}.{}'.format(str1,str2))\n",
    "print(L1)"
   ]
  },
  {
   "cell_type": "code",
   "execution_count": 101,
   "metadata": {},
   "outputs": [
    {
     "name": "stdout",
     "output_type": "stream",
     "text": [
      "{17: 1, 5: 2, 4: 2, 21: 3, 13: 4, 8: 1, 1: 3, 12: 2, 6: 1, 14: 1}\n"
     ]
    }
   ],
   "source": [
    "L1=[]\n",
    "D1={}\n",
    "for i in range(20):\n",
    "    L1.append(random.randint(1,21))\n",
    "for j in L1: \n",
    "    if j in D1:\n",
    "        D1[j]+=1\n",
    "    else:\n",
    "        D1[j]=1\n",
    "print(D1)"
   ]
  },
  {
   "cell_type": "code",
   "execution_count": 117,
   "metadata": {},
   "outputs": [
    {
     "name": "stdout",
     "output_type": "stream",
     "text": [
      "{'x': 2, 'y': 2, 'z': 2}\n"
     ]
    }
   ],
   "source": [
    "# sort_dict={}\n",
    "L1=['x','y','z','x']\n",
    "sort_dict={a:1 if a not in sort_dict else sort_dict[a]+1 for a in L1 }\n",
    "print(sort_dict)"
   ]
  },
  {
   "cell_type": "code",
   "execution_count": 163,
   "metadata": {},
   "outputs": [
    {
     "data": {
      "text/plain": [
       "{3}"
      ]
     },
     "execution_count": 163,
     "metadata": {},
     "output_type": "execute_result"
    }
   ],
   "source": [
    "{i+2 for i in [1,1,1,1,1,1]}"
   ]
  },
  {
   "cell_type": "code",
   "execution_count": null,
   "metadata": {},
   "outputs": [],
   "source": []
  }
 ],
 "metadata": {
  "kernelspec": {
   "display_name": "Python 3",
   "language": "python",
   "name": "python3"
  },
  "language_info": {
   "codemirror_mode": {
    "name": "ipython",
    "version": 3
   },
   "file_extension": ".py",
   "mimetype": "text/x-python",
   "name": "python",
   "nbconvert_exporter": "python",
   "pygments_lexer": "ipython3",
   "version": "3.6.9"
  }
 },
 "nbformat": 4,
 "nbformat_minor": 2
}
